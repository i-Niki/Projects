{
 "cells": [
  {
   "cell_type": "markdown",
   "metadata": {
    "toc": true
   },
   "source": [
    "<h1>Содержание<span class=\"tocSkip\"></span></h1>\n",
    "<div class=\"toc\"><ul class=\"toc-item\"><li><span><a href=\"#Подготовка-данных\" data-toc-modified-id=\"Подготовка-данных-1\"><span class=\"toc-item-num\">1&nbsp;&nbsp;</span>Подготовка данных</a></span></li><li><span><a href=\"#Исследование-задачи\" data-toc-modified-id=\"Исследование-задачи-2\"><span class=\"toc-item-num\">2&nbsp;&nbsp;</span>Исследование задачи</a></span><ul class=\"toc-item\"><li><span><a href=\"#Вывод\" data-toc-modified-id=\"Вывод-2.1\"><span class=\"toc-item-num\">2.1&nbsp;&nbsp;</span>Вывод</a></span></li></ul></li><li><span><a href=\"#Борьба-с-дисбалансом\" data-toc-modified-id=\"Борьба-с-дисбалансом-3\"><span class=\"toc-item-num\">3&nbsp;&nbsp;</span>Борьба с дисбалансом</a></span></li><li><span><a href=\"#Тестирование-модели\" data-toc-modified-id=\"Тестирование-модели-4\"><span class=\"toc-item-num\">4&nbsp;&nbsp;</span>Тестирование модели</a></span><ul class=\"toc-item\"><li><span><a href=\"#Вывод\" data-toc-modified-id=\"Вывод-4.1\"><span class=\"toc-item-num\">4.1&nbsp;&nbsp;</span>Вывод</a></span></li></ul></li><li><span><a href=\"#-Комментарий-ревьюера\" data-toc-modified-id=\"-Комментарий-ревьюера-5\"><span class=\"toc-item-num\">5&nbsp;&nbsp;</span> Комментарий ревьюера</a></span></li><li><span><a href=\"#Общий-вывод\" data-toc-modified-id=\"Общий-вывод-6\"><span class=\"toc-item-num\">6&nbsp;&nbsp;</span>Общий вывод</a></span></li><li><span><a href=\"#Чек-лист-готовности-проекта\" data-toc-modified-id=\"Чек-лист-готовности-проекта-7\"><span class=\"toc-item-num\">7&nbsp;&nbsp;</span>Чек-лист готовности проекта</a></span></li></ul></div>"
   ]
  },
  {
   "cell_type": "markdown",
   "metadata": {},
   "source": [
    "# Отток клиентов"
   ]
  },
  {
   "cell_type": "markdown",
   "metadata": {},
   "source": [
    "Из «Василий-Банка» стали уходить клиенты. Банковские маркетологи посчитали: сохранять текущих клиентов дешевле, чем привлекать новых.\n",
    "\n",
    "Нужно спрогнозировать, уйдёт клиент из банка в ближайшее время или нет. Вам предоставлены исторические данные о поведении клиентов и расторжении договоров с банком. \n",
    "\n",
    "Источник данных: [https://www.kaggle.com/barelydedicated/bank-customer-churn-modeling](https://www.kaggle.com/barelydedicated/bank-customer-churn-modeling)"
   ]
  },
  {
   "cell_type": "markdown",
   "metadata": {},
   "source": [
    "## Подготовка данных"
   ]
  },
  {
   "cell_type": "code",
   "execution_count": 12,
   "metadata": {},
   "outputs": [
    {
     "name": "stdout",
     "output_type": "stream",
     "text": [
      "Requirement already up-to-date: scikit-learn in c:\\users\\vasni\\anaconda3\\lib\\site-packages (0.24.2)\n",
      "Requirement already satisfied, skipping upgrade: joblib>=0.11 in c:\\users\\vasni\\anaconda3\\lib\\site-packages (from scikit-learn) (0.13.2)\n",
      "Requirement already satisfied, skipping upgrade: scipy>=0.19.1 in c:\\users\\vasni\\anaconda3\\lib\\site-packages (from scikit-learn) (1.3.1)\n",
      "Requirement already satisfied, skipping upgrade: threadpoolctl>=2.0.0 in c:\\users\\vasni\\anaconda3\\lib\\site-packages (from scikit-learn) (2.2.0)\n",
      "Requirement already satisfied, skipping upgrade: numpy>=1.13.3 in c:\\users\\vasni\\anaconda3\\lib\\site-packages (from scikit-learn) (1.16.5)\n"
     ]
    }
   ],
   "source": [
    "!pip install scikit-learn -U"
   ]
  },
  {
   "cell_type": "code",
   "execution_count": 13,
   "metadata": {},
   "outputs": [
    {
     "name": "stdout",
     "output_type": "stream",
     "text": [
      "Requirement already up-to-date: sklearn in c:\\users\\vasni\\anaconda3\\lib\\site-packages (0.0)\n",
      "Requirement already satisfied, skipping upgrade: scikit-learn in c:\\users\\vasni\\anaconda3\\lib\\site-packages (from sklearn) (0.24.2)\n",
      "Requirement already satisfied, skipping upgrade: threadpoolctl>=2.0.0 in c:\\users\\vasni\\anaconda3\\lib\\site-packages (from scikit-learn->sklearn) (2.2.0)\n",
      "Requirement already satisfied, skipping upgrade: joblib>=0.11 in c:\\users\\vasni\\anaconda3\\lib\\site-packages (from scikit-learn->sklearn) (0.13.2)\n",
      "Requirement already satisfied, skipping upgrade: scipy>=0.19.1 in c:\\users\\vasni\\anaconda3\\lib\\site-packages (from scikit-learn->sklearn) (1.3.1)\n",
      "Requirement already satisfied, skipping upgrade: numpy>=1.13.3 in c:\\users\\vasni\\anaconda3\\lib\\site-packages (from scikit-learn->sklearn) (1.16.5)\n"
     ]
    }
   ],
   "source": [
    "!pip install sklearn -U"
   ]
  },
  {
   "cell_type": "code",
   "execution_count": 14,
   "metadata": {},
   "outputs": [
    {
     "name": "stdout",
     "output_type": "stream",
     "text": [
      "Requirement already up-to-date: imblearn in c:\\users\\vasni\\anaconda3\\lib\\site-packages (0.0)\n",
      "Requirement already satisfied, skipping upgrade: imbalanced-learn in c:\\users\\vasni\\anaconda3\\lib\\site-packages (from imblearn) (0.8.0)\n",
      "Requirement already satisfied, skipping upgrade: joblib>=0.11 in c:\\users\\vasni\\anaconda3\\lib\\site-packages (from imbalanced-learn->imblearn) (0.13.2)\n",
      "Requirement already satisfied, skipping upgrade: scipy>=0.19.1 in c:\\users\\vasni\\anaconda3\\lib\\site-packages (from imbalanced-learn->imblearn) (1.3.1)\n",
      "Requirement already satisfied, skipping upgrade: numpy>=1.13.3 in c:\\users\\vasni\\anaconda3\\lib\\site-packages (from imbalanced-learn->imblearn) (1.16.5)\n",
      "Requirement already satisfied, skipping upgrade: scikit-learn>=0.24 in c:\\users\\vasni\\anaconda3\\lib\\site-packages (from imbalanced-learn->imblearn) (0.24.2)\n",
      "Requirement already satisfied, skipping upgrade: threadpoolctl>=2.0.0 in c:\\users\\vasni\\anaconda3\\lib\\site-packages (from scikit-learn>=0.24->imbalanced-learn->imblearn) (2.2.0)\n"
     ]
    }
   ],
   "source": [
    "!pip install imblearn -U"
   ]
  },
  {
   "cell_type": "code",
   "execution_count": 15,
   "metadata": {},
   "outputs": [],
   "source": [
    "import sys"
   ]
  },
  {
   "cell_type": "code",
   "execution_count": 17,
   "metadata": {},
   "outputs": [],
   "source": [
    "import pandas as pd\n",
    "import matplotlib.pyplot as plt\n",
    "import numpy as np\n",
    "from sklearn.model_selection import train_test_split\n",
    "from sklearn.ensemble import RandomForestClassifier\n",
    "from sklearn.naive_bayes import GaussianNB\n",
    "from sklearn.linear_model import LogisticRegression\n",
    "from sklearn.model_selection import GridSearchCV\n",
    "from sklearn.metrics import accuracy_score\n",
    "from sklearn.metrics import f1_score\n",
    "from sklearn.utils import shuffle\n",
    "from sklearn.preprocessing import StandardScaler \n",
    "from sklearn.metrics import roc_auc_score\n",
    "from imblearn.over_sampling import SMOTE\n",
    "from imblearn import under_sampling, over_sampling\n",
    "from sklearn.pipeline import Pipeline, make_pipeline\n",
    "import random\n",
    "from imblearn.pipeline import make_pipeline"
   ]
  },
  {
   "cell_type": "code",
   "execution_count": 18,
   "metadata": {},
   "outputs": [
    {
     "data": {
      "text/html": [
       "<div>\n",
       "<style scoped>\n",
       "    .dataframe tbody tr th:only-of-type {\n",
       "        vertical-align: middle;\n",
       "    }\n",
       "\n",
       "    .dataframe tbody tr th {\n",
       "        vertical-align: top;\n",
       "    }\n",
       "\n",
       "    .dataframe thead th {\n",
       "        text-align: right;\n",
       "    }\n",
       "</style>\n",
       "<table border=\"1\" class=\"dataframe\">\n",
       "  <thead>\n",
       "    <tr style=\"text-align: right;\">\n",
       "      <th></th>\n",
       "      <th>RowNumber</th>\n",
       "      <th>CustomerId</th>\n",
       "      <th>Surname</th>\n",
       "      <th>CreditScore</th>\n",
       "      <th>Geography</th>\n",
       "      <th>Gender</th>\n",
       "      <th>Age</th>\n",
       "      <th>Tenure</th>\n",
       "      <th>Balance</th>\n",
       "      <th>NumOfProducts</th>\n",
       "      <th>HasCrCard</th>\n",
       "      <th>IsActiveMember</th>\n",
       "      <th>EstimatedSalary</th>\n",
       "      <th>Exited</th>\n",
       "    </tr>\n",
       "  </thead>\n",
       "  <tbody>\n",
       "    <tr>\n",
       "      <td>0</td>\n",
       "      <td>1</td>\n",
       "      <td>15634602</td>\n",
       "      <td>Hargrave</td>\n",
       "      <td>619</td>\n",
       "      <td>France</td>\n",
       "      <td>Female</td>\n",
       "      <td>42</td>\n",
       "      <td>2.0</td>\n",
       "      <td>0.00</td>\n",
       "      <td>1</td>\n",
       "      <td>1</td>\n",
       "      <td>1</td>\n",
       "      <td>101348.88</td>\n",
       "      <td>1</td>\n",
       "    </tr>\n",
       "    <tr>\n",
       "      <td>1</td>\n",
       "      <td>2</td>\n",
       "      <td>15647311</td>\n",
       "      <td>Hill</td>\n",
       "      <td>608</td>\n",
       "      <td>Spain</td>\n",
       "      <td>Female</td>\n",
       "      <td>41</td>\n",
       "      <td>1.0</td>\n",
       "      <td>83807.86</td>\n",
       "      <td>1</td>\n",
       "      <td>0</td>\n",
       "      <td>1</td>\n",
       "      <td>112542.58</td>\n",
       "      <td>0</td>\n",
       "    </tr>\n",
       "    <tr>\n",
       "      <td>2</td>\n",
       "      <td>3</td>\n",
       "      <td>15619304</td>\n",
       "      <td>Onio</td>\n",
       "      <td>502</td>\n",
       "      <td>France</td>\n",
       "      <td>Female</td>\n",
       "      <td>42</td>\n",
       "      <td>8.0</td>\n",
       "      <td>159660.80</td>\n",
       "      <td>3</td>\n",
       "      <td>1</td>\n",
       "      <td>0</td>\n",
       "      <td>113931.57</td>\n",
       "      <td>1</td>\n",
       "    </tr>\n",
       "    <tr>\n",
       "      <td>3</td>\n",
       "      <td>4</td>\n",
       "      <td>15701354</td>\n",
       "      <td>Boni</td>\n",
       "      <td>699</td>\n",
       "      <td>France</td>\n",
       "      <td>Female</td>\n",
       "      <td>39</td>\n",
       "      <td>1.0</td>\n",
       "      <td>0.00</td>\n",
       "      <td>2</td>\n",
       "      <td>0</td>\n",
       "      <td>0</td>\n",
       "      <td>93826.63</td>\n",
       "      <td>0</td>\n",
       "    </tr>\n",
       "    <tr>\n",
       "      <td>4</td>\n",
       "      <td>5</td>\n",
       "      <td>15737888</td>\n",
       "      <td>Mitchell</td>\n",
       "      <td>850</td>\n",
       "      <td>Spain</td>\n",
       "      <td>Female</td>\n",
       "      <td>43</td>\n",
       "      <td>2.0</td>\n",
       "      <td>125510.82</td>\n",
       "      <td>1</td>\n",
       "      <td>1</td>\n",
       "      <td>1</td>\n",
       "      <td>79084.10</td>\n",
       "      <td>0</td>\n",
       "    </tr>\n",
       "  </tbody>\n",
       "</table>\n",
       "</div>"
      ],
      "text/plain": [
       "   RowNumber  CustomerId   Surname  CreditScore Geography  Gender  Age  \\\n",
       "0          1    15634602  Hargrave          619    France  Female   42   \n",
       "1          2    15647311      Hill          608     Spain  Female   41   \n",
       "2          3    15619304      Onio          502    France  Female   42   \n",
       "3          4    15701354      Boni          699    France  Female   39   \n",
       "4          5    15737888  Mitchell          850     Spain  Female   43   \n",
       "\n",
       "   Tenure    Balance  NumOfProducts  HasCrCard  IsActiveMember  \\\n",
       "0     2.0       0.00              1          1               1   \n",
       "1     1.0   83807.86              1          0               1   \n",
       "2     8.0  159660.80              3          1               0   \n",
       "3     1.0       0.00              2          0               0   \n",
       "4     2.0  125510.82              1          1               1   \n",
       "\n",
       "   EstimatedSalary  Exited  \n",
       "0        101348.88       1  \n",
       "1        112542.58       0  \n",
       "2        113931.57       1  \n",
       "3         93826.63       0  \n",
       "4         79084.10       0  "
      ]
     },
     "metadata": {},
     "output_type": "display_data"
    },
    {
     "name": "stdout",
     "output_type": "stream",
     "text": [
      "<class 'pandas.core.frame.DataFrame'>\n",
      "RangeIndex: 10000 entries, 0 to 9999\n",
      "Data columns (total 14 columns):\n",
      "RowNumber          10000 non-null int64\n",
      "CustomerId         10000 non-null int64\n",
      "Surname            10000 non-null object\n",
      "CreditScore        10000 non-null int64\n",
      "Geography          10000 non-null object\n",
      "Gender             10000 non-null object\n",
      "Age                10000 non-null int64\n",
      "Tenure             9091 non-null float64\n",
      "Balance            10000 non-null float64\n",
      "NumOfProducts      10000 non-null int64\n",
      "HasCrCard          10000 non-null int64\n",
      "IsActiveMember     10000 non-null int64\n",
      "EstimatedSalary    10000 non-null float64\n",
      "Exited             10000 non-null int64\n",
      "dtypes: float64(3), int64(8), object(3)\n",
      "memory usage: 1.1+ MB\n"
     ]
    },
    {
     "data": {
      "text/plain": [
       "None"
      ]
     },
     "metadata": {},
     "output_type": "display_data"
    },
    {
     "data": {
      "text/plain": [
       "RowNumber          False\n",
       "CustomerId         False\n",
       "Surname            False\n",
       "CreditScore        False\n",
       "Geography          False\n",
       "Gender             False\n",
       "Age                False\n",
       "Tenure              True\n",
       "Balance            False\n",
       "NumOfProducts      False\n",
       "HasCrCard          False\n",
       "IsActiveMember     False\n",
       "EstimatedSalary    False\n",
       "Exited             False\n",
       "dtype: bool"
      ]
     },
     "metadata": {},
     "output_type": "display_data"
    },
    {
     "data": {
      "text/plain": [
       "(10000, 14)"
      ]
     },
     "metadata": {},
     "output_type": "display_data"
    },
    {
     "data": {
      "text/plain": [
       "RowNumber          10000\n",
       "CustomerId         10000\n",
       "Surname             2932\n",
       "CreditScore          460\n",
       "Geography              3\n",
       "Gender                 2\n",
       "Age                   70\n",
       "Tenure                11\n",
       "Balance             6382\n",
       "NumOfProducts          4\n",
       "HasCrCard              2\n",
       "IsActiveMember         2\n",
       "EstimatedSalary     9999\n",
       "Exited                 2\n",
       "dtype: int64"
      ]
     },
     "metadata": {},
     "output_type": "display_data"
    }
   ],
   "source": [
    "bank_data = pd.read_csv(r'C:\\HOME/Churn.csv')\n",
    "display(bank_data.head())\n",
    "display(bank_data.info())\n",
    "display(bank_data.isna().mean() != 0)\n",
    "display(bank_data.shape)\n",
    "display(bank_data.nunique())"
   ]
  },
  {
   "cell_type": "code",
   "execution_count": 19,
   "metadata": {},
   "outputs": [
    {
     "data": {
      "text/html": [
       "<div>\n",
       "<style scoped>\n",
       "    .dataframe tbody tr th:only-of-type {\n",
       "        vertical-align: middle;\n",
       "    }\n",
       "\n",
       "    .dataframe tbody tr th {\n",
       "        vertical-align: top;\n",
       "    }\n",
       "\n",
       "    .dataframe thead th {\n",
       "        text-align: right;\n",
       "    }\n",
       "</style>\n",
       "<table border=\"1\" class=\"dataframe\">\n",
       "  <thead>\n",
       "    <tr style=\"text-align: right;\">\n",
       "      <th></th>\n",
       "      <th>RowNumber</th>\n",
       "      <th>CustomerId</th>\n",
       "      <th>Surname</th>\n",
       "      <th>CreditScore</th>\n",
       "      <th>Geography</th>\n",
       "      <th>Gender</th>\n",
       "      <th>Age</th>\n",
       "      <th>Tenure</th>\n",
       "      <th>Balance</th>\n",
       "      <th>NumOfProducts</th>\n",
       "      <th>HasCrCard</th>\n",
       "      <th>IsActiveMember</th>\n",
       "      <th>EstimatedSalary</th>\n",
       "      <th>Exited</th>\n",
       "    </tr>\n",
       "  </thead>\n",
       "  <tbody>\n",
       "    <tr>\n",
       "      <td>7653</td>\n",
       "      <td>7654</td>\n",
       "      <td>15788215</td>\n",
       "      <td>Hsia</td>\n",
       "      <td>535</td>\n",
       "      <td>Spain</td>\n",
       "      <td>Female</td>\n",
       "      <td>30</td>\n",
       "      <td>NaN</td>\n",
       "      <td>122924.75</td>\n",
       "      <td>1</td>\n",
       "      <td>0</td>\n",
       "      <td>0</td>\n",
       "      <td>62390.59</td>\n",
       "      <td>1</td>\n",
       "    </tr>\n",
       "    <tr>\n",
       "      <td>7865</td>\n",
       "      <td>7866</td>\n",
       "      <td>15748995</td>\n",
       "      <td>Ifeajuna</td>\n",
       "      <td>691</td>\n",
       "      <td>Spain</td>\n",
       "      <td>Male</td>\n",
       "      <td>30</td>\n",
       "      <td>9.0</td>\n",
       "      <td>0.00</td>\n",
       "      <td>2</td>\n",
       "      <td>0</td>\n",
       "      <td>1</td>\n",
       "      <td>10963.04</td>\n",
       "      <td>0</td>\n",
       "    </tr>\n",
       "    <tr>\n",
       "      <td>3226</td>\n",
       "      <td>3227</td>\n",
       "      <td>15796351</td>\n",
       "      <td>Yao</td>\n",
       "      <td>603</td>\n",
       "      <td>Germany</td>\n",
       "      <td>Male</td>\n",
       "      <td>35</td>\n",
       "      <td>1.0</td>\n",
       "      <td>105346.03</td>\n",
       "      <td>2</td>\n",
       "      <td>1</td>\n",
       "      <td>1</td>\n",
       "      <td>130379.50</td>\n",
       "      <td>0</td>\n",
       "    </tr>\n",
       "    <tr>\n",
       "      <td>5912</td>\n",
       "      <td>5913</td>\n",
       "      <td>15715414</td>\n",
       "      <td>White</td>\n",
       "      <td>658</td>\n",
       "      <td>France</td>\n",
       "      <td>Female</td>\n",
       "      <td>38</td>\n",
       "      <td>6.0</td>\n",
       "      <td>102895.10</td>\n",
       "      <td>1</td>\n",
       "      <td>0</td>\n",
       "      <td>0</td>\n",
       "      <td>155665.76</td>\n",
       "      <td>0</td>\n",
       "    </tr>\n",
       "    <tr>\n",
       "      <td>8237</td>\n",
       "      <td>8238</td>\n",
       "      <td>15737275</td>\n",
       "      <td>Conti</td>\n",
       "      <td>649</td>\n",
       "      <td>France</td>\n",
       "      <td>Male</td>\n",
       "      <td>39</td>\n",
       "      <td>3.0</td>\n",
       "      <td>113096.41</td>\n",
       "      <td>1</td>\n",
       "      <td>1</td>\n",
       "      <td>1</td>\n",
       "      <td>60335.24</td>\n",
       "      <td>0</td>\n",
       "    </tr>\n",
       "    <tr>\n",
       "      <td>3004</td>\n",
       "      <td>3005</td>\n",
       "      <td>15706185</td>\n",
       "      <td>Clements</td>\n",
       "      <td>596</td>\n",
       "      <td>Germany</td>\n",
       "      <td>Male</td>\n",
       "      <td>47</td>\n",
       "      <td>5.0</td>\n",
       "      <td>140187.10</td>\n",
       "      <td>2</td>\n",
       "      <td>1</td>\n",
       "      <td>1</td>\n",
       "      <td>174311.30</td>\n",
       "      <td>0</td>\n",
       "    </tr>\n",
       "    <tr>\n",
       "      <td>5736</td>\n",
       "      <td>5737</td>\n",
       "      <td>15775116</td>\n",
       "      <td>Anderson</td>\n",
       "      <td>581</td>\n",
       "      <td>France</td>\n",
       "      <td>Male</td>\n",
       "      <td>31</td>\n",
       "      <td>3.0</td>\n",
       "      <td>0.00</td>\n",
       "      <td>2</td>\n",
       "      <td>0</td>\n",
       "      <td>0</td>\n",
       "      <td>89040.61</td>\n",
       "      <td>0</td>\n",
       "    </tr>\n",
       "    <tr>\n",
       "      <td>8290</td>\n",
       "      <td>8291</td>\n",
       "      <td>15731267</td>\n",
       "      <td>Rizzo</td>\n",
       "      <td>797</td>\n",
       "      <td>France</td>\n",
       "      <td>Male</td>\n",
       "      <td>37</td>\n",
       "      <td>4.0</td>\n",
       "      <td>75263.70</td>\n",
       "      <td>1</td>\n",
       "      <td>1</td>\n",
       "      <td>0</td>\n",
       "      <td>85801.77</td>\n",
       "      <td>0</td>\n",
       "    </tr>\n",
       "    <tr>\n",
       "      <td>9946</td>\n",
       "      <td>9947</td>\n",
       "      <td>15618171</td>\n",
       "      <td>James</td>\n",
       "      <td>669</td>\n",
       "      <td>France</td>\n",
       "      <td>Female</td>\n",
       "      <td>33</td>\n",
       "      <td>9.0</td>\n",
       "      <td>0.00</td>\n",
       "      <td>2</td>\n",
       "      <td>0</td>\n",
       "      <td>1</td>\n",
       "      <td>107221.03</td>\n",
       "      <td>0</td>\n",
       "    </tr>\n",
       "    <tr>\n",
       "      <td>7295</td>\n",
       "      <td>7296</td>\n",
       "      <td>15696361</td>\n",
       "      <td>Chung</td>\n",
       "      <td>648</td>\n",
       "      <td>Germany</td>\n",
       "      <td>Male</td>\n",
       "      <td>31</td>\n",
       "      <td>NaN</td>\n",
       "      <td>125681.51</td>\n",
       "      <td>1</td>\n",
       "      <td>0</td>\n",
       "      <td>1</td>\n",
       "      <td>129980.93</td>\n",
       "      <td>0</td>\n",
       "    </tr>\n",
       "  </tbody>\n",
       "</table>\n",
       "</div>"
      ],
      "text/plain": [
       "      RowNumber  CustomerId   Surname  CreditScore Geography  Gender  Age  \\\n",
       "7653       7654    15788215      Hsia          535     Spain  Female   30   \n",
       "7865       7866    15748995  Ifeajuna          691     Spain    Male   30   \n",
       "3226       3227    15796351       Yao          603   Germany    Male   35   \n",
       "5912       5913    15715414     White          658    France  Female   38   \n",
       "8237       8238    15737275     Conti          649    France    Male   39   \n",
       "3004       3005    15706185  Clements          596   Germany    Male   47   \n",
       "5736       5737    15775116  Anderson          581    France    Male   31   \n",
       "8290       8291    15731267     Rizzo          797    France    Male   37   \n",
       "9946       9947    15618171     James          669    France  Female   33   \n",
       "7295       7296    15696361     Chung          648   Germany    Male   31   \n",
       "\n",
       "      Tenure    Balance  NumOfProducts  HasCrCard  IsActiveMember  \\\n",
       "7653     NaN  122924.75              1          0               0   \n",
       "7865     9.0       0.00              2          0               1   \n",
       "3226     1.0  105346.03              2          1               1   \n",
       "5912     6.0  102895.10              1          0               0   \n",
       "8237     3.0  113096.41              1          1               1   \n",
       "3004     5.0  140187.10              2          1               1   \n",
       "5736     3.0       0.00              2          0               0   \n",
       "8290     4.0   75263.70              1          1               0   \n",
       "9946     9.0       0.00              2          0               1   \n",
       "7295     NaN  125681.51              1          0               1   \n",
       "\n",
       "      EstimatedSalary  Exited  \n",
       "7653         62390.59       1  \n",
       "7865         10963.04       0  \n",
       "3226        130379.50       0  \n",
       "5912        155665.76       0  \n",
       "8237         60335.24       0  \n",
       "3004        174311.30       0  \n",
       "5736         89040.61       0  \n",
       "8290         85801.77       0  \n",
       "9946        107221.03       0  \n",
       "7295        129980.93       0  "
      ]
     },
     "execution_count": 19,
     "metadata": {},
     "output_type": "execute_result"
    }
   ],
   "source": [
    "bank_data.sample(n=10, random_state = 99)"
   ]
  },
  {
   "cell_type": "markdown",
   "metadata": {},
   "source": [
    "Первичный анализ данных показывает, что пропущенных значений NaN немного, типы данных правильные. Приведем названия столбов к нижнему регистру.\n",
    "\n",
    "Данные предоставлены только для трех стран, логично будет сделать категорилизацию по этим данным, предполагаемые зарплаты у всех разные,их столько же, сколько и признаков, это кажется немного странным, возмоэно их тоже можно категорилизвать для более быстрого обучения моделей."
   ]
  },
  {
   "cell_type": "code",
   "execution_count": 20,
   "metadata": {},
   "outputs": [],
   "source": [
    "bank_data.columns = bank_data.columns.str.lower()"
   ]
  },
  {
   "cell_type": "markdown",
   "metadata": {},
   "source": [
    "Проверим уникальный значения по столбцам "
   ]
  },
  {
   "cell_type": "code",
   "execution_count": 21,
   "metadata": {},
   "outputs": [
    {
     "data": {
      "text/plain": [
       "'rownumber'"
      ]
     },
     "metadata": {},
     "output_type": "display_data"
    },
    {
     "data": {
      "text/plain": [
       "2047    1\n",
       "5424    1\n",
       "1338    1\n",
       "7481    1\n",
       "5432    1\n",
       "       ..\n",
       "2716    1\n",
       "8857    1\n",
       "4759    1\n",
       "6806    1\n",
       "2049    1\n",
       "Name: rownumber, Length: 10000, dtype: int64"
      ]
     },
     "metadata": {},
     "output_type": "display_data"
    },
    {
     "data": {
      "text/plain": [
       "'customerid'"
      ]
     },
     "metadata": {},
     "output_type": "display_data"
    },
    {
     "data": {
      "text/plain": [
       "15812607    1\n",
       "15741078    1\n",
       "15635776    1\n",
       "15740223    1\n",
       "15738174    1\n",
       "           ..\n",
       "15743714    1\n",
       "15639265    1\n",
       "15641312    1\n",
       "15684319    1\n",
       "15695872    1\n",
       "Name: customerid, Length: 10000, dtype: int64"
      ]
     },
     "metadata": {},
     "output_type": "display_data"
    },
    {
     "data": {
      "text/plain": [
       "'surname'"
      ]
     },
     "metadata": {},
     "output_type": "display_data"
    },
    {
     "data": {
      "text/plain": [
       "Smith         32\n",
       "Martin        29\n",
       "Scott         29\n",
       "Walker        28\n",
       "Brown         26\n",
       "              ..\n",
       "Lim            1\n",
       "Kolesnikov     1\n",
       "Chuter         1\n",
       "Asher          1\n",
       "McEncroe       1\n",
       "Name: surname, Length: 2932, dtype: int64"
      ]
     },
     "metadata": {},
     "output_type": "display_data"
    },
    {
     "data": {
      "text/plain": [
       "'creditscore'"
      ]
     },
     "metadata": {},
     "output_type": "display_data"
    },
    {
     "data": {
      "text/plain": [
       "850    233\n",
       "678     63\n",
       "655     54\n",
       "705     53\n",
       "667     53\n",
       "      ... \n",
       "419      1\n",
       "417      1\n",
       "373      1\n",
       "365      1\n",
       "401      1\n",
       "Name: creditscore, Length: 460, dtype: int64"
      ]
     },
     "metadata": {},
     "output_type": "display_data"
    },
    {
     "data": {
      "text/plain": [
       "'geography'"
      ]
     },
     "metadata": {},
     "output_type": "display_data"
    },
    {
     "data": {
      "text/plain": [
       "France     5014\n",
       "Germany    2509\n",
       "Spain      2477\n",
       "Name: geography, dtype: int64"
      ]
     },
     "metadata": {},
     "output_type": "display_data"
    },
    {
     "data": {
      "text/plain": [
       "'gender'"
      ]
     },
     "metadata": {},
     "output_type": "display_data"
    },
    {
     "data": {
      "text/plain": [
       "Male      5457\n",
       "Female    4543\n",
       "Name: gender, dtype: int64"
      ]
     },
     "metadata": {},
     "output_type": "display_data"
    },
    {
     "data": {
      "text/plain": [
       "'age'"
      ]
     },
     "metadata": {},
     "output_type": "display_data"
    },
    {
     "data": {
      "text/plain": [
       "37    478\n",
       "38    477\n",
       "35    474\n",
       "36    456\n",
       "34    447\n",
       "     ... \n",
       "92      2\n",
       "88      1\n",
       "82      1\n",
       "85      1\n",
       "83      1\n",
       "Name: age, Length: 70, dtype: int64"
      ]
     },
     "metadata": {},
     "output_type": "display_data"
    },
    {
     "data": {
      "text/plain": [
       "'tenure'"
      ]
     },
     "metadata": {},
     "output_type": "display_data"
    },
    {
     "data": {
      "text/plain": [
       "1.0     952\n",
       "2.0     950\n",
       "8.0     933\n",
       "3.0     928\n",
       "5.0     927\n",
       "7.0     925\n",
       "NaN     909\n",
       "4.0     885\n",
       "9.0     882\n",
       "6.0     881\n",
       "10.0    446\n",
       "0.0     382\n",
       "Name: tenure, dtype: int64"
      ]
     },
     "metadata": {},
     "output_type": "display_data"
    },
    {
     "data": {
      "text/plain": [
       "'balance'"
      ]
     },
     "metadata": {},
     "output_type": "display_data"
    },
    {
     "data": {
      "text/plain": [
       "0.00         3617\n",
       "105473.74       2\n",
       "130170.82       2\n",
       "113063.83       1\n",
       "80242.37        1\n",
       "             ... \n",
       "183555.24       1\n",
       "137648.41       1\n",
       "112689.95       1\n",
       "115465.28       1\n",
       "74681.90        1\n",
       "Name: balance, Length: 6382, dtype: int64"
      ]
     },
     "metadata": {},
     "output_type": "display_data"
    },
    {
     "data": {
      "text/plain": [
       "'numofproducts'"
      ]
     },
     "metadata": {},
     "output_type": "display_data"
    },
    {
     "data": {
      "text/plain": [
       "1    5084\n",
       "2    4590\n",
       "3     266\n",
       "4      60\n",
       "Name: numofproducts, dtype: int64"
      ]
     },
     "metadata": {},
     "output_type": "display_data"
    },
    {
     "data": {
      "text/plain": [
       "'hascrcard'"
      ]
     },
     "metadata": {},
     "output_type": "display_data"
    },
    {
     "data": {
      "text/plain": [
       "1    7055\n",
       "0    2945\n",
       "Name: hascrcard, dtype: int64"
      ]
     },
     "metadata": {},
     "output_type": "display_data"
    },
    {
     "data": {
      "text/plain": [
       "'isactivemember'"
      ]
     },
     "metadata": {},
     "output_type": "display_data"
    },
    {
     "data": {
      "text/plain": [
       "1    5151\n",
       "0    4849\n",
       "Name: isactivemember, dtype: int64"
      ]
     },
     "metadata": {},
     "output_type": "display_data"
    },
    {
     "data": {
      "text/plain": [
       "'estimatedsalary'"
      ]
     },
     "metadata": {},
     "output_type": "display_data"
    },
    {
     "data": {
      "text/plain": [
       "24924.92     2\n",
       "109029.72    1\n",
       "182025.95    1\n",
       "82820.85     1\n",
       "30314.04     1\n",
       "            ..\n",
       "158302.59    1\n",
       "171037.63    1\n",
       "43036.60     1\n",
       "55034.02     1\n",
       "104181.78    1\n",
       "Name: estimatedsalary, Length: 9999, dtype: int64"
      ]
     },
     "metadata": {},
     "output_type": "display_data"
    },
    {
     "data": {
      "text/plain": [
       "'exited'"
      ]
     },
     "metadata": {},
     "output_type": "display_data"
    },
    {
     "data": {
      "text/plain": [
       "0    7963\n",
       "1    2037\n",
       "Name: exited, dtype: int64"
      ]
     },
     "metadata": {},
     "output_type": "display_data"
    }
   ],
   "source": [
    "for column in bank_data.columns:\n",
    "    display(column)\n",
    "    display(bank_data[column].value_counts(dropna=False))"
   ]
  },
  {
   "cell_type": "markdown",
   "metadata": {},
   "source": [
    "В данных 50% респондентов из Франции и по 25% из Испании и Германии. По полу разделение практически равное. В возрасте нет отрицательных значений - это хорошо, данные корректны. Есть 909 пропущенных значение в Tenure, нужно проверить корреляцию с другими признаками, узнать тип этой ошибки и попытаться восстановить.Много людей с нулевым балансом на счете, примерно 1\\3 от общей выборки, почти половина пользователей неактивна."
   ]
  },
  {
   "cell_type": "markdown",
   "metadata": {},
   "source": [
    "Мультиколлинеарность факторов отсутсвует, возраст и кол-во лет, которые человек является клиентом банка коррелируют, однако ни тот, ни другой нельзя исключить, так как они оба важны в отдельности."
   ]
  },
  {
   "cell_type": "markdown",
   "metadata": {},
   "source": [
    "## Исследование задачи"
   ]
  },
  {
   "cell_type": "code",
   "execution_count": 22,
   "metadata": {},
   "outputs": [
    {
     "data": {
      "image/png": "[encoded data removed]",
      "text/plain": [
       "<Figure size 432x288 with 1 Axes>"
      ]
     },
     "metadata": {
      "needs_background": "light"
     },
     "output_type": "display_data"
    }
   ],
   "source": [
    "bank_data['exited'].hist(bins = 2)\n",
    "plt.title('Частотная гистограмма для полжительного и отрицательного класса')\n",
    "plt.xlabel('отрицательный класс/положительный класс')\n",
    "plt.ylabel('Частота')\n",
    "plt.show()"
   ]
  },
  {
   "cell_type": "markdown",
   "metadata": {},
   "source": [
    "Гистограмма для целевого признака показывает соотношение(дисбаланс) классов.\n",
    "\n",
    "Есть дисбаланс классов - 7963\\2037, ~ 4:1"
   ]
  },
  {
   "cell_type": "code",
   "execution_count": 23,
   "metadata": {},
   "outputs": [],
   "source": [
    "# bank_data['tenure'] = bank_data['tenure'].fillna(method='bfill')\n",
    "bank_data['tenure'] = bank_data['tenure'].fillna(0)\n",
    "cols = ['tenure', 'balance', 'estimatedsalary']\n",
    "bank_data[cols] = bank_data[cols].round()\n",
    "bank_data[cols] = bank_data[cols].astype('Int64')"
   ]
  },
  {
   "cell_type": "markdown",
   "metadata": {},
   "source": [
    "Заполнили столбец методом bfill, следующая строка нужна так как при проверке isna().mean() в этом мтолбце остается 0.001 NaN и на гридсерче выдает ошибку."
   ]
  },
  {
   "cell_type": "code",
   "execution_count": 24,
   "metadata": {},
   "outputs": [
    {
     "data": {
      "image/png": "[encoded data removed]",
      "text/plain": [
       "<Figure size 432x288 with 1 Axes>"
      ]
     },
     "metadata": {
      "needs_background": "light"
     },
     "output_type": "display_data"
    },
    {
     "data": {
      "image/png": "[encoded data removed]",
      "text/plain": [
       "<Figure size 432x288 with 1 Axes>"
      ]
     },
     "metadata": {
      "needs_background": "light"
     },
     "output_type": "display_data"
    }
   ],
   "source": [
    "bank_data['tenure'].hist(bins = 15)\n",
    "plt.figure()\n",
    "bank_data['tenure'].plot.box()\n",
    "plt.show()"
   ]
  },
  {
   "cell_type": "code",
   "execution_count": 25,
   "metadata": {},
   "outputs": [],
   "source": [
    "bank_data['tenure'] = bank_data['tenure'].fillna(random.randint(1, 10))"
   ]
  },
  {
   "cell_type": "code",
   "execution_count": 26,
   "metadata": {},
   "outputs": [],
   "source": [
    "features_columns = ['creditscore', 'geography_Germany', 'geography_Spain',\n",
    "       'gender_Male', 'age', 'tenure', 'balance', 'numofproducts', 'hascrcard',\n",
    "       'isactivemember', 'estimatedsalary']"
   ]
  },
  {
   "cell_type": "markdown",
   "metadata": {},
   "source": [
    "Выделил необходимы признаки для обучения модели."
   ]
  },
  {
   "cell_type": "code",
   "execution_count": 27,
   "metadata": {},
   "outputs": [
    {
     "data": {
      "text/html": [
       "<div>\n",
       "<style scoped>\n",
       "    .dataframe tbody tr th:only-of-type {\n",
       "        vertical-align: middle;\n",
       "    }\n",
       "\n",
       "    .dataframe tbody tr th {\n",
       "        vertical-align: top;\n",
       "    }\n",
       "\n",
       "    .dataframe thead th {\n",
       "        text-align: right;\n",
       "    }\n",
       "</style>\n",
       "<table border=\"1\" class=\"dataframe\">\n",
       "  <thead>\n",
       "    <tr style=\"text-align: right;\">\n",
       "      <th></th>\n",
       "      <th>rownumber</th>\n",
       "      <th>customerid</th>\n",
       "      <th>surname</th>\n",
       "      <th>creditscore</th>\n",
       "      <th>age</th>\n",
       "      <th>tenure</th>\n",
       "      <th>balance</th>\n",
       "      <th>numofproducts</th>\n",
       "      <th>hascrcard</th>\n",
       "      <th>isactivemember</th>\n",
       "      <th>estimatedsalary</th>\n",
       "      <th>exited</th>\n",
       "      <th>geography_Germany</th>\n",
       "      <th>geography_Spain</th>\n",
       "      <th>gender_Male</th>\n",
       "    </tr>\n",
       "  </thead>\n",
       "  <tbody>\n",
       "    <tr>\n",
       "      <td>0</td>\n",
       "      <td>1</td>\n",
       "      <td>15634602</td>\n",
       "      <td>Hargrave</td>\n",
       "      <td>619</td>\n",
       "      <td>42</td>\n",
       "      <td>2</td>\n",
       "      <td>0</td>\n",
       "      <td>1</td>\n",
       "      <td>1</td>\n",
       "      <td>1</td>\n",
       "      <td>101349</td>\n",
       "      <td>1</td>\n",
       "      <td>0</td>\n",
       "      <td>0</td>\n",
       "      <td>0</td>\n",
       "    </tr>\n",
       "    <tr>\n",
       "      <td>1</td>\n",
       "      <td>2</td>\n",
       "      <td>15647311</td>\n",
       "      <td>Hill</td>\n",
       "      <td>608</td>\n",
       "      <td>41</td>\n",
       "      <td>1</td>\n",
       "      <td>83808</td>\n",
       "      <td>1</td>\n",
       "      <td>0</td>\n",
       "      <td>1</td>\n",
       "      <td>112543</td>\n",
       "      <td>0</td>\n",
       "      <td>0</td>\n",
       "      <td>1</td>\n",
       "      <td>0</td>\n",
       "    </tr>\n",
       "    <tr>\n",
       "      <td>2</td>\n",
       "      <td>3</td>\n",
       "      <td>15619304</td>\n",
       "      <td>Onio</td>\n",
       "      <td>502</td>\n",
       "      <td>42</td>\n",
       "      <td>8</td>\n",
       "      <td>159661</td>\n",
       "      <td>3</td>\n",
       "      <td>1</td>\n",
       "      <td>0</td>\n",
       "      <td>113932</td>\n",
       "      <td>1</td>\n",
       "      <td>0</td>\n",
       "      <td>0</td>\n",
       "      <td>0</td>\n",
       "    </tr>\n",
       "    <tr>\n",
       "      <td>3</td>\n",
       "      <td>4</td>\n",
       "      <td>15701354</td>\n",
       "      <td>Boni</td>\n",
       "      <td>699</td>\n",
       "      <td>39</td>\n",
       "      <td>1</td>\n",
       "      <td>0</td>\n",
       "      <td>2</td>\n",
       "      <td>0</td>\n",
       "      <td>0</td>\n",
       "      <td>93827</td>\n",
       "      <td>0</td>\n",
       "      <td>0</td>\n",
       "      <td>0</td>\n",
       "      <td>0</td>\n",
       "    </tr>\n",
       "    <tr>\n",
       "      <td>4</td>\n",
       "      <td>5</td>\n",
       "      <td>15737888</td>\n",
       "      <td>Mitchell</td>\n",
       "      <td>850</td>\n",
       "      <td>43</td>\n",
       "      <td>2</td>\n",
       "      <td>125511</td>\n",
       "      <td>1</td>\n",
       "      <td>1</td>\n",
       "      <td>1</td>\n",
       "      <td>79084</td>\n",
       "      <td>0</td>\n",
       "      <td>0</td>\n",
       "      <td>1</td>\n",
       "      <td>0</td>\n",
       "    </tr>\n",
       "    <tr>\n",
       "      <td>...</td>\n",
       "      <td>...</td>\n",
       "      <td>...</td>\n",
       "      <td>...</td>\n",
       "      <td>...</td>\n",
       "      <td>...</td>\n",
       "      <td>...</td>\n",
       "      <td>...</td>\n",
       "      <td>...</td>\n",
       "      <td>...</td>\n",
       "      <td>...</td>\n",
       "      <td>...</td>\n",
       "      <td>...</td>\n",
       "      <td>...</td>\n",
       "      <td>...</td>\n",
       "      <td>...</td>\n",
       "    </tr>\n",
       "    <tr>\n",
       "      <td>9995</td>\n",
       "      <td>9996</td>\n",
       "      <td>15606229</td>\n",
       "      <td>Obijiaku</td>\n",
       "      <td>771</td>\n",
       "      <td>39</td>\n",
       "      <td>5</td>\n",
       "      <td>0</td>\n",
       "      <td>2</td>\n",
       "      <td>1</td>\n",
       "      <td>0</td>\n",
       "      <td>96271</td>\n",
       "      <td>0</td>\n",
       "      <td>0</td>\n",
       "      <td>0</td>\n",
       "      <td>1</td>\n",
       "    </tr>\n",
       "    <tr>\n",
       "      <td>9996</td>\n",
       "      <td>9997</td>\n",
       "      <td>15569892</td>\n",
       "      <td>Johnstone</td>\n",
       "      <td>516</td>\n",
       "      <td>35</td>\n",
       "      <td>10</td>\n",
       "      <td>57370</td>\n",
       "      <td>1</td>\n",
       "      <td>1</td>\n",
       "      <td>1</td>\n",
       "      <td>101700</td>\n",
       "      <td>0</td>\n",
       "      <td>0</td>\n",
       "      <td>0</td>\n",
       "      <td>1</td>\n",
       "    </tr>\n",
       "    <tr>\n",
       "      <td>9997</td>\n",
       "      <td>9998</td>\n",
       "      <td>15584532</td>\n",
       "      <td>Liu</td>\n",
       "      <td>709</td>\n",
       "      <td>36</td>\n",
       "      <td>7</td>\n",
       "      <td>0</td>\n",
       "      <td>1</td>\n",
       "      <td>0</td>\n",
       "      <td>1</td>\n",
       "      <td>42086</td>\n",
       "      <td>1</td>\n",
       "      <td>0</td>\n",
       "      <td>0</td>\n",
       "      <td>0</td>\n",
       "    </tr>\n",
       "    <tr>\n",
       "      <td>9998</td>\n",
       "      <td>9999</td>\n",
       "      <td>15682355</td>\n",
       "      <td>Sabbatini</td>\n",
       "      <td>772</td>\n",
       "      <td>42</td>\n",
       "      <td>3</td>\n",
       "      <td>75075</td>\n",
       "      <td>2</td>\n",
       "      <td>1</td>\n",
       "      <td>0</td>\n",
       "      <td>92889</td>\n",
       "      <td>1</td>\n",
       "      <td>1</td>\n",
       "      <td>0</td>\n",
       "      <td>1</td>\n",
       "    </tr>\n",
       "    <tr>\n",
       "      <td>9999</td>\n",
       "      <td>10000</td>\n",
       "      <td>15628319</td>\n",
       "      <td>Walker</td>\n",
       "      <td>792</td>\n",
       "      <td>28</td>\n",
       "      <td>0</td>\n",
       "      <td>130143</td>\n",
       "      <td>1</td>\n",
       "      <td>1</td>\n",
       "      <td>0</td>\n",
       "      <td>38191</td>\n",
       "      <td>0</td>\n",
       "      <td>0</td>\n",
       "      <td>0</td>\n",
       "      <td>0</td>\n",
       "    </tr>\n",
       "  </tbody>\n",
       "</table>\n",
       "<p>10000 rows × 15 columns</p>\n",
       "</div>"
      ],
      "text/plain": [
       "      rownumber  customerid    surname  creditscore  age  tenure  balance  \\\n",
       "0             1    15634602   Hargrave          619   42       2        0   \n",
       "1             2    15647311       Hill          608   41       1    83808   \n",
       "2             3    15619304       Onio          502   42       8   159661   \n",
       "3             4    15701354       Boni          699   39       1        0   \n",
       "4             5    15737888   Mitchell          850   43       2   125511   \n",
       "...         ...         ...        ...          ...  ...     ...      ...   \n",
       "9995       9996    15606229   Obijiaku          771   39       5        0   \n",
       "9996       9997    15569892  Johnstone          516   35      10    57370   \n",
       "9997       9998    15584532        Liu          709   36       7        0   \n",
       "9998       9999    15682355  Sabbatini          772   42       3    75075   \n",
       "9999      10000    15628319     Walker          792   28       0   130143   \n",
       "\n",
       "      numofproducts  hascrcard  isactivemember  estimatedsalary  exited  \\\n",
       "0                 1          1               1           101349       1   \n",
       "1                 1          0               1           112543       0   \n",
       "2                 3          1               0           113932       1   \n",
       "3                 2          0               0            93827       0   \n",
       "4                 1          1               1            79084       0   \n",
       "...             ...        ...             ...              ...     ...   \n",
       "9995              2          1               0            96271       0   \n",
       "9996              1          1               1           101700       0   \n",
       "9997              1          0               1            42086       1   \n",
       "9998              2          1               0            92889       1   \n",
       "9999              1          1               0            38191       0   \n",
       "\n",
       "      geography_Germany  geography_Spain  gender_Male  \n",
       "0                     0                0            0  \n",
       "1                     0                1            0  \n",
       "2                     0                0            0  \n",
       "3                     0                0            0  \n",
       "4                     0                1            0  \n",
       "...                 ...              ...          ...  \n",
       "9995                  0                0            1  \n",
       "9996                  0                0            1  \n",
       "9997                  0                0            0  \n",
       "9998                  1                0            1  \n",
       "9999                  0                0            0  \n",
       "\n",
       "[10000 rows x 15 columns]"
      ]
     },
     "metadata": {},
     "output_type": "display_data"
    }
   ],
   "source": [
    "category_col = ['geography', 'gender']\n",
    "bank_data = pd.get_dummies(bank_data, columns=category_col, drop_first = True)\n",
    "display(bank_data)"
   ]
  },
  {
   "cell_type": "code",
   "execution_count": 29,
   "metadata": {},
   "outputs": [],
   "source": [
    "features = bank_data[features_columns].astype('int64')\n",
    "target = bank_data['exited']\n",
    "\n",
    "features_train, features_test, target_train, target_test = train_test_split(\n",
    "    features, target, test_size=0.25, random_state=99, stratify=target)"
   ]
  },
  {
   "cell_type": "code",
   "execution_count": 30,
   "metadata": {},
   "outputs": [
    {
     "data": {
      "text/html": [
       "<div>\n",
       "<style scoped>\n",
       "    .dataframe tbody tr th:only-of-type {\n",
       "        vertical-align: middle;\n",
       "    }\n",
       "\n",
       "    .dataframe tbody tr th {\n",
       "        vertical-align: top;\n",
       "    }\n",
       "\n",
       "    .dataframe thead th {\n",
       "        text-align: right;\n",
       "    }\n",
       "</style>\n",
       "<table border=\"1\" class=\"dataframe\">\n",
       "  <thead>\n",
       "    <tr style=\"text-align: right;\">\n",
       "      <th></th>\n",
       "      <th>creditscore</th>\n",
       "      <th>geography_Germany</th>\n",
       "      <th>geography_Spain</th>\n",
       "      <th>gender_Male</th>\n",
       "      <th>age</th>\n",
       "      <th>tenure</th>\n",
       "      <th>balance</th>\n",
       "      <th>numofproducts</th>\n",
       "      <th>hascrcard</th>\n",
       "      <th>isactivemember</th>\n",
       "      <th>estimatedsalary</th>\n",
       "    </tr>\n",
       "  </thead>\n",
       "  <tbody>\n",
       "    <tr>\n",
       "      <td>5253</td>\n",
       "      <td>655</td>\n",
       "      <td>0</td>\n",
       "      <td>1</td>\n",
       "      <td>0</td>\n",
       "      <td>27</td>\n",
       "      <td>9</td>\n",
       "      <td>0</td>\n",
       "      <td>2</td>\n",
       "      <td>0</td>\n",
       "      <td>0</td>\n",
       "      <td>108008</td>\n",
       "    </tr>\n",
       "    <tr>\n",
       "      <td>8950</td>\n",
       "      <td>461</td>\n",
       "      <td>0</td>\n",
       "      <td>0</td>\n",
       "      <td>0</td>\n",
       "      <td>35</td>\n",
       "      <td>5</td>\n",
       "      <td>0</td>\n",
       "      <td>1</td>\n",
       "      <td>1</td>\n",
       "      <td>1</td>\n",
       "      <td>54209</td>\n",
       "    </tr>\n",
       "    <tr>\n",
       "      <td>2182</td>\n",
       "      <td>665</td>\n",
       "      <td>0</td>\n",
       "      <td>1</td>\n",
       "      <td>1</td>\n",
       "      <td>38</td>\n",
       "      <td>9</td>\n",
       "      <td>0</td>\n",
       "      <td>1</td>\n",
       "      <td>0</td>\n",
       "      <td>1</td>\n",
       "      <td>87413</td>\n",
       "    </tr>\n",
       "    <tr>\n",
       "      <td>3846</td>\n",
       "      <td>554</td>\n",
       "      <td>0</td>\n",
       "      <td>0</td>\n",
       "      <td>0</td>\n",
       "      <td>48</td>\n",
       "      <td>7</td>\n",
       "      <td>0</td>\n",
       "      <td>2</td>\n",
       "      <td>1</td>\n",
       "      <td>1</td>\n",
       "      <td>63708</td>\n",
       "    </tr>\n",
       "    <tr>\n",
       "      <td>6957</td>\n",
       "      <td>686</td>\n",
       "      <td>0</td>\n",
       "      <td>0</td>\n",
       "      <td>0</td>\n",
       "      <td>44</td>\n",
       "      <td>7</td>\n",
       "      <td>55054</td>\n",
       "      <td>1</td>\n",
       "      <td>1</td>\n",
       "      <td>0</td>\n",
       "      <td>181757</td>\n",
       "    </tr>\n",
       "  </tbody>\n",
       "</table>\n",
       "</div>"
      ],
      "text/plain": [
       "      creditscore  geography_Germany  geography_Spain  gender_Male  age  \\\n",
       "5253          655                  0                1            0   27   \n",
       "8950          461                  0                0            0   35   \n",
       "2182          665                  0                1            1   38   \n",
       "3846          554                  0                0            0   48   \n",
       "6957          686                  0                0            0   44   \n",
       "\n",
       "      tenure  balance  numofproducts  hascrcard  isactivemember  \\\n",
       "5253       9        0              2          0               0   \n",
       "8950       5        0              1          1               1   \n",
       "2182       9        0              1          0               1   \n",
       "3846       7        0              2          1               1   \n",
       "6957       7    55054              1          1               0   \n",
       "\n",
       "      estimatedsalary  \n",
       "5253           108008  \n",
       "8950            54209  \n",
       "2182            87413  \n",
       "3846            63708  \n",
       "6957           181757  "
      ]
     },
     "metadata": {},
     "output_type": "display_data"
    },
    {
     "data": {
      "text/html": [
       "<div>\n",
       "<style scoped>\n",
       "    .dataframe tbody tr th:only-of-type {\n",
       "        vertical-align: middle;\n",
       "    }\n",
       "\n",
       "    .dataframe tbody tr th {\n",
       "        vertical-align: top;\n",
       "    }\n",
       "\n",
       "    .dataframe thead th {\n",
       "        text-align: right;\n",
       "    }\n",
       "</style>\n",
       "<table border=\"1\" class=\"dataframe\">\n",
       "  <thead>\n",
       "    <tr style=\"text-align: right;\">\n",
       "      <th></th>\n",
       "      <th>creditscore</th>\n",
       "      <th>geography_Germany</th>\n",
       "      <th>geography_Spain</th>\n",
       "      <th>gender_Male</th>\n",
       "      <th>age</th>\n",
       "      <th>tenure</th>\n",
       "      <th>balance</th>\n",
       "      <th>numofproducts</th>\n",
       "      <th>hascrcard</th>\n",
       "      <th>isactivemember</th>\n",
       "      <th>estimatedsalary</th>\n",
       "    </tr>\n",
       "  </thead>\n",
       "  <tbody>\n",
       "    <tr>\n",
       "      <td>8169</td>\n",
       "      <td>635</td>\n",
       "      <td>0</td>\n",
       "      <td>0</td>\n",
       "      <td>1</td>\n",
       "      <td>27</td>\n",
       "      <td>3</td>\n",
       "      <td>127010</td>\n",
       "      <td>1</td>\n",
       "      <td>1</td>\n",
       "      <td>0</td>\n",
       "      <td>161910</td>\n",
       "    </tr>\n",
       "    <tr>\n",
       "      <td>4869</td>\n",
       "      <td>669</td>\n",
       "      <td>0</td>\n",
       "      <td>0</td>\n",
       "      <td>1</td>\n",
       "      <td>50</td>\n",
       "      <td>4</td>\n",
       "      <td>149714</td>\n",
       "      <td>3</td>\n",
       "      <td>1</td>\n",
       "      <td>1</td>\n",
       "      <td>124872</td>\n",
       "    </tr>\n",
       "    <tr>\n",
       "      <td>304</td>\n",
       "      <td>553</td>\n",
       "      <td>0</td>\n",
       "      <td>0</td>\n",
       "      <td>1</td>\n",
       "      <td>33</td>\n",
       "      <td>4</td>\n",
       "      <td>118083</td>\n",
       "      <td>1</td>\n",
       "      <td>0</td>\n",
       "      <td>0</td>\n",
       "      <td>94440</td>\n",
       "    </tr>\n",
       "    <tr>\n",
       "      <td>3656</td>\n",
       "      <td>750</td>\n",
       "      <td>0</td>\n",
       "      <td>0</td>\n",
       "      <td>0</td>\n",
       "      <td>37</td>\n",
       "      <td>6</td>\n",
       "      <td>0</td>\n",
       "      <td>1</td>\n",
       "      <td>1</td>\n",
       "      <td>1</td>\n",
       "      <td>117948</td>\n",
       "    </tr>\n",
       "    <tr>\n",
       "      <td>3597</td>\n",
       "      <td>796</td>\n",
       "      <td>1</td>\n",
       "      <td>0</td>\n",
       "      <td>0</td>\n",
       "      <td>40</td>\n",
       "      <td>1</td>\n",
       "      <td>99746</td>\n",
       "      <td>1</td>\n",
       "      <td>1</td>\n",
       "      <td>0</td>\n",
       "      <td>177524</td>\n",
       "    </tr>\n",
       "  </tbody>\n",
       "</table>\n",
       "</div>"
      ],
      "text/plain": [
       "      creditscore  geography_Germany  geography_Spain  gender_Male  age  \\\n",
       "8169          635                  0                0            1   27   \n",
       "4869          669                  0                0            1   50   \n",
       "304           553                  0                0            1   33   \n",
       "3656          750                  0                0            0   37   \n",
       "3597          796                  1                0            0   40   \n",
       "\n",
       "      tenure  balance  numofproducts  hascrcard  isactivemember  \\\n",
       "8169       3   127010              1          1               0   \n",
       "4869       4   149714              3          1               1   \n",
       "304        4   118083              1          0               0   \n",
       "3656       6        0              1          1               1   \n",
       "3597       1    99746              1          1               0   \n",
       "\n",
       "      estimatedsalary  \n",
       "8169           161910  \n",
       "4869           124872  \n",
       "304             94440  \n",
       "3656           117948  \n",
       "3597           177524  "
      ]
     },
     "metadata": {},
     "output_type": "display_data"
    }
   ],
   "source": [
    "display(features_test.head())\n",
    "display(features_train.head())"
   ]
  },
  {
   "cell_type": "code",
   "execution_count": 31,
   "metadata": {},
   "outputs": [
    {
     "name": "stdout",
     "output_type": "stream",
     "text": [
      "<class 'pandas.core.frame.DataFrame'>\n",
      "RangeIndex: 10000 entries, 0 to 9999\n",
      "Data columns (total 15 columns):\n",
      "rownumber            10000 non-null int64\n",
      "customerid           10000 non-null int64\n",
      "surname              10000 non-null object\n",
      "creditscore          10000 non-null int64\n",
      "age                  10000 non-null int64\n",
      "tenure               10000 non-null Int64\n",
      "balance              10000 non-null Int64\n",
      "numofproducts        10000 non-null int64\n",
      "hascrcard            10000 non-null int64\n",
      "isactivemember       10000 non-null int64\n",
      "estimatedsalary      10000 non-null Int64\n",
      "exited               10000 non-null int64\n",
      "geography_Germany    10000 non-null uint8\n",
      "geography_Spain      10000 non-null uint8\n",
      "gender_Male          10000 non-null uint8\n",
      "dtypes: Int64(3), int64(8), object(1), uint8(3)\n",
      "memory usage: 996.2+ KB\n"
     ]
    },
    {
     "data": {
      "text/plain": [
       "None"
      ]
     },
     "metadata": {},
     "output_type": "display_data"
    },
    {
     "data": {
      "text/plain": [
       "rownumber            0.0\n",
       "customerid           0.0\n",
       "surname              0.0\n",
       "creditscore          0.0\n",
       "age                  0.0\n",
       "tenure               0.0\n",
       "balance              0.0\n",
       "numofproducts        0.0\n",
       "hascrcard            0.0\n",
       "isactivemember       0.0\n",
       "estimatedsalary      0.0\n",
       "exited               0.0\n",
       "geography_Germany    0.0\n",
       "geography_Spain      0.0\n",
       "gender_Male          0.0\n",
       "dtype: float64"
      ]
     },
     "metadata": {},
     "output_type": "display_data"
    }
   ],
   "source": [
    "display(bank_data.info())\n",
    "display(bank_data.isna().mean())"
   ]
  },
  {
   "cell_type": "code",
   "execution_count": 32,
   "metadata": {},
   "outputs": [],
   "source": [
    "param_grid = { \n",
    "    'n_estimators': [est for est in range(1, 100, 10)],\n",
    "    'max_features': ['auto'],\n",
    "    'max_depth' : [depth for depth in range(1, 20)],\n",
    "    'criterion' :['gini'],\n",
    "    'random_state': [99]\n",
    "}"
   ]
  },
  {
   "cell_type": "code",
   "execution_count": 33,
   "metadata": {},
   "outputs": [],
   "source": [
    "rfc = RandomForestClassifier()"
   ]
  },
  {
   "cell_type": "code",
   "execution_count": 34,
   "metadata": {},
   "outputs": [
    {
     "name": "stdout",
     "output_type": "stream",
     "text": [
      "Wall time: 3min 13s\n"
     ]
    },
    {
     "data": {
      "text/plain": [
       "GridSearchCV(cv=5, estimator=RandomForestClassifier(),\n",
       "             param_grid={'criterion': ['gini'],\n",
       "                         'max_depth': [1, 2, 3, 4, 5, 6, 7, 8, 9, 10, 11, 12,\n",
       "                                       13, 14, 15, 16, 17, 18, 19],\n",
       "                         'max_features': ['auto'],\n",
       "                         'n_estimators': [1, 11, 21, 31, 41, 51, 61, 71, 81,\n",
       "                                          91],\n",
       "                         'random_state': [99]},\n",
       "             scoring='f1')"
      ]
     },
     "execution_count": 34,
     "metadata": {},
     "output_type": "execute_result"
    }
   ],
   "source": [
    "%%time\n",
    "CV_rfc = GridSearchCV(estimator = rfc, param_grid = param_grid, scoring = 'f1', cv = 5)\n",
    "CV_rfc.fit(features_train, target_train)"
   ]
  },
  {
   "cell_type": "code",
   "execution_count": 35,
   "metadata": {},
   "outputs": [
    {
     "data": {
      "text/plain": [
       "{'criterion': 'gini',\n",
       " 'max_depth': 17,\n",
       " 'max_features': 'auto',\n",
       " 'n_estimators': 91,\n",
       " 'random_state': 99}"
      ]
     },
     "execution_count": 35,
     "metadata": {},
     "output_type": "execute_result"
    }
   ],
   "source": [
    "CV_rfc.best_params_"
   ]
  },
  {
   "cell_type": "code",
   "execution_count": 36,
   "metadata": {},
   "outputs": [
    {
     "name": "stdout",
     "output_type": "stream",
     "text": [
      "Accuracy_score 0.8664 F1_score 0.5906862745098038\n"
     ]
    }
   ],
   "source": [
    "predict = CV_rfc.predict(features_test)\n",
    "acc = accuracy_score(target_test, predict)\n",
    "f1 = f1_score(target_test, predict)\n",
    "print('Accuracy_score', acc, 'F1_score', f1)"
   ]
  },
  {
   "cell_type": "markdown",
   "metadata": {},
   "source": [
    "### Вывод"
   ]
  },
  {
   "cell_type": "markdown",
   "metadata": {},
   "source": [
    "Даже с учетом дисбаланса классов мы имеем довольно высокую точность и допустимое значение f-меры"
   ]
  },
  {
   "cell_type": "markdown",
   "metadata": {},
   "source": [
    "## Борьба с дисбалансом"
   ]
  },
  {
   "cell_type": "markdown",
   "metadata": {},
   "source": [
    "Дисбаланс классов определен, отношение отрицательных ответов (0- клиент не уйдет) к положительным (1-клинт уйдет) к 4/1/\n",
    "Считаю оптимальным воспользоватья техникой upsampling"
   ]
  },
  {
   "cell_type": "code",
   "execution_count": 37,
   "metadata": {},
   "outputs": [],
   "source": [
    "# def upsample(features, target, repeat):\n",
    "#     features_zeros = features[target == 0]\n",
    "#     features_ones = features[target == 1]\n",
    "#     target_zeros = target[target == 0]\n",
    "#     target_ones = target[target == 1]\n",
    "\n",
    "#     features_upsampled = pd.concat([features_zeros] + [features_ones] * repeat)\n",
    "#     target_upsampled = pd.concat([target_zeros] + [target_ones] * repeat)\n",
    "    \n",
    "#     features_upsampled, target_upsampled = shuffle(\n",
    "#         features_upsampled, target_upsampled, random_state=99)\n",
    "    \n",
    "#     return features_upsampled, target_upsampled"
   ]
  },
  {
   "cell_type": "code",
   "execution_count": 38,
   "metadata": {},
   "outputs": [],
   "source": [
    "# features_upsampled, target_upsampled = upsample(features_train, target_train, 4)"
   ]
  },
  {
   "cell_type": "code",
   "execution_count": 40,
   "metadata": {},
   "outputs": [
    {
     "data": {
      "text/plain": [
       "StandardScaler()"
      ]
     },
     "execution_count": 40,
     "metadata": {},
     "output_type": "execute_result"
    }
   ],
   "source": [
    "scaler = StandardScaler()\n",
    "scaler.fit(features_train) "
   ]
  },
  {
   "cell_type": "code",
   "execution_count": 41,
   "metadata": {},
   "outputs": [],
   "source": [
    "features_train = scaler.transform(features_train)\n",
    "features_test = scaler.transform(features_test) "
   ]
  },
  {
   "cell_type": "markdown",
   "metadata": {},
   "source": [
    "Данные нормализованы."
   ]
  },
  {
   "cell_type": "code",
   "execution_count": 42,
   "metadata": {},
   "outputs": [],
   "source": [
    "from sklearn.model_selection import KFold\n",
    "from imblearn.over_sampling import SMOTE\n",
    "from imblearn.pipeline import Pipeline, make_pipeline"
   ]
  },
  {
   "cell_type": "code",
   "execution_count": 43,
   "metadata": {},
   "outputs": [],
   "source": [
    "kf = KFold(n_splits=5, random_state=99, shuffle=True)"
   ]
  },
  {
   "cell_type": "code",
   "execution_count": 44,
   "metadata": {},
   "outputs": [],
   "source": [
    "imba_pipeline = make_pipeline(SMOTE(random_state=99), \n",
    "                              RandomForestClassifier(n_estimators=100, random_state=99))"
   ]
  },
  {
   "cell_type": "code",
   "execution_count": 45,
   "metadata": {},
   "outputs": [],
   "source": [
    "new_params = {'randomforestclassifier__' + key: param_grid[key] for key in param_grid}\n",
    "grid_imba = GridSearchCV(imba_pipeline, param_grid=new_params, cv=kf, scoring='f1',\n",
    "                        return_train_score=True)\n",
    "grid_imba.fit(features_train, target_train);"
   ]
  },
  {
   "cell_type": "code",
   "execution_count": 46,
   "metadata": {},
   "outputs": [
    {
     "name": "stdout",
     "output_type": "stream",
     "text": [
      "Accuracy_score 0.832 F1_score 0.618874773139746\n"
     ]
    }
   ],
   "source": [
    "predict = grid_imba.predict(features_test)\n",
    "acc = accuracy_score(target_test, predict)\n",
    "f1 = f1_score(target_test, predict)\n",
    "print('Accuracy_score', acc, 'F1_score', f1)"
   ]
  },
  {
   "cell_type": "code",
   "execution_count": 47,
   "metadata": {},
   "outputs": [
    {
     "data": {
      "text/plain": [
       "{'randomforestclassifier__criterion': 'gini',\n",
       " 'randomforestclassifier__max_depth': 12,\n",
       " 'randomforestclassifier__max_features': 'auto',\n",
       " 'randomforestclassifier__n_estimators': 91,\n",
       " 'randomforestclassifier__random_state': 99}"
      ]
     },
     "execution_count": 47,
     "metadata": {},
     "output_type": "execute_result"
    }
   ],
   "source": [
    "grid_imba.best_params_"
   ]
  },
  {
   "cell_type": "code",
   "execution_count": 48,
   "metadata": {},
   "outputs": [
    {
     "data": {
      "text/plain": [
       "Pipeline(steps=[('smote', SMOTE(random_state=99)),\n",
       "                ('randomforestclassifier',\n",
       "                 RandomForestClassifier(max_depth=9, n_estimators=61,\n",
       "                                        random_state=99))])"
      ]
     },
     "execution_count": 48,
     "metadata": {},
     "output_type": "execute_result"
    }
   ],
   "source": [
    "# features_train = features_train.astype('int64')\n",
    "new_pipe = make_pipeline(SMOTE(random_state=99),  RandomForestClassifier(n_estimators=61, random_state=99,max_depth=9,criterion='gini',max_features='auto'))\n",
    "new_pipe.fit(features_train, target_train)\n"
   ]
  },
  {
   "cell_type": "code",
   "execution_count": 49,
   "metadata": {},
   "outputs": [
    {
     "name": "stdout",
     "output_type": "stream",
     "text": [
      "Accuracy_score 0.8288 F1_score 0.6219081272084805\n"
     ]
    }
   ],
   "source": [
    "predict = new_pipe.predict(features_test)\n",
    "acc = accuracy_score(target_test, predict)\n",
    "f1 = f1_score(target_test, predict)\n",
    "print('Accuracy_score', acc, 'F1_score', f1)"
   ]
  },
  {
   "cell_type": "code",
   "execution_count": 50,
   "metadata": {},
   "outputs": [],
   "source": [
    "def model_teacher(model_name):\n",
    "    model_name.fit(features_train, target_train)\n",
    "    predict = model_name.predict(features_test)\n",
    "    acc = accuracy_score(target_test, predict)\n",
    "    f1 = f1_score(target_test, predict)\n",
    "    print('Accuracy_score', acc, 'F1_score', f1)\n",
    "    return model_name"
   ]
  },
  {
   "cell_type": "markdown",
   "metadata": {},
   "source": [
    "На сбалансированных данных модель показывает более высокую точность и лучшую f-меру\n",
    "\n",
    "Нужно исследовать другие модели для определения наилучшей <br />\n",
    "Для исследования возьмем три модели: random forest,naive bayes & logistic regression"
   ]
  },
  {
   "cell_type": "code",
   "execution_count": 51,
   "metadata": {},
   "outputs": [],
   "source": [
    "gnb = GaussianNB()"
   ]
  },
  {
   "cell_type": "code",
   "execution_count": 52,
   "metadata": {},
   "outputs": [
    {
     "name": "stdout",
     "output_type": "stream",
     "text": [
      "Accuracy_score 0.8276 F1_score 0.45095541401273886\n"
     ]
    }
   ],
   "source": [
    "gnb_model = model_teacher(gnb)"
   ]
  },
  {
   "cell_type": "markdown",
   "metadata": {},
   "source": [
    "Этот алгоритм показывает невысокий результат, скорее всего из-за того, что наши признаки связаны между собой в то время как он работает лучше , коргда они независимы "
   ]
  },
  {
   "cell_type": "code",
   "execution_count": 53,
   "metadata": {},
   "outputs": [],
   "source": [
    "logModel = LogisticRegression()\n",
    "param_grid_log =     {\n",
    "    'penalty' : ['l1', 'l2'],\n",
    "    'C' : np.logspace(-4, 4, 20),\n",
    "    'solver' : ['liblinear'],\n",
    "    'max_iter' : [100, 1000, 2500, 5000]\n",
    "    }"
   ]
  },
  {
   "cell_type": "code",
   "execution_count": 54,
   "metadata": {},
   "outputs": [],
   "source": [
    "imba_pipeline = make_pipeline(SMOTE(random_state=99), \n",
    "                              LogisticRegression(random_state=99))"
   ]
  },
  {
   "cell_type": "code",
   "execution_count": 55,
   "metadata": {},
   "outputs": [],
   "source": [
    "new_params = {'logisticregression__' + key: param_grid_log[key] for key in param_grid_log}\n",
    "lr = GridSearchCV(imba_pipeline, param_grid=new_params, cv=kf, scoring='f1',\n",
    "                        return_train_score=True)\n",
    "#lr.fit(features_train, target_train)"
   ]
  },
  {
   "cell_type": "code",
   "execution_count": 56,
   "metadata": {},
   "outputs": [
    {
     "name": "stdout",
     "output_type": "stream",
     "text": [
      "Wall time: 47.4 s\n"
     ]
    },
    {
     "data": {
      "text/plain": [
       "GridSearchCV(cv=KFold(n_splits=5, random_state=99, shuffle=True),\n",
       "             estimator=Pipeline(steps=[('smote', SMOTE(random_state=99)),\n",
       "                                       ('logisticregression',\n",
       "                                        LogisticRegression(random_state=99))]),\n",
       "             param_grid={'logisticregression__C': array([1.00000000e-04, 2.63665090e-04, 6.95192796e-04, 1.83298071e-03,\n",
       "       4.83293024e-03, 1.27427499e-02, 3.35981829e-02, 8.85866790e-02,\n",
       "       2.33572147e-01, 6.15848211e-01, 1.62377674e+00, 4.28133240e+00,\n",
       "       1.12883789e+01, 2.97635144e+01, 7.84759970e+01, 2.06913808e+02,\n",
       "       5.45559478e+02, 1.43844989e+03, 3.79269019e+03, 1.00000000e+04]),\n",
       "                         'logisticregression__max_iter': [100, 1000, 2500,\n",
       "                                                          5000],\n",
       "                         'logisticregression__penalty': ['l1', 'l2'],\n",
       "                         'logisticregression__solver': ['liblinear']},\n",
       "             return_train_score=True, scoring='f1')"
      ]
     },
     "execution_count": 56,
     "metadata": {},
     "output_type": "execute_result"
    }
   ],
   "source": [
    "%%time\n",
    "lr.fit(features_train, target_train)"
   ]
  },
  {
   "cell_type": "code",
   "execution_count": 57,
   "metadata": {},
   "outputs": [
    {
     "name": "stdout",
     "output_type": "stream",
     "text": [
      "Accuracy_score 0.7096 F1_score 0.4901685393258427\n"
     ]
    }
   ],
   "source": [
    "predict = lr.predict(features_test)\n",
    "acc = accuracy_score(target_test, predict)\n",
    "f1 = f1_score(target_test, predict)\n",
    "print('Accuracy_score', acc, 'F1_score', f1)"
   ]
  },
  {
   "cell_type": "markdown",
   "metadata": {},
   "source": [
    "## Тестирование модели"
   ]
  },
  {
   "cell_type": "code",
   "execution_count": 58,
   "metadata": {},
   "outputs": [],
   "source": [
    "def test_model(model):\n",
    "    predict = model.predict(features_test)\n",
    "    acc = accuracy_score(target_test, predict)\n",
    "    f1 = f1_score(target_test, predict)\n",
    "    probabilities = model.predict_proba(features_test)\n",
    "    probabilities = probabilities[:, 1]\n",
    "    auc_roc = roc_auc_score(target_test, probabilities)\n",
    "    print('Accuracy_score', acc, 'F1_score', f1, 'auc_roc', auc_roc)\n",
    "    return acc, f1, auc_roc\n",
    "\n"
   ]
  },
  {
   "cell_type": "code",
   "execution_count": 59,
   "metadata": {},
   "outputs": [
    {
     "name": "stdout",
     "output_type": "stream",
     "text": [
      "Accuracy_score 0.832 F1_score 0.618874773139746 auc_roc 0.8624122894873689\n"
     ]
    }
   ],
   "source": [
    "acc_rfc, f1_rfc, auc_roc_rfc = test_model(grid_imba)"
   ]
  },
  {
   "cell_type": "code",
   "execution_count": 60,
   "metadata": {},
   "outputs": [
    {
     "name": "stdout",
     "output_type": "stream",
     "text": [
      "Accuracy_score 0.8276 F1_score 0.45095541401273886 auc_roc 0.7893901732649575\n"
     ]
    }
   ],
   "source": [
    "acc_gnb, f1_gnb, auc_roc_gnb = test_model(gnb)"
   ]
  },
  {
   "cell_type": "code",
   "execution_count": 61,
   "metadata": {},
   "outputs": [
    {
     "name": "stdout",
     "output_type": "stream",
     "text": [
      "Accuracy_score 0.7096 F1_score 0.4901685393258427 auc_roc 0.7630575309916234\n"
     ]
    }
   ],
   "source": [
    "acc_lr, f1_lr, auc_roc_lr = test_model(lr)"
   ]
  },
  {
   "cell_type": "code",
   "execution_count": 62,
   "metadata": {},
   "outputs": [
    {
     "data": {
      "text/html": [
       "<div>\n",
       "<style scoped>\n",
       "    .dataframe tbody tr th:only-of-type {\n",
       "        vertical-align: middle;\n",
       "    }\n",
       "\n",
       "    .dataframe tbody tr th {\n",
       "        vertical-align: top;\n",
       "    }\n",
       "\n",
       "    .dataframe thead th {\n",
       "        text-align: right;\n",
       "    }\n",
       "</style>\n",
       "<table border=\"1\" class=\"dataframe\">\n",
       "  <thead>\n",
       "    <tr style=\"text-align: right;\">\n",
       "      <th></th>\n",
       "      <th>accuracy</th>\n",
       "      <th>f1_score</th>\n",
       "      <th>auc_roc_score</th>\n",
       "    </tr>\n",
       "    <tr>\n",
       "      <th>model</th>\n",
       "      <th></th>\n",
       "      <th></th>\n",
       "      <th></th>\n",
       "    </tr>\n",
       "  </thead>\n",
       "  <tbody>\n",
       "    <tr>\n",
       "      <td>RandomForestClassifier</td>\n",
       "      <td>0.83</td>\n",
       "      <td>0.83</td>\n",
       "      <td>0.71</td>\n",
       "    </tr>\n",
       "    <tr>\n",
       "      <td>GaussianNB</td>\n",
       "      <td>0.62</td>\n",
       "      <td>0.45</td>\n",
       "      <td>0.49</td>\n",
       "    </tr>\n",
       "    <tr>\n",
       "      <td>LogisticRegression</td>\n",
       "      <td>0.86</td>\n",
       "      <td>0.79</td>\n",
       "      <td>0.76</td>\n",
       "    </tr>\n",
       "  </tbody>\n",
       "</table>\n",
       "</div>"
      ],
      "text/plain": [
       "                        accuracy  f1_score  auc_roc_score\n",
       "model                                                    \n",
       "RandomForestClassifier      0.83      0.83           0.71\n",
       "GaussianNB                  0.62      0.45           0.49\n",
       "LogisticRegression          0.86      0.79           0.76"
      ]
     },
     "metadata": {},
     "output_type": "display_data"
    }
   ],
   "source": [
    "df = pd.DataFrame({\n",
    "    'model': ['RandomForestClassifier', 'GaussianNB', 'LogisticRegression'],\n",
    "    'accuracy': [acc_rfc, f1_rfc, auc_roc_rfc],\n",
    "    'f1_score': [acc_gnb, f1_gnb, auc_roc_gnb],\n",
    "    'auc_roc_score': [acc_lr, f1_lr, auc_roc_lr]\n",
    "})\n",
    "\n",
    "\n",
    "df = df.set_index('model').round(2)\n",
    "\n",
    "display(df)"
   ]
  },
  {
   "cell_type": "markdown",
   "metadata": {},
   "source": [
    "### Вывод "
   ]
  },
  {
   "cell_type": "markdown",
   "metadata": {},
   "source": [
    "По результатам тестирования лучшей является модель случайного леса."
   ]
  },
  {
   "cell_type": "markdown",
   "metadata": {},
   "source": [
    "## Общий вывод"
   ]
  },
  {
   "cell_type": "markdown",
   "metadata": {},
   "source": [
    "В результате проверки эффективности моделей на приведенных данных случайный лес оказался наилучшим и показал резуьтаты которые удовлетворяют заявленным границам."
   ]
  },
  {
   "cell_type": "markdown",
   "metadata": {},
   "source": [
    "## Чек-лист готовности проекта"
   ]
  },
  {
   "cell_type": "markdown",
   "metadata": {},
   "source": [
    "Поставьте 'x' в выполненных пунктах. Далее нажмите Shift+Enter."
   ]
  },
  {
   "cell_type": "markdown",
   "metadata": {},
   "source": [
    "- [x]  Jupyter Notebook открыт\n",
    "- [x]  Весь код выполняется без ошибок\n",
    "- [x]  Ячейки с кодом расположены в порядке исполнения\n",
    "- [x]  Выполнен шаг 1: данные подготовлены\n",
    "- [x]  Выполнен шаг 2: задача исследована\n",
    "    - [x]  Исследован баланс классов\n",
    "    - [x]  Изучены модели без учёта дисбаланса\n",
    "    - [x]  Написаны выводы по результатам исследования\n",
    "- [x]  Выполнен шаг 3: учтён дисбаланс\n",
    "    - [x]  Применено несколько способов борьбы с дисбалансом\n",
    "    - [x]  Написаны выводы по результатам исследования\n",
    "- [x]  Выполнен шаг 4: проведено тестирование\n",
    "- [x]  Удалось достичь *F1*-меры не менее 0.59\n",
    "- [x]  Исследована метрика *AUC-ROC*"
   ]
  }
 ],
 "metadata": {
  "ExecuteTimeLog": [
   {
    "duration": 382,
    "start_time": "2021-07-06T14:18:55.693Z"
   },
   {
    "duration": 768,
    "start_time": "2021-07-06T14:18:57.375Z"
   },
   {
    "duration": 66,
    "start_time": "2021-07-06T14:18:58.145Z"
   },
   {
    "duration": 778,
    "start_time": "2021-07-06T14:20:08.000Z"
   },
   {
    "duration": 112,
    "start_time": "2021-07-06T14:20:34.016Z"
   },
   {
    "duration": 76,
    "start_time": "2021-07-06T14:22:16.897Z"
   },
   {
    "duration": 59,
    "start_time": "2021-07-06T14:23:35.976Z"
   },
   {
    "duration": 350,
    "start_time": "2021-07-06T14:31:23.444Z"
   },
   {
    "duration": 4,
    "start_time": "2021-07-06T14:32:01.720Z"
   },
   {
    "duration": 19,
    "start_time": "2021-07-06T14:32:13.939Z"
   },
   {
    "duration": 65,
    "start_time": "2021-07-06T14:33:57.382Z"
   },
   {
    "duration": 91,
    "start_time": "2021-07-06T14:35:07.111Z"
   },
   {
    "duration": 31,
    "start_time": "2021-07-06T14:39:38.076Z"
   },
   {
    "duration": 135,
    "start_time": "2021-07-06T14:40:34.543Z"
   },
   {
    "duration": 343,
    "start_time": "2021-07-06T17:10:17.288Z"
   },
   {
    "duration": 3,
    "start_time": "2021-07-06T17:10:20.188Z"
   },
   {
    "duration": 357,
    "start_time": "2021-07-06T17:10:21.195Z"
   },
   {
    "duration": 5,
    "start_time": "2021-07-06T17:10:47.383Z"
   },
   {
    "duration": 4,
    "start_time": "2021-07-06T17:11:01.431Z"
   },
   {
    "duration": 6,
    "start_time": "2021-07-06T17:11:06.899Z"
   },
   {
    "duration": 5,
    "start_time": "2021-07-06T17:12:04.621Z"
   },
   {
    "duration": 8,
    "start_time": "2021-07-06T17:12:06.164Z"
   },
   {
    "duration": 5,
    "start_time": "2021-07-06T17:12:14.748Z"
   },
   {
    "duration": 6,
    "start_time": "2021-07-06T17:12:15.547Z"
   },
   {
    "duration": 7,
    "start_time": "2021-07-06T17:12:57.675Z"
   },
   {
    "duration": 583,
    "start_time": "2021-07-06T17:14:10.343Z"
   },
   {
    "duration": 4,
    "start_time": "2021-07-06T17:16:16.112Z"
   },
   {
    "duration": 5,
    "start_time": "2021-07-06T17:21:57.908Z"
   },
   {
    "duration": 8,
    "start_time": "2021-07-06T17:26:25.115Z"
   },
   {
    "duration": 9,
    "start_time": "2021-07-06T17:28:00.391Z"
   },
   {
    "duration": 1078,
    "start_time": "2021-07-07T07:55:25.205Z"
   },
   {
    "duration": 757,
    "start_time": "2021-07-07T07:55:44.642Z"
   },
   {
    "duration": 107,
    "start_time": "2021-07-07T07:55:46.102Z"
   },
   {
    "duration": 5,
    "start_time": "2021-07-07T07:55:48.001Z"
   },
   {
    "duration": 146,
    "start_time": "2021-07-07T07:55:48.850Z"
   },
   {
    "duration": 43,
    "start_time": "2021-07-07T07:55:54.241Z"
   },
   {
    "duration": 3,
    "start_time": "2021-07-07T07:55:54.648Z"
   },
   {
    "duration": 7,
    "start_time": "2021-07-07T07:55:56.473Z"
   },
   {
    "duration": 8,
    "start_time": "2021-07-07T07:55:56.680Z"
   },
   {
    "duration": 4,
    "start_time": "2021-07-07T07:55:56.895Z"
   },
   {
    "duration": 336,
    "start_time": "2021-07-07T07:57:29.542Z"
   },
   {
    "duration": 550,
    "start_time": "2021-07-07T07:57:35.926Z"
   },
   {
    "duration": 315,
    "start_time": "2021-07-07T07:57:40.734Z"
   },
   {
    "duration": 269,
    "start_time": "2021-07-07T07:57:55.937Z"
   },
   {
    "duration": 263,
    "start_time": "2021-07-07T07:58:51.590Z"
   },
   {
    "duration": 6550,
    "start_time": "2021-07-07T07:59:17.535Z"
   },
   {
    "duration": 7637,
    "start_time": "2021-07-07T08:00:39.738Z"
   },
   {
    "duration": 1641,
    "start_time": "2021-07-07T08:02:47.135Z"
   },
   {
    "duration": 613,
    "start_time": "2021-07-07T08:02:52.120Z"
   },
   {
    "duration": 50503,
    "start_time": "2021-07-07T08:03:10.139Z"
   },
   {
    "duration": 5,
    "start_time": "2021-07-07T08:04:03.131Z"
   },
   {
    "duration": 112,
    "start_time": "2021-07-07T08:04:03.139Z"
   },
   {
    "duration": 5,
    "start_time": "2021-07-07T08:04:03.254Z"
   },
   {
    "duration": 138,
    "start_time": "2021-07-07T08:04:03.262Z"
   },
   {
    "duration": 76689,
    "start_time": "2021-07-07T08:04:03.402Z"
   },
   {
    "duration": 33,
    "start_time": "2021-07-07T08:05:20.094Z"
   },
   {
    "duration": 13,
    "start_time": "2021-07-07T08:05:20.129Z"
   },
   {
    "duration": 17,
    "start_time": "2021-07-07T08:05:20.156Z"
   },
   {
    "duration": 20,
    "start_time": "2021-07-07T08:05:20.176Z"
   },
   {
    "duration": 9,
    "start_time": "2021-07-07T08:05:20.199Z"
   },
   {
    "duration": 302,
    "start_time": "2021-07-07T08:05:22.517Z"
   },
   {
    "duration": 344,
    "start_time": "2021-07-07T08:05:37.027Z"
   },
   {
    "duration": 263,
    "start_time": "2021-07-07T08:05:41.183Z"
   },
   {
    "duration": 265,
    "start_time": "2021-07-07T08:05:46.700Z"
   },
   {
    "duration": 300,
    "start_time": "2021-07-07T08:05:49.864Z"
   },
   {
    "duration": 87,
    "start_time": "2021-07-07T10:10:45.323Z"
   },
   {
    "duration": 489,
    "start_time": "2021-07-07T10:10:59.544Z"
   },
   {
    "duration": 5,
    "start_time": "2021-07-07T10:12:07.790Z"
   },
   {
    "duration": 1194,
    "start_time": "2021-07-08T08:02:04.152Z"
   },
   {
    "duration": 66,
    "start_time": "2021-07-08T08:02:05.348Z"
   },
   {
    "duration": 3,
    "start_time": "2021-07-08T08:02:05.416Z"
   },
   {
    "duration": 90,
    "start_time": "2021-07-08T08:02:05.421Z"
   },
   {
    "duration": 185,
    "start_time": "2021-07-08T08:02:05.513Z"
   },
   {
    "duration": 19,
    "start_time": "2021-07-08T08:02:05.699Z"
   },
   {
    "duration": 3,
    "start_time": "2021-07-08T08:02:05.719Z"
   },
   {
    "duration": 334,
    "start_time": "2021-07-08T08:02:05.724Z"
   },
   {
    "duration": 2296,
    "start_time": "2021-07-08T08:02:03.764Z"
   },
   {
    "duration": 2290,
    "start_time": "2021-07-08T08:02:03.771Z"
   },
   {
    "duration": 2289,
    "start_time": "2021-07-08T08:02:03.772Z"
   },
   {
    "duration": 2288,
    "start_time": "2021-07-08T08:02:03.774Z"
   },
   {
    "duration": 233,
    "start_time": "2021-07-08T08:02:18.857Z"
   },
   {
    "duration": 8,
    "start_time": "2021-07-08T08:02:28.184Z"
   },
   {
    "duration": 2,
    "start_time": "2021-07-08T08:02:29.791Z"
   },
   {
    "duration": 3,
    "start_time": "2021-07-08T08:02:30.183Z"
   },
   {
    "duration": 2,
    "start_time": "2021-07-08T08:02:31.094Z"
   },
   {
    "duration": 29,
    "start_time": "2021-07-08T08:02:31.774Z"
   },
   {
    "duration": 3,
    "start_time": "2021-07-08T08:03:28.370Z"
   },
   {
    "duration": 3,
    "start_time": "2021-07-08T08:03:29.624Z"
   },
   {
    "duration": 414,
    "start_time": "2021-07-08T08:05:35.400Z"
   },
   {
    "duration": 213,
    "start_time": "2021-07-08T08:06:48.846Z"
   },
   {
    "duration": 3,
    "start_time": "2021-07-08T08:06:58.213Z"
   },
   {
    "duration": 499,
    "start_time": "2021-07-08T08:07:03.381Z"
   },
   {
    "duration": 383,
    "start_time": "2021-07-08T08:41:11.406Z"
   },
   {
    "duration": 337,
    "start_time": "2021-07-08T08:45:48.711Z"
   },
   {
    "duration": 247,
    "start_time": "2021-07-08T08:46:02.222Z"
   },
   {
    "duration": 254,
    "start_time": "2021-07-08T08:46:07.171Z"
   },
   {
    "duration": 5,
    "start_time": "2021-07-08T08:47:52.280Z"
   },
   {
    "duration": 622,
    "start_time": "2021-07-08T08:48:08.022Z"
   },
   {
    "duration": 4,
    "start_time": "2021-07-08T08:49:36.289Z"
   },
   {
    "duration": 8,
    "start_time": "2021-07-08T08:49:47.901Z"
   },
   {
    "duration": 6,
    "start_time": "2021-07-08T08:49:57.645Z"
   },
   {
    "duration": 5,
    "start_time": "2021-07-08T08:50:05.051Z"
   },
   {
    "duration": 5,
    "start_time": "2021-07-08T08:50:13.535Z"
   },
   {
    "duration": 254,
    "start_time": "2021-07-08T08:50:22.169Z"
   },
   {
    "duration": 6,
    "start_time": "2021-07-08T08:50:26.034Z"
   },
   {
    "duration": 8,
    "start_time": "2021-07-08T08:50:40.050Z"
   },
   {
    "duration": 4,
    "start_time": "2021-07-08T08:51:02.589Z"
   },
   {
    "duration": 63,
    "start_time": "2021-07-08T08:51:02.595Z"
   },
   {
    "duration": 3,
    "start_time": "2021-07-08T08:51:02.660Z"
   },
   {
    "duration": 126,
    "start_time": "2021-07-08T08:51:02.665Z"
   },
   {
    "duration": 158,
    "start_time": "2021-07-08T08:51:02.793Z"
   },
   {
    "duration": 8,
    "start_time": "2021-07-08T08:51:02.952Z"
   },
   {
    "duration": 5,
    "start_time": "2021-07-08T08:51:02.961Z"
   },
   {
    "duration": 24,
    "start_time": "2021-07-08T08:51:02.968Z"
   },
   {
    "duration": 2,
    "start_time": "2021-07-08T08:51:02.993Z"
   },
   {
    "duration": 5,
    "start_time": "2021-07-08T08:51:02.996Z"
   },
   {
    "duration": 29,
    "start_time": "2021-07-08T08:51:03.002Z"
   },
   {
    "duration": 3,
    "start_time": "2021-07-08T08:51:03.032Z"
   },
   {
    "duration": 6,
    "start_time": "2021-07-08T08:51:03.036Z"
   },
   {
    "duration": 381,
    "start_time": "2021-07-08T08:51:03.043Z"
   },
   {
    "duration": 11,
    "start_time": "2021-07-08T08:53:56.955Z"
   },
   {
    "duration": 22,
    "start_time": "2021-07-08T08:56:16.655Z"
   },
   {
    "duration": 12,
    "start_time": "2021-07-08T08:56:25.442Z"
   },
   {
    "duration": 273,
    "start_time": "2021-07-08T08:56:58.247Z"
   },
   {
    "duration": 3,
    "start_time": "2021-07-08T08:57:10.865Z"
   },
   {
    "duration": 216,
    "start_time": "2021-07-08T08:57:32.459Z"
   },
   {
    "duration": 219,
    "start_time": "2021-07-08T08:57:40.746Z"
   },
   {
    "duration": 11,
    "start_time": "2021-07-08T08:58:06.519Z"
   },
   {
    "duration": 10,
    "start_time": "2021-07-08T08:58:17.559Z"
   },
   {
    "duration": 11,
    "start_time": "2021-07-08T08:59:05.479Z"
   },
   {
    "duration": 16,
    "start_time": "2021-07-08T09:00:07.623Z"
   },
   {
    "duration": 14,
    "start_time": "2021-07-08T09:00:23.499Z"
   },
   {
    "duration": 6,
    "start_time": "2021-07-08T09:00:30.307Z"
   },
   {
    "duration": 3,
    "start_time": "2021-07-08T09:00:35.305Z"
   },
   {
    "duration": 68,
    "start_time": "2021-07-08T09:00:35.309Z"
   },
   {
    "duration": 8,
    "start_time": "2021-07-08T09:00:35.379Z"
   },
   {
    "duration": 63,
    "start_time": "2021-07-08T09:00:35.390Z"
   },
   {
    "duration": 178,
    "start_time": "2021-07-08T09:00:35.454Z"
   },
   {
    "duration": 6,
    "start_time": "2021-07-08T09:00:35.634Z"
   },
   {
    "duration": 9,
    "start_time": "2021-07-08T09:00:35.641Z"
   },
   {
    "duration": 8,
    "start_time": "2021-07-08T09:00:35.652Z"
   },
   {
    "duration": 4,
    "start_time": "2021-07-08T09:00:35.662Z"
   },
   {
    "duration": 6,
    "start_time": "2021-07-08T09:00:35.667Z"
   },
   {
    "duration": 38,
    "start_time": "2021-07-08T09:00:35.674Z"
   },
   {
    "duration": 2,
    "start_time": "2021-07-08T09:00:35.714Z"
   },
   {
    "duration": 6,
    "start_time": "2021-07-08T09:00:35.718Z"
   },
   {
    "duration": 566,
    "start_time": "2021-07-08T09:00:35.725Z"
   },
   {
    "duration": 11,
    "start_time": "2021-07-08T09:01:01.383Z"
   },
   {
    "duration": 8,
    "start_time": "2021-07-08T09:01:12.343Z"
   },
   {
    "duration": 3,
    "start_time": "2021-07-08T09:01:24.640Z"
   },
   {
    "duration": 66,
    "start_time": "2021-07-08T09:01:24.645Z"
   },
   {
    "duration": 2,
    "start_time": "2021-07-08T09:01:24.713Z"
   },
   {
    "duration": 93,
    "start_time": "2021-07-08T09:01:24.717Z"
   },
   {
    "duration": 170,
    "start_time": "2021-07-08T09:01:24.812Z"
   },
   {
    "duration": 13,
    "start_time": "2021-07-08T09:01:24.983Z"
   },
   {
    "duration": 8,
    "start_time": "2021-07-08T09:01:24.997Z"
   },
   {
    "duration": 10,
    "start_time": "2021-07-08T09:01:25.007Z"
   },
   {
    "duration": 2,
    "start_time": "2021-07-08T09:01:25.019Z"
   },
   {
    "duration": 9,
    "start_time": "2021-07-08T09:01:25.023Z"
   },
   {
    "duration": 33,
    "start_time": "2021-07-08T09:01:25.033Z"
   },
   {
    "duration": 3,
    "start_time": "2021-07-08T09:01:25.068Z"
   },
   {
    "duration": 7,
    "start_time": "2021-07-08T09:01:25.072Z"
   },
   {
    "duration": -57,
    "start_time": "2021-07-08T09:02:55.639Z"
   },
   {
    "duration": -60,
    "start_time": "2021-07-08T09:02:55.643Z"
   },
   {
    "duration": -62,
    "start_time": "2021-07-08T09:02:55.646Z"
   },
   {
    "duration": -63,
    "start_time": "2021-07-08T09:02:55.648Z"
   },
   {
    "duration": -63,
    "start_time": "2021-07-08T09:02:55.650Z"
   },
   {
    "duration": -64,
    "start_time": "2021-07-08T09:02:55.652Z"
   },
   {
    "duration": -65,
    "start_time": "2021-07-08T09:02:55.654Z"
   },
   {
    "duration": -65,
    "start_time": "2021-07-08T09:02:55.656Z"
   },
   {
    "duration": -66,
    "start_time": "2021-07-08T09:02:55.658Z"
   },
   {
    "duration": -67,
    "start_time": "2021-07-08T09:02:55.660Z"
   },
   {
    "duration": -66,
    "start_time": "2021-07-08T09:02:55.661Z"
   },
   {
    "duration": -67,
    "start_time": "2021-07-08T09:02:55.663Z"
   },
   {
    "duration": -67,
    "start_time": "2021-07-08T09:02:55.664Z"
   },
   {
    "duration": -67,
    "start_time": "2021-07-08T09:02:55.665Z"
   },
   {
    "duration": 3,
    "start_time": "2021-07-08T09:02:59.127Z"
   },
   {
    "duration": 63,
    "start_time": "2021-07-08T09:03:00.575Z"
   },
   {
    "duration": 3,
    "start_time": "2021-07-08T09:03:03.198Z"
   },
   {
    "duration": 51,
    "start_time": "2021-07-08T09:03:03.886Z"
   },
   {
    "duration": 144,
    "start_time": "2021-07-08T09:03:06.182Z"
   },
   {
    "duration": 6,
    "start_time": "2021-07-08T09:03:09.142Z"
   },
   {
    "duration": 234,
    "start_time": "2021-07-08T09:03:18.732Z"
   },
   {
    "duration": 243,
    "start_time": "2021-07-08T09:04:11.528Z"
   },
   {
    "duration": 299,
    "start_time": "2021-07-08T09:04:21.491Z"
   },
   {
    "duration": 67,
    "start_time": "2021-07-08T09:04:59.888Z"
   },
   {
    "duration": 6379,
    "start_time": "2021-07-08T09:06:15.066Z"
   },
   {
    "duration": 5878,
    "start_time": "2021-07-08T09:06:46.893Z"
   },
   {
    "duration": -36,
    "start_time": "2021-07-08T09:07:26.116Z"
   },
   {
    "duration": -36,
    "start_time": "2021-07-08T09:07:26.117Z"
   },
   {
    "duration": -36,
    "start_time": "2021-07-08T09:07:26.118Z"
   },
   {
    "duration": -36,
    "start_time": "2021-07-08T09:07:26.119Z"
   },
   {
    "duration": -36,
    "start_time": "2021-07-08T09:07:26.120Z"
   },
   {
    "duration": -41,
    "start_time": "2021-07-08T09:07:26.126Z"
   },
   {
    "duration": -41,
    "start_time": "2021-07-08T09:07:26.127Z"
   },
   {
    "duration": -42,
    "start_time": "2021-07-08T09:07:26.129Z"
   },
   {
    "duration": -43,
    "start_time": "2021-07-08T09:07:26.131Z"
   },
   {
    "duration": -43,
    "start_time": "2021-07-08T09:07:26.132Z"
   },
   {
    "duration": -43,
    "start_time": "2021-07-08T09:07:26.133Z"
   },
   {
    "duration": -44,
    "start_time": "2021-07-08T09:07:26.134Z"
   },
   {
    "duration": -44,
    "start_time": "2021-07-08T09:07:26.135Z"
   },
   {
    "duration": -44,
    "start_time": "2021-07-08T09:07:26.136Z"
   },
   {
    "duration": 3,
    "start_time": "2021-07-08T09:08:03.887Z"
   },
   {
    "duration": 62,
    "start_time": "2021-07-08T09:08:03.892Z"
   },
   {
    "duration": 2,
    "start_time": "2021-07-08T09:08:03.956Z"
   },
   {
    "duration": 73,
    "start_time": "2021-07-08T09:08:03.960Z"
   },
   {
    "duration": 186,
    "start_time": "2021-07-08T09:08:04.034Z"
   },
   {
    "duration": 238,
    "start_time": "2021-07-08T09:08:04.222Z"
   },
   {
    "duration": -44,
    "start_time": "2021-07-08T09:08:04.507Z"
   },
   {
    "duration": -45,
    "start_time": "2021-07-08T09:08:04.509Z"
   },
   {
    "duration": -46,
    "start_time": "2021-07-08T09:08:04.511Z"
   },
   {
    "duration": -47,
    "start_time": "2021-07-08T09:08:04.512Z"
   },
   {
    "duration": -47,
    "start_time": "2021-07-08T09:08:04.513Z"
   },
   {
    "duration": -47,
    "start_time": "2021-07-08T09:08:04.514Z"
   },
   {
    "duration": -48,
    "start_time": "2021-07-08T09:08:04.516Z"
   },
   {
    "duration": -48,
    "start_time": "2021-07-08T09:08:04.517Z"
   },
   {
    "duration": 263,
    "start_time": "2021-07-08T09:08:27.204Z"
   },
   {
    "duration": 12,
    "start_time": "2021-07-08T09:09:52.252Z"
   },
   {
    "duration": 3,
    "start_time": "2021-07-08T09:09:58.612Z"
   },
   {
    "duration": 9,
    "start_time": "2021-07-08T09:10:00.829Z"
   },
   {
    "duration": 27,
    "start_time": "2021-07-08T09:10:03.869Z"
   },
   {
    "duration": 3,
    "start_time": "2021-07-08T09:10:06.021Z"
   },
   {
    "duration": 3,
    "start_time": "2021-07-08T09:10:07.324Z"
   },
   {
    "duration": 328,
    "start_time": "2021-07-08T09:10:08.989Z"
   },
   {
    "duration": 9,
    "start_time": "2021-07-08T09:10:52.577Z"
   },
   {
    "duration": 13,
    "start_time": "2021-07-08T09:11:18.765Z"
   },
   {
    "duration": 14,
    "start_time": "2021-07-08T09:11:28.221Z"
   },
   {
    "duration": 3,
    "start_time": "2021-07-08T09:11:41.793Z"
   },
   {
    "duration": 70,
    "start_time": "2021-07-08T09:11:41.797Z"
   },
   {
    "duration": 3,
    "start_time": "2021-07-08T09:11:41.869Z"
   },
   {
    "duration": 65,
    "start_time": "2021-07-08T09:11:41.874Z"
   },
   {
    "duration": 201,
    "start_time": "2021-07-08T09:11:41.940Z"
   },
   {
    "duration": 11,
    "start_time": "2021-07-08T09:11:42.143Z"
   },
   {
    "duration": 3,
    "start_time": "2021-07-08T09:11:42.156Z"
   },
   {
    "duration": 29,
    "start_time": "2021-07-08T09:11:42.162Z"
   },
   {
    "duration": 3,
    "start_time": "2021-07-08T09:11:42.193Z"
   },
   {
    "duration": 9,
    "start_time": "2021-07-08T09:11:42.198Z"
   },
   {
    "duration": 31,
    "start_time": "2021-07-08T09:11:42.208Z"
   },
   {
    "duration": 4,
    "start_time": "2021-07-08T09:11:42.241Z"
   },
   {
    "duration": 5,
    "start_time": "2021-07-08T09:11:42.246Z"
   },
   {
    "duration": 39,
    "start_time": "2021-07-08T09:11:42.253Z"
   },
   {
    "duration": 283,
    "start_time": "2021-07-08T09:11:42.294Z"
   },
   {
    "duration": 250,
    "start_time": "2021-07-08T09:12:19.134Z"
   },
   {
    "duration": 3,
    "start_time": "2021-07-08T09:12:49.605Z"
   },
   {
    "duration": 64,
    "start_time": "2021-07-08T09:12:49.609Z"
   },
   {
    "duration": 3,
    "start_time": "2021-07-08T09:12:49.675Z"
   },
   {
    "duration": 55,
    "start_time": "2021-07-08T09:12:49.679Z"
   },
   {
    "duration": 194,
    "start_time": "2021-07-08T09:12:49.735Z"
   },
   {
    "duration": 12,
    "start_time": "2021-07-08T09:12:49.930Z"
   },
   {
    "duration": 2,
    "start_time": "2021-07-08T09:12:49.944Z"
   },
   {
    "duration": 10,
    "start_time": "2021-07-08T09:12:49.948Z"
   },
   {
    "duration": 2,
    "start_time": "2021-07-08T09:12:49.960Z"
   },
   {
    "duration": 16,
    "start_time": "2021-07-08T09:12:49.964Z"
   },
   {
    "duration": 29,
    "start_time": "2021-07-08T09:12:49.992Z"
   },
   {
    "duration": 3,
    "start_time": "2021-07-08T09:12:50.023Z"
   },
   {
    "duration": 10,
    "start_time": "2021-07-08T09:12:50.027Z"
   },
   {
    "duration": 21,
    "start_time": "2021-07-08T09:12:50.038Z"
   },
   {
    "duration": 798667,
    "start_time": "2021-07-08T09:12:50.060Z"
   },
   {
    "duration": 3,
    "start_time": "2021-07-08T09:26:43.227Z"
   },
   {
    "duration": 193590,
    "start_time": "2021-07-08T09:26:52.060Z"
   },
   {
    "duration": 4,
    "start_time": "2021-07-08T09:36:25.824Z"
   },
   {
    "duration": 276,
    "start_time": "2021-07-08T09:42:33.418Z"
   },
   {
    "duration": 3,
    "start_time": "2021-07-08T09:42:46.860Z"
   },
   {
    "duration": 39,
    "start_time": "2021-07-08T09:42:55.419Z"
   },
   {
    "duration": 8,
    "start_time": "2021-07-08T09:54:32.540Z"
   },
   {
    "duration": 4,
    "start_time": "2021-07-08T10:41:28.739Z"
   },
   {
    "duration": 452,
    "start_time": "2021-07-08T10:57:25.448Z"
   },
   {
    "duration": 3,
    "start_time": "2021-07-08T10:58:16.300Z"
   },
   {
    "duration": 14,
    "start_time": "2021-07-08T10:58:21.347Z"
   },
   {
    "duration": 77,
    "start_time": "2021-07-08T11:00:28.959Z"
   },
   {
    "duration": 228,
    "start_time": "2021-07-08T11:01:25.311Z"
   },
   {
    "duration": 715,
    "start_time": "2021-07-08T11:02:05.324Z"
   },
   {
    "duration": 233,
    "start_time": "2021-07-08T11:18:39.152Z"
   },
   {
    "duration": 235,
    "start_time": "2021-07-08T11:18:41.048Z"
   },
   {
    "duration": 320,
    "start_time": "2021-07-08T11:18:45.350Z"
   },
   {
    "duration": 246,
    "start_time": "2021-07-08T11:19:40.872Z"
   },
   {
    "duration": 4,
    "start_time": "2021-07-08T11:19:45.984Z"
   },
   {
    "duration": 3,
    "start_time": "2021-07-08T11:19:51.112Z"
   },
   {
    "duration": 222,
    "start_time": "2021-07-08T11:19:52.368Z"
   },
   {
    "duration": 239,
    "start_time": "2021-07-08T11:23:06.393Z"
   },
   {
    "duration": 238,
    "start_time": "2021-07-08T11:25:27.317Z"
   },
   {
    "duration": 3,
    "start_time": "2021-07-08T11:25:30.093Z"
   },
   {
    "duration": 236,
    "start_time": "2021-07-08T11:25:31.141Z"
   },
   {
    "duration": 4,
    "start_time": "2021-07-08T11:25:46.004Z"
   },
   {
    "duration": 63,
    "start_time": "2021-07-08T11:25:46.010Z"
   },
   {
    "duration": 3,
    "start_time": "2021-07-08T11:25:46.075Z"
   },
   {
    "duration": 57,
    "start_time": "2021-07-08T11:25:46.080Z"
   },
   {
    "duration": 188,
    "start_time": "2021-07-08T11:25:46.138Z"
   },
   {
    "duration": 10,
    "start_time": "2021-07-08T11:25:46.327Z"
   },
   {
    "duration": 3,
    "start_time": "2021-07-08T11:25:46.339Z"
   },
   {
    "duration": 9,
    "start_time": "2021-07-08T11:25:46.343Z"
   },
   {
    "duration": 2,
    "start_time": "2021-07-08T11:25:46.354Z"
   },
   {
    "duration": 5,
    "start_time": "2021-07-08T11:25:46.357Z"
   },
   {
    "duration": 45,
    "start_time": "2021-07-08T11:25:46.363Z"
   },
   {
    "duration": 2,
    "start_time": "2021-07-08T11:25:46.410Z"
   },
   {
    "duration": 8,
    "start_time": "2021-07-08T11:25:46.414Z"
   },
   {
    "duration": 19,
    "start_time": "2021-07-08T11:25:46.424Z"
   },
   {
    "duration": 189307,
    "start_time": "2021-07-08T11:25:46.444Z"
   },
   {
    "duration": 3,
    "start_time": "2021-07-08T11:28:55.753Z"
   },
   {
    "duration": 48,
    "start_time": "2021-07-08T11:28:55.758Z"
   },
   {
    "duration": 4,
    "start_time": "2021-07-08T11:28:55.807Z"
   },
   {
    "duration": 15,
    "start_time": "2021-07-08T11:28:55.812Z"
   },
   {
    "duration": 750,
    "start_time": "2021-07-08T11:28:55.828Z"
   },
   {
    "duration": 2,
    "start_time": "2021-07-08T11:28:56.579Z"
   },
   {
    "duration": 390,
    "start_time": "2021-07-08T11:28:56.583Z"
   },
   {
    "duration": 226,
    "start_time": "2021-07-08T11:31:24.476Z"
   },
   {
    "duration": 3,
    "start_time": "2021-07-08T11:32:50.905Z"
   },
   {
    "duration": 50,
    "start_time": "2021-07-08T11:34:38.863Z"
   },
   {
    "duration": 14,
    "start_time": "2021-07-08T11:34:49.794Z"
   },
   {
    "duration": 18,
    "start_time": "2021-07-08T11:36:33.642Z"
   },
   {
    "duration": 4,
    "start_time": "2021-07-08T14:45:21.515Z"
   },
   {
    "duration": 11,
    "start_time": "2021-07-08T14:51:17.728Z"
   },
   {
    "duration": 242,
    "start_time": "2021-07-08T14:51:27.285Z"
   },
   {
    "duration": 4,
    "start_time": "2021-07-08T14:51:36.123Z"
   },
   {
    "duration": 69,
    "start_time": "2021-07-08T14:51:36.129Z"
   },
   {
    "duration": 2,
    "start_time": "2021-07-08T14:51:36.200Z"
   },
   {
    "duration": 96,
    "start_time": "2021-07-08T14:51:36.204Z"
   },
   {
    "duration": 159,
    "start_time": "2021-07-08T14:51:36.302Z"
   },
   {
    "duration": 11,
    "start_time": "2021-07-08T14:51:36.462Z"
   },
   {
    "duration": 7,
    "start_time": "2021-07-08T14:51:36.474Z"
   },
   {
    "duration": 17,
    "start_time": "2021-07-08T14:51:36.483Z"
   },
   {
    "duration": 6,
    "start_time": "2021-07-08T14:51:36.502Z"
   },
   {
    "duration": 7,
    "start_time": "2021-07-08T14:51:36.509Z"
   },
   {
    "duration": 34,
    "start_time": "2021-07-08T14:51:36.517Z"
   },
   {
    "duration": 3,
    "start_time": "2021-07-08T14:51:36.552Z"
   },
   {
    "duration": 12,
    "start_time": "2021-07-08T14:51:36.556Z"
   },
   {
    "duration": 22,
    "start_time": "2021-07-08T14:51:36.569Z"
   },
   {
    "duration": 208661,
    "start_time": "2021-07-08T14:51:36.593Z"
   },
   {
    "duration": 3,
    "start_time": "2021-07-08T14:55:05.256Z"
   },
   {
    "duration": 55,
    "start_time": "2021-07-08T14:55:05.260Z"
   },
   {
    "duration": 12,
    "start_time": "2021-07-08T14:55:05.317Z"
   },
   {
    "duration": 235,
    "start_time": "2021-07-08T14:55:05.331Z"
   },
   {
    "duration": 34,
    "start_time": "2021-07-08T14:55:05.533Z"
   },
   {
    "duration": 31,
    "start_time": "2021-07-08T14:55:05.537Z"
   },
   {
    "duration": 29,
    "start_time": "2021-07-08T14:55:05.540Z"
   },
   {
    "duration": 28,
    "start_time": "2021-07-08T14:55:05.542Z"
   },
   {
    "duration": 28,
    "start_time": "2021-07-08T14:55:05.543Z"
   },
   {
    "duration": 28,
    "start_time": "2021-07-08T14:55:05.544Z"
   },
   {
    "duration": 5,
    "start_time": "2021-07-08T14:57:26.656Z"
   },
   {
    "duration": 4,
    "start_time": "2021-07-08T14:57:28.455Z"
   },
   {
    "duration": 467,
    "start_time": "2021-07-08T14:57:29.295Z"
   },
   {
    "duration": 4,
    "start_time": "2021-07-08T15:12:10.028Z"
   },
   {
    "duration": 463,
    "start_time": "2021-07-08T15:12:10.660Z"
   },
   {
    "duration": 8,
    "start_time": "2021-07-08T15:13:15.726Z"
   },
   {
    "duration": 15,
    "start_time": "2021-07-08T15:13:19.903Z"
   },
   {
    "duration": 230,
    "start_time": "2021-07-08T15:14:43.832Z"
   },
   {
    "duration": 219,
    "start_time": "2021-07-08T15:15:18.957Z"
   },
   {
    "duration": 233,
    "start_time": "2021-07-08T15:15:20.397Z"
   },
   {
    "duration": 251,
    "start_time": "2021-07-08T15:15:35.689Z"
   },
   {
    "duration": 19,
    "start_time": "2021-07-08T15:16:03.871Z"
   },
   {
    "duration": 27,
    "start_time": "2021-07-08T15:16:45.210Z"
   },
   {
    "duration": 235,
    "start_time": "2021-07-08T15:17:28.965Z"
   },
   {
    "duration": 19,
    "start_time": "2021-07-08T15:17:54.298Z"
   },
   {
    "duration": 11,
    "start_time": "2021-07-08T15:19:35.273Z"
   },
   {
    "duration": 13,
    "start_time": "2021-07-08T15:21:16.703Z"
   },
   {
    "duration": 275,
    "start_time": "2021-07-08T15:21:19.715Z"
   },
   {
    "duration": 2,
    "start_time": "2021-07-08T15:23:26.923Z"
   },
   {
    "duration": 234,
    "start_time": "2021-07-08T15:23:28.482Z"
   },
   {
    "duration": 235,
    "start_time": "2021-07-08T15:23:32.751Z"
   },
   {
    "duration": 236,
    "start_time": "2021-07-08T15:24:18.122Z"
   },
   {
    "duration": 4,
    "start_time": "2021-07-08T15:24:41.647Z"
   },
   {
    "duration": 71,
    "start_time": "2021-07-08T15:24:41.653Z"
   },
   {
    "duration": 3,
    "start_time": "2021-07-08T15:24:41.727Z"
   },
   {
    "duration": 96,
    "start_time": "2021-07-08T15:24:41.731Z"
   },
   {
    "duration": 197,
    "start_time": "2021-07-08T15:24:41.828Z"
   },
   {
    "duration": 11,
    "start_time": "2021-07-08T15:24:42.026Z"
   },
   {
    "duration": 8,
    "start_time": "2021-07-08T15:24:42.039Z"
   },
   {
    "duration": 20,
    "start_time": "2021-07-08T15:24:42.049Z"
   },
   {
    "duration": 256,
    "start_time": "2021-07-08T15:24:42.070Z"
   },
   {
    "duration": 39,
    "start_time": "2021-07-08T15:24:42.289Z"
   },
   {
    "duration": 39,
    "start_time": "2021-07-08T15:24:42.290Z"
   },
   {
    "duration": 38,
    "start_time": "2021-07-08T15:24:42.292Z"
   },
   {
    "duration": 37,
    "start_time": "2021-07-08T15:24:42.294Z"
   },
   {
    "duration": 35,
    "start_time": "2021-07-08T15:24:42.296Z"
   },
   {
    "duration": 35,
    "start_time": "2021-07-08T15:24:42.297Z"
   },
   {
    "duration": 34,
    "start_time": "2021-07-08T15:24:42.299Z"
   },
   {
    "duration": 33,
    "start_time": "2021-07-08T15:24:42.301Z"
   },
   {
    "duration": 32,
    "start_time": "2021-07-08T15:24:42.303Z"
   },
   {
    "duration": 30,
    "start_time": "2021-07-08T15:24:42.306Z"
   },
   {
    "duration": 29,
    "start_time": "2021-07-08T15:24:42.307Z"
   },
   {
    "duration": 29,
    "start_time": "2021-07-08T15:24:42.308Z"
   },
   {
    "duration": 28,
    "start_time": "2021-07-08T15:24:42.310Z"
   },
   {
    "duration": 27,
    "start_time": "2021-07-08T15:24:42.311Z"
   },
   {
    "duration": 27,
    "start_time": "2021-07-08T15:24:42.312Z"
   },
   {
    "duration": 26,
    "start_time": "2021-07-08T15:24:42.314Z"
   },
   {
    "duration": 236,
    "start_time": "2021-07-08T15:25:18.726Z"
   },
   {
    "duration": 5,
    "start_time": "2021-07-08T15:25:23.700Z"
   },
   {
    "duration": 238,
    "start_time": "2021-07-08T15:25:24.506Z"
   },
   {
    "duration": 20,
    "start_time": "2021-07-08T15:25:37.502Z"
   },
   {
    "duration": 3,
    "start_time": "2021-07-08T15:26:16.307Z"
   },
   {
    "duration": 267,
    "start_time": "2021-07-08T15:26:17.403Z"
   },
   {
    "duration": 5,
    "start_time": "2021-07-08T15:26:32.676Z"
   },
   {
    "duration": 78,
    "start_time": "2021-07-08T15:26:32.683Z"
   },
   {
    "duration": 3,
    "start_time": "2021-07-08T15:26:32.762Z"
   },
   {
    "duration": 79,
    "start_time": "2021-07-08T15:26:32.767Z"
   },
   {
    "duration": 211,
    "start_time": "2021-07-08T15:26:32.848Z"
   },
   {
    "duration": 15,
    "start_time": "2021-07-08T15:26:33.061Z"
   },
   {
    "duration": 14,
    "start_time": "2021-07-08T15:26:33.077Z"
   },
   {
    "duration": 41,
    "start_time": "2021-07-08T15:26:33.094Z"
   },
   {
    "duration": 9,
    "start_time": "2021-07-08T15:26:33.137Z"
   },
   {
    "duration": 44,
    "start_time": "2021-07-08T15:26:33.148Z"
   },
   {
    "duration": 4,
    "start_time": "2021-07-08T15:26:33.194Z"
   },
   {
    "duration": 5,
    "start_time": "2021-07-08T15:26:33.201Z"
   },
   {
    "duration": 17,
    "start_time": "2021-07-08T15:26:33.209Z"
   },
   {
    "duration": 198549,
    "start_time": "2021-07-08T15:26:33.228Z"
   },
   {
    "duration": 4,
    "start_time": "2021-07-08T15:29:51.778Z"
   },
   {
    "duration": 41,
    "start_time": "2021-07-08T15:29:51.792Z"
   },
   {
    "duration": 3,
    "start_time": "2021-07-08T15:29:51.834Z"
   },
   {
    "duration": 16,
    "start_time": "2021-07-08T15:29:51.839Z"
   },
   {
    "duration": 37,
    "start_time": "2021-07-08T15:29:51.856Z"
   },
   {
    "duration": 22,
    "start_time": "2021-07-08T15:29:51.895Z"
   },
   {
    "duration": 11,
    "start_time": "2021-07-08T15:29:51.919Z"
   },
   {
    "duration": 785,
    "start_time": "2021-07-08T15:29:51.931Z"
   },
   {
    "duration": 2,
    "start_time": "2021-07-08T15:29:52.718Z"
   },
   {
    "duration": 21,
    "start_time": "2021-07-08T15:29:52.722Z"
   },
   {
    "duration": 66,
    "start_time": "2021-07-08T15:29:52.745Z"
   },
   {
    "duration": 181223,
    "start_time": "2021-07-08T15:55:37.633Z"
   },
   {
    "duration": 45,
    "start_time": "2021-07-08T16:07:39.240Z"
   },
   {
    "duration": 756,
    "start_time": "2021-07-08T16:08:08.344Z"
   },
   {
    "duration": 4,
    "start_time": "2021-07-08T16:08:16.982Z"
   },
   {
    "duration": 67,
    "start_time": "2021-07-08T16:08:16.988Z"
   },
   {
    "duration": 3,
    "start_time": "2021-07-08T16:08:17.057Z"
   },
   {
    "duration": 77,
    "start_time": "2021-07-08T16:08:17.061Z"
   },
   {
    "duration": 193,
    "start_time": "2021-07-08T16:08:17.139Z"
   },
   {
    "duration": 10,
    "start_time": "2021-07-08T16:08:17.334Z"
   },
   {
    "duration": 3,
    "start_time": "2021-07-08T16:08:17.345Z"
   },
   {
    "duration": 24,
    "start_time": "2021-07-08T16:08:17.350Z"
   },
   {
    "duration": 22,
    "start_time": "2021-07-08T16:08:17.375Z"
   },
   {
    "duration": 20,
    "start_time": "2021-07-08T16:08:17.399Z"
   },
   {
    "duration": 2,
    "start_time": "2021-07-08T16:08:17.421Z"
   },
   {
    "duration": 6,
    "start_time": "2021-07-08T16:08:17.425Z"
   },
   {
    "duration": 13,
    "start_time": "2021-07-08T16:08:17.432Z"
   },
   {
    "duration": 205339,
    "start_time": "2021-07-08T16:08:17.446Z"
   },
   {
    "duration": 14,
    "start_time": "2021-07-08T16:11:42.786Z"
   },
   {
    "duration": 42,
    "start_time": "2021-07-08T16:11:42.802Z"
   },
   {
    "duration": 3,
    "start_time": "2021-07-08T16:11:42.845Z"
   },
   {
    "duration": 18,
    "start_time": "2021-07-08T16:11:42.850Z"
   },
   {
    "duration": 30,
    "start_time": "2021-07-08T16:11:42.869Z"
   },
   {
    "duration": 21,
    "start_time": "2021-07-08T16:11:42.904Z"
   },
   {
    "duration": 11,
    "start_time": "2021-07-08T16:11:42.926Z"
   },
   {
    "duration": 827,
    "start_time": "2021-07-08T16:11:42.939Z"
   },
   {
    "duration": 3,
    "start_time": "2021-07-08T16:11:43.769Z"
   },
   {
    "duration": 72,
    "start_time": "2021-07-08T16:11:43.773Z"
   },
   {
    "duration": 179817,
    "start_time": "2021-07-08T16:11:43.847Z"
   },
   {
    "duration": 61,
    "start_time": "2021-07-08T16:14:43.666Z"
   },
   {
    "duration": 7,
    "start_time": "2021-07-08T16:14:43.729Z"
   },
   {
    "duration": 5,
    "start_time": "2021-07-08T16:14:43.737Z"
   },
   {
    "duration": 40,
    "start_time": "2021-07-08T16:56:31.860Z"
   },
   {
    "duration": 9,
    "start_time": "2021-07-08T16:57:03.790Z"
   },
   {
    "duration": 6,
    "start_time": "2021-07-08T16:57:13.614Z"
   },
   {
    "duration": 3,
    "start_time": "2021-07-08T17:13:45.826Z"
   },
   {
    "duration": 323,
    "start_time": "2021-07-08T17:27:42.144Z"
   },
   {
    "duration": 291,
    "start_time": "2021-07-08T17:28:16.499Z"
   },
   {
    "duration": 298,
    "start_time": "2021-07-08T17:30:38.714Z"
   },
   {
    "duration": 77,
    "start_time": "2021-07-08T17:31:01.419Z"
   },
   {
    "duration": 16,
    "start_time": "2021-07-08T17:33:53.075Z"
   },
   {
    "duration": 224,
    "start_time": "2021-07-08T17:33:54.172Z"
   },
   {
    "duration": 224,
    "start_time": "2021-07-08T17:34:04.534Z"
   },
   {
    "duration": 237,
    "start_time": "2021-07-08T17:34:14.212Z"
   },
   {
    "duration": 381,
    "start_time": "2021-07-08T17:34:19.273Z"
   },
   {
    "duration": 315,
    "start_time": "2021-07-08T17:34:23.425Z"
   },
   {
    "duration": 267,
    "start_time": "2021-07-08T17:34:34.997Z"
   },
   {
    "duration": 12,
    "start_time": "2021-07-08T17:34:45.837Z"
   },
   {
    "duration": 3,
    "start_time": "2021-07-08T17:37:10.548Z"
   },
   {
    "duration": 63,
    "start_time": "2021-07-08T17:37:10.553Z"
   },
   {
    "duration": 2,
    "start_time": "2021-07-08T17:37:10.619Z"
   },
   {
    "duration": 89,
    "start_time": "2021-07-08T17:37:10.624Z"
   },
   {
    "duration": 173,
    "start_time": "2021-07-08T17:37:10.715Z"
   },
   {
    "duration": 10,
    "start_time": "2021-07-08T17:37:10.891Z"
   },
   {
    "duration": 3,
    "start_time": "2021-07-08T17:37:10.902Z"
   },
   {
    "duration": 25,
    "start_time": "2021-07-08T17:37:10.906Z"
   },
   {
    "duration": 8,
    "start_time": "2021-07-08T17:37:10.935Z"
   },
   {
    "duration": 16,
    "start_time": "2021-07-08T17:37:10.945Z"
   },
   {
    "duration": 37,
    "start_time": "2021-07-08T17:37:10.962Z"
   },
   {
    "duration": 2,
    "start_time": "2021-07-08T17:37:11.001Z"
   },
   {
    "duration": 6,
    "start_time": "2021-07-08T17:37:11.004Z"
   },
   {
    "duration": 194609,
    "start_time": "2021-07-08T17:37:11.011Z"
   },
   {
    "duration": 3,
    "start_time": "2021-07-08T17:40:25.622Z"
   },
   {
    "duration": 42,
    "start_time": "2021-07-08T17:40:25.626Z"
   },
   {
    "duration": 3,
    "start_time": "2021-07-08T17:40:25.669Z"
   },
   {
    "duration": 31,
    "start_time": "2021-07-08T17:40:25.673Z"
   },
   {
    "duration": 15,
    "start_time": "2021-07-08T17:40:25.705Z"
   },
   {
    "duration": 14,
    "start_time": "2021-07-08T17:40:25.721Z"
   },
   {
    "duration": 10,
    "start_time": "2021-07-08T17:40:25.736Z"
   },
   {
    "duration": 751,
    "start_time": "2021-07-08T17:40:25.747Z"
   },
   {
    "duration": 42,
    "start_time": "2021-07-08T17:40:26.499Z"
   },
   {
    "duration": 2,
    "start_time": "2021-07-08T17:40:26.542Z"
   },
   {
    "duration": 19,
    "start_time": "2021-07-08T17:40:26.546Z"
   },
   {
    "duration": 179869,
    "start_time": "2021-07-08T17:40:26.566Z"
   },
   {
    "duration": 90,
    "start_time": "2021-07-08T17:43:26.438Z"
   },
   {
    "duration": 12,
    "start_time": "2021-07-08T17:43:26.530Z"
   },
   {
    "duration": 52,
    "start_time": "2021-07-08T17:43:26.543Z"
   },
   {
    "duration": 991,
    "start_time": "2021-07-12T11:07:12.712Z"
   },
   {
    "duration": 61,
    "start_time": "2021-07-12T11:07:13.704Z"
   },
   {
    "duration": 13,
    "start_time": "2021-07-12T11:07:15.240Z"
   },
   {
    "duration": 3,
    "start_time": "2021-07-12T11:08:14.528Z"
   },
   {
    "duration": 50,
    "start_time": "2021-07-12T11:08:20.051Z"
   },
   {
    "duration": 498,
    "start_time": "2021-07-12T11:10:26.839Z"
   },
   {
    "duration": 146,
    "start_time": "2021-07-12T11:10:35.218Z"
   },
   {
    "duration": 155,
    "start_time": "2021-07-12T11:11:39.168Z"
   },
   {
    "duration": 394,
    "start_time": "2021-07-12T11:12:18.563Z"
   },
   {
    "duration": 218,
    "start_time": "2021-07-12T11:12:31.428Z"
   },
   {
    "duration": 155,
    "start_time": "2021-07-12T11:12:43.634Z"
   },
   {
    "duration": 158,
    "start_time": "2021-07-12T11:12:51.684Z"
   },
   {
    "duration": 167,
    "start_time": "2021-07-12T11:13:59.082Z"
   },
   {
    "duration": 236,
    "start_time": "2021-07-12T11:15:46.918Z"
   },
   {
    "duration": 258,
    "start_time": "2021-07-12T11:15:56.697Z"
   },
   {
    "duration": 152,
    "start_time": "2021-07-12T11:16:29.628Z"
   },
   {
    "duration": 256,
    "start_time": "2021-07-12T11:21:45.736Z"
   },
   {
    "duration": 786,
    "start_time": "2021-07-12T11:21:51.929Z"
   },
   {
    "duration": 223,
    "start_time": "2021-07-12T11:21:55.433Z"
   },
   {
    "duration": 299,
    "start_time": "2021-07-12T11:22:00.652Z"
   },
   {
    "duration": 151,
    "start_time": "2021-07-12T11:22:06.789Z"
   },
   {
    "duration": 151,
    "start_time": "2021-07-12T11:22:11.709Z"
   },
   {
    "duration": 140,
    "start_time": "2021-07-12T11:22:13.931Z"
   },
   {
    "duration": 143,
    "start_time": "2021-07-12T11:22:16.556Z"
   },
   {
    "duration": 145,
    "start_time": "2021-07-12T11:22:21.899Z"
   },
   {
    "duration": 152,
    "start_time": "2021-07-12T11:22:25.052Z"
   },
   {
    "duration": 4,
    "start_time": "2021-07-12T11:29:34.525Z"
   },
   {
    "duration": 395,
    "start_time": "2021-07-12T11:31:00.524Z"
   },
   {
    "duration": 288,
    "start_time": "2021-07-12T11:31:41.626Z"
   },
   {
    "duration": 133,
    "start_time": "2021-07-12T11:32:57.977Z"
   },
   {
    "duration": 128,
    "start_time": "2021-07-12T11:33:10.038Z"
   },
   {
    "duration": 127,
    "start_time": "2021-07-12T11:33:18.210Z"
   },
   {
    "duration": 105,
    "start_time": "2021-07-12T11:33:36.943Z"
   },
   {
    "duration": 266,
    "start_time": "2021-07-12T11:33:44.593Z"
   },
   {
    "duration": 4,
    "start_time": "2021-07-12T11:35:02.279Z"
   },
   {
    "duration": 2,
    "start_time": "2021-07-12T11:35:14.732Z"
   },
   {
    "duration": 3,
    "start_time": "2021-07-12T11:36:17.404Z"
   },
   {
    "duration": 23,
    "start_time": "2021-07-12T11:36:34.548Z"
   },
   {
    "duration": 4,
    "start_time": "2021-07-12T12:41:46.863Z"
   },
   {
    "duration": 62,
    "start_time": "2021-07-12T12:41:46.868Z"
   },
   {
    "duration": 12,
    "start_time": "2021-07-12T12:41:46.932Z"
   },
   {
    "duration": 4,
    "start_time": "2021-07-12T12:41:46.946Z"
   },
   {
    "duration": 80,
    "start_time": "2021-07-12T12:41:46.952Z"
   },
   {
    "duration": 197,
    "start_time": "2021-07-12T12:41:47.033Z"
   },
   {
    "duration": 10,
    "start_time": "2021-07-12T12:41:47.231Z"
   },
   {
    "duration": 274,
    "start_time": "2021-07-12T12:41:47.243Z"
   },
   {
    "duration": 2,
    "start_time": "2021-07-12T12:41:47.520Z"
   },
   {
    "duration": 5,
    "start_time": "2021-07-12T12:41:47.524Z"
   },
   {
    "duration": 24,
    "start_time": "2021-07-12T12:41:47.530Z"
   },
   {
    "duration": 239,
    "start_time": "2021-07-12T12:41:47.556Z"
   },
   {
    "duration": -35,
    "start_time": "2021-07-12T12:41:47.832Z"
   },
   {
    "duration": -39,
    "start_time": "2021-07-12T12:41:47.837Z"
   },
   {
    "duration": -40,
    "start_time": "2021-07-12T12:41:47.839Z"
   },
   {
    "duration": -45,
    "start_time": "2021-07-12T12:41:47.845Z"
   },
   {
    "duration": -54,
    "start_time": "2021-07-12T12:41:47.855Z"
   },
   {
    "duration": -56,
    "start_time": "2021-07-12T12:41:47.858Z"
   },
   {
    "duration": -63,
    "start_time": "2021-07-12T12:41:47.866Z"
   },
   {
    "duration": -67,
    "start_time": "2021-07-12T12:41:47.871Z"
   },
   {
    "duration": -71,
    "start_time": "2021-07-12T12:41:47.875Z"
   },
   {
    "duration": -72,
    "start_time": "2021-07-12T12:41:47.877Z"
   },
   {
    "duration": -72,
    "start_time": "2021-07-12T12:41:47.878Z"
   },
   {
    "duration": -73,
    "start_time": "2021-07-12T12:41:47.880Z"
   },
   {
    "duration": -73,
    "start_time": "2021-07-12T12:41:47.881Z"
   },
   {
    "duration": -74,
    "start_time": "2021-07-12T12:41:47.883Z"
   },
   {
    "duration": -81,
    "start_time": "2021-07-12T12:41:47.891Z"
   },
   {
    "duration": -82,
    "start_time": "2021-07-12T12:41:47.893Z"
   },
   {
    "duration": -83,
    "start_time": "2021-07-12T12:41:47.895Z"
   },
   {
    "duration": -84,
    "start_time": "2021-07-12T12:41:47.897Z"
   },
   {
    "duration": -85,
    "start_time": "2021-07-12T12:41:47.899Z"
   },
   {
    "duration": -87,
    "start_time": "2021-07-12T12:41:47.901Z"
   },
   {
    "duration": 4,
    "start_time": "2021-07-12T12:42:00.170Z"
   },
   {
    "duration": 69,
    "start_time": "2021-07-12T12:42:00.176Z"
   },
   {
    "duration": 12,
    "start_time": "2021-07-12T12:42:00.247Z"
   },
   {
    "duration": 10,
    "start_time": "2021-07-12T12:42:00.261Z"
   },
   {
    "duration": 76,
    "start_time": "2021-07-12T12:42:00.272Z"
   },
   {
    "duration": 175,
    "start_time": "2021-07-12T12:42:00.392Z"
   },
   {
    "duration": 11,
    "start_time": "2021-07-12T12:42:00.568Z"
   },
   {
    "duration": 288,
    "start_time": "2021-07-12T12:42:00.580Z"
   },
   {
    "duration": 2,
    "start_time": "2021-07-12T12:42:00.870Z"
   },
   {
    "duration": 17,
    "start_time": "2021-07-12T12:42:00.874Z"
   },
   {
    "duration": 39,
    "start_time": "2021-07-12T12:42:00.893Z"
   },
   {
    "duration": 241,
    "start_time": "2021-07-12T12:42:00.934Z"
   },
   {
    "duration": -36,
    "start_time": "2021-07-12T12:42:01.213Z"
   },
   {
    "duration": -40,
    "start_time": "2021-07-12T12:42:01.218Z"
   },
   {
    "duration": -41,
    "start_time": "2021-07-12T12:42:01.220Z"
   },
   {
    "duration": -43,
    "start_time": "2021-07-12T12:42:01.223Z"
   },
   {
    "duration": -44,
    "start_time": "2021-07-12T12:42:01.225Z"
   },
   {
    "duration": -46,
    "start_time": "2021-07-12T12:42:01.227Z"
   },
   {
    "duration": -46,
    "start_time": "2021-07-12T12:42:01.228Z"
   },
   {
    "duration": -47,
    "start_time": "2021-07-12T12:42:01.230Z"
   },
   {
    "duration": -47,
    "start_time": "2021-07-12T12:42:01.231Z"
   },
   {
    "duration": -48,
    "start_time": "2021-07-12T12:42:01.233Z"
   },
   {
    "duration": -50,
    "start_time": "2021-07-12T12:42:01.235Z"
   },
   {
    "duration": -50,
    "start_time": "2021-07-12T12:42:01.236Z"
   },
   {
    "duration": -50,
    "start_time": "2021-07-12T12:42:01.237Z"
   },
   {
    "duration": -51,
    "start_time": "2021-07-12T12:42:01.239Z"
   },
   {
    "duration": -51,
    "start_time": "2021-07-12T12:42:01.240Z"
   },
   {
    "duration": -53,
    "start_time": "2021-07-12T12:42:01.242Z"
   },
   {
    "duration": -53,
    "start_time": "2021-07-12T12:42:01.243Z"
   },
   {
    "duration": -54,
    "start_time": "2021-07-12T12:42:01.245Z"
   },
   {
    "duration": -55,
    "start_time": "2021-07-12T12:42:01.247Z"
   },
   {
    "duration": -55,
    "start_time": "2021-07-12T12:42:01.248Z"
   },
   {
    "duration": 4,
    "start_time": "2021-07-12T12:43:17.764Z"
   },
   {
    "duration": 61,
    "start_time": "2021-07-12T12:43:17.769Z"
   },
   {
    "duration": 12,
    "start_time": "2021-07-12T12:43:17.832Z"
   },
   {
    "duration": 4,
    "start_time": "2021-07-12T12:43:17.846Z"
   },
   {
    "duration": 84,
    "start_time": "2021-07-12T12:43:17.851Z"
   },
   {
    "duration": 197,
    "start_time": "2021-07-12T12:43:17.937Z"
   },
   {
    "duration": 10,
    "start_time": "2021-07-12T12:43:18.136Z"
   },
   {
    "duration": 272,
    "start_time": "2021-07-12T12:43:18.149Z"
   },
   {
    "duration": 2,
    "start_time": "2021-07-12T12:43:18.423Z"
   },
   {
    "duration": 7,
    "start_time": "2021-07-12T12:43:18.426Z"
   },
   {
    "duration": 24,
    "start_time": "2021-07-12T12:43:18.435Z"
   },
   {
    "duration": 7,
    "start_time": "2021-07-12T12:43:18.461Z"
   },
   {
    "duration": 33,
    "start_time": "2021-07-12T12:43:18.470Z"
   },
   {
    "duration": 11,
    "start_time": "2021-07-12T12:43:18.504Z"
   },
   {
    "duration": 3,
    "start_time": "2021-07-12T12:43:18.516Z"
   },
   {
    "duration": 7,
    "start_time": "2021-07-12T12:43:18.520Z"
   },
   {
    "duration": 200495,
    "start_time": "2021-07-12T12:43:18.528Z"
   },
   {
    "duration": 3,
    "start_time": "2021-07-12T12:46:39.025Z"
   },
   {
    "duration": 46,
    "start_time": "2021-07-12T12:46:39.030Z"
   },
   {
    "duration": 16,
    "start_time": "2021-07-12T12:46:39.077Z"
   },
   {
    "duration": 21,
    "start_time": "2021-07-12T12:46:39.095Z"
   },
   {
    "duration": 14,
    "start_time": "2021-07-12T12:46:39.118Z"
   },
   {
    "duration": 13,
    "start_time": "2021-07-12T12:46:39.135Z"
   },
   {
    "duration": 10,
    "start_time": "2021-07-12T12:46:39.149Z"
   },
   {
    "duration": 757,
    "start_time": "2021-07-12T12:46:39.160Z"
   },
   {
    "duration": 39,
    "start_time": "2021-07-12T12:46:39.918Z"
   },
   {
    "duration": 2,
    "start_time": "2021-07-12T12:46:39.959Z"
   },
   {
    "duration": 34,
    "start_time": "2021-07-12T12:46:39.962Z"
   },
   {
    "duration": 182053,
    "start_time": "2021-07-12T12:46:39.997Z"
   },
   {
    "duration": 78,
    "start_time": "2021-07-12T12:49:42.051Z"
   },
   {
    "duration": 12,
    "start_time": "2021-07-12T12:49:42.130Z"
   },
   {
    "duration": 50,
    "start_time": "2021-07-12T12:49:42.144Z"
   },
   {
    "duration": 988,
    "start_time": "2021-07-13T07:30:30.124Z"
   },
   {
    "duration": 720,
    "start_time": "2021-07-13T07:31:03.930Z"
   },
   {
    "duration": 673,
    "start_time": "2021-07-13T07:32:33.191Z"
   },
   {
    "duration": 311,
    "start_time": "2021-07-13T07:32:42.212Z"
   },
   {
    "duration": 426,
    "start_time": "2021-07-13T07:32:56.635Z"
   },
   {
    "duration": 6,
    "start_time": "2021-07-13T07:33:01.371Z"
   },
   {
    "duration": 780,
    "start_time": "2021-07-13T07:33:11.839Z"
   },
   {
    "duration": 701,
    "start_time": "2021-07-13T07:33:17.584Z"
   },
   {
    "duration": 4,
    "start_time": "2021-07-13T07:38:24.989Z"
   },
   {
    "duration": 271,
    "start_time": "2021-07-13T07:38:30.096Z"
   },
   {
    "duration": 1518,
    "start_time": "2021-07-13T07:38:39.465Z"
   },
   {
    "duration": 103,
    "start_time": "2021-07-13T07:38:40.986Z"
   },
   {
    "duration": 22,
    "start_time": "2021-07-13T07:38:41.092Z"
   },
   {
    "duration": 6,
    "start_time": "2021-07-13T07:38:41.116Z"
   },
   {
    "duration": 158,
    "start_time": "2021-07-13T07:38:41.125Z"
   },
   {
    "duration": 342,
    "start_time": "2021-07-13T07:38:41.285Z"
   },
   {
    "duration": 30,
    "start_time": "2021-07-13T07:38:41.630Z"
   },
   {
    "duration": 517,
    "start_time": "2021-07-13T07:38:41.664Z"
   },
   {
    "duration": 3,
    "start_time": "2021-07-13T07:38:42.184Z"
   },
   {
    "duration": 9,
    "start_time": "2021-07-13T07:38:42.190Z"
   },
   {
    "duration": 60,
    "start_time": "2021-07-13T07:38:42.201Z"
   },
   {
    "duration": 13,
    "start_time": "2021-07-13T07:38:42.264Z"
   },
   {
    "duration": 30,
    "start_time": "2021-07-13T07:38:42.279Z"
   },
   {
    "duration": 51,
    "start_time": "2021-07-13T07:38:42.312Z"
   },
   {
    "duration": 4,
    "start_time": "2021-07-13T07:38:42.365Z"
   },
   {
    "duration": 13,
    "start_time": "2021-07-13T07:38:42.371Z"
   },
   {
    "duration": 328770,
    "start_time": "2021-07-13T07:38:42.386Z"
   },
   {
    "duration": 6,
    "start_time": "2021-07-13T07:44:11.159Z"
   },
   {
    "duration": 93,
    "start_time": "2021-07-13T07:44:11.167Z"
   },
   {
    "duration": 6,
    "start_time": "2021-07-13T07:44:11.262Z"
   },
   {
    "duration": 37,
    "start_time": "2021-07-13T07:44:11.270Z"
   },
   {
    "duration": 26,
    "start_time": "2021-07-13T07:44:11.309Z"
   },
   {
    "duration": 21,
    "start_time": "2021-07-13T07:44:11.358Z"
   },
   {
    "duration": 16,
    "start_time": "2021-07-13T07:44:11.382Z"
   },
   {
    "duration": 1318,
    "start_time": "2021-07-13T07:44:11.400Z"
   },
   {
    "duration": 72,
    "start_time": "2021-07-13T07:44:12.721Z"
   },
   {
    "duration": 4,
    "start_time": "2021-07-13T07:44:12.795Z"
   },
   {
    "duration": 8,
    "start_time": "2021-07-13T07:44:12.801Z"
   },
   {
    "duration": 45,
    "start_time": "2021-07-13T07:44:12.812Z"
   },
   {
    "duration": 239015,
    "start_time": "2021-07-13T07:44:12.860Z"
   },
   {
    "duration": 128,
    "start_time": "2021-07-13T07:48:11.878Z"
   },
   {
    "duration": 19,
    "start_time": "2021-07-13T07:48:12.009Z"
   },
   {
    "duration": 128,
    "start_time": "2021-07-13T07:48:12.030Z"
   },
   {
    "duration": 5,
    "start_time": "2021-07-13T07:55:25.339Z"
   },
   {
    "duration": 345,
    "start_time": "2021-07-13T07:55:49.480Z"
   },
   {
    "duration": 27,
    "start_time": "2021-07-13T07:56:02.696Z"
   },
   {
    "duration": 3,
    "start_time": "2021-07-13T07:56:27.470Z"
   },
   {
    "duration": 5,
    "start_time": "2021-07-13T07:56:28.276Z"
   },
   {
    "duration": 26,
    "start_time": "2021-07-13T07:56:29.292Z"
   },
   {
    "duration": 3,
    "start_time": "2021-07-13T07:57:17.255Z"
   },
   {
    "duration": 4,
    "start_time": "2021-07-13T07:57:20.607Z"
   },
   {
    "duration": 5,
    "start_time": "2021-07-13T07:57:21.450Z"
   },
   {
    "duration": 26,
    "start_time": "2021-07-13T07:57:22.142Z"
   },
   {
    "duration": 5,
    "start_time": "2021-07-13T07:57:30.759Z"
   },
   {
    "duration": 32,
    "start_time": "2021-07-13T07:57:31.159Z"
   },
   {
    "duration": 25,
    "start_time": "2021-07-13T07:58:00.094Z"
   },
   {
    "duration": 27,
    "start_time": "2021-07-13T07:58:17.771Z"
   },
   {
    "duration": 26,
    "start_time": "2021-07-13T07:59:03.825Z"
   },
   {
    "duration": 5,
    "start_time": "2021-07-13T07:59:11.068Z"
   },
   {
    "duration": 28,
    "start_time": "2021-07-13T07:59:11.660Z"
   },
   {
    "duration": 5,
    "start_time": "2021-07-13T08:06:48.346Z"
   },
   {
    "duration": 28,
    "start_time": "2021-07-13T08:06:49.067Z"
   },
   {
    "duration": 25,
    "start_time": "2021-07-13T08:10:16.425Z"
   },
   {
    "duration": 43,
    "start_time": "2021-07-13T08:10:45.054Z"
   },
   {
    "duration": 26,
    "start_time": "2021-07-13T08:10:53.517Z"
   },
   {
    "duration": 5,
    "start_time": "2021-07-13T08:14:26.435Z"
   },
   {
    "duration": 6,
    "start_time": "2021-07-13T08:15:18.136Z"
   },
   {
    "duration": 123,
    "start_time": "2021-07-13T08:15:18.144Z"
   },
   {
    "duration": 22,
    "start_time": "2021-07-13T08:15:18.270Z"
   },
   {
    "duration": 18,
    "start_time": "2021-07-13T08:15:18.295Z"
   },
   {
    "duration": 158,
    "start_time": "2021-07-13T08:15:18.316Z"
   },
   {
    "duration": 430,
    "start_time": "2021-07-13T08:15:18.477Z"
   },
   {
    "duration": 20,
    "start_time": "2021-07-13T08:15:18.910Z"
   },
   {
    "duration": 726,
    "start_time": "2021-07-13T08:15:18.934Z"
   },
   {
    "duration": 3,
    "start_time": "2021-07-13T08:15:19.664Z"
   },
   {
    "duration": 22,
    "start_time": "2021-07-13T08:15:19.669Z"
   },
   {
    "duration": 53,
    "start_time": "2021-07-13T08:15:19.693Z"
   },
   {
    "duration": 14,
    "start_time": "2021-07-13T08:15:19.748Z"
   },
   {
    "duration": 30,
    "start_time": "2021-07-13T08:15:19.764Z"
   },
   {
    "duration": 18,
    "start_time": "2021-07-13T08:15:19.796Z"
   },
   {
    "duration": 38,
    "start_time": "2021-07-13T08:15:19.816Z"
   },
   {
    "duration": 5,
    "start_time": "2021-07-13T08:15:19.857Z"
   },
   {
    "duration": 329895,
    "start_time": "2021-07-13T08:15:19.864Z"
   },
   {
    "duration": 4,
    "start_time": "2021-07-13T08:20:49.762Z"
   },
   {
    "duration": 88,
    "start_time": "2021-07-13T08:20:49.769Z"
   },
   {
    "duration": 5,
    "start_time": "2021-07-13T08:20:49.860Z"
   },
   {
    "duration": 43,
    "start_time": "2021-07-13T08:20:49.867Z"
   },
   {
    "duration": 25,
    "start_time": "2021-07-13T08:20:49.912Z"
   },
   {
    "duration": 21,
    "start_time": "2021-07-13T08:20:49.955Z"
   },
   {
    "duration": 16,
    "start_time": "2021-07-13T08:20:49.979Z"
   },
   {
    "duration": 4,
    "start_time": "2021-07-13T08:20:49.998Z"
   },
   {
    "duration": 19,
    "start_time": "2021-07-13T08:20:50.005Z"
   },
   {
    "duration": 1357,
    "start_time": "2021-07-13T08:20:50.027Z"
   },
   {
    "duration": 1337,
    "start_time": "2021-07-13T08:20:51.387Z"
   },
   {
    "duration": 4,
    "start_time": "2021-07-13T08:20:52.726Z"
   },
   {
    "duration": 44,
    "start_time": "2021-07-13T08:20:52.732Z"
   },
   {
    "duration": 4,
    "start_time": "2021-07-13T08:20:52.778Z"
   },
   {
    "duration": 28,
    "start_time": "2021-07-13T08:20:52.784Z"
   },
   {
    "duration": 237541,
    "start_time": "2021-07-13T08:20:52.814Z"
   },
   {
    "duration": 206,
    "start_time": "2021-07-13T08:24:50.358Z"
   },
   {
    "duration": 20,
    "start_time": "2021-07-13T08:24:50.567Z"
   },
   {
    "duration": 69,
    "start_time": "2021-07-13T08:24:50.589Z"
   },
   {
    "duration": 4,
    "start_time": "2021-07-13T08:38:55.268Z"
   },
   {
    "duration": 5,
    "start_time": "2021-07-13T08:38:59.702Z"
   },
   {
    "duration": 1342,
    "start_time": "2021-07-13T08:40:01.757Z"
   },
   {
    "duration": 236402,
    "start_time": "2021-07-13T08:40:16.057Z"
   },
   {
    "duration": 5,
    "start_time": "2021-07-13T08:52:17.195Z"
   },
   {
    "duration": 226,
    "start_time": "2021-07-13T08:52:23.739Z"
   },
   {
    "duration": 224,
    "start_time": "2021-07-13T08:52:35.444Z"
   },
   {
    "duration": 153,
    "start_time": "2021-07-13T08:53:49.304Z"
   },
   {
    "duration": 18,
    "start_time": "2021-07-13T08:54:30.932Z"
   },
   {
    "duration": 115,
    "start_time": "2021-07-13T08:55:03.652Z"
   },
   {
    "duration": 97,
    "start_time": "2021-07-13T09:04:14.595Z"
   },
   {
    "duration": 6,
    "start_time": "2021-07-13T09:04:23.021Z"
   },
   {
    "duration": 14,
    "start_time": "2021-07-13T09:04:32.165Z"
   },
   {
    "duration": 14,
    "start_time": "2021-07-13T09:05:03.417Z"
   },
   {
    "duration": 14,
    "start_time": "2021-07-13T09:05:06.945Z"
   },
   {
    "duration": 15,
    "start_time": "2021-07-13T09:06:38.594Z"
   },
   {
    "duration": 14,
    "start_time": "2021-07-13T09:06:48.307Z"
   },
   {
    "duration": 14,
    "start_time": "2021-07-13T09:07:27.795Z"
   },
   {
    "duration": 17,
    "start_time": "2021-07-13T09:07:57.710Z"
   },
   {
    "duration": 269,
    "start_time": "2021-07-13T09:13:57.221Z"
   },
   {
    "duration": 7,
    "start_time": "2021-07-13T09:14:29.099Z"
   },
   {
    "duration": 281,
    "start_time": "2021-07-13T09:38:40.205Z"
   },
   {
    "duration": 6,
    "start_time": "2021-07-13T09:39:26.098Z"
   },
   {
    "duration": 257,
    "start_time": "2021-07-13T09:39:46.290Z"
   },
   {
    "duration": 286,
    "start_time": "2021-07-13T09:42:11.038Z"
   },
   {
    "duration": 279,
    "start_time": "2021-07-13T09:42:52.594Z"
   },
   {
    "duration": 261,
    "start_time": "2021-07-13T09:43:18.135Z"
   },
   {
    "duration": 267,
    "start_time": "2021-07-13T10:02:31.460Z"
   },
   {
    "duration": 18,
    "start_time": "2021-07-13T11:10:05.372Z"
   },
   {
    "duration": 16,
    "start_time": "2021-07-13T11:10:17.773Z"
   },
   {
    "duration": 6,
    "start_time": "2021-07-13T11:24:22.669Z"
   },
   {
    "duration": 274,
    "start_time": "2021-07-13T11:27:46.439Z"
   },
   {
    "duration": 825,
    "start_time": "2021-07-13T11:33:55.640Z"
   },
   {
    "duration": 6,
    "start_time": "2021-07-13T11:34:01.127Z"
   },
   {
    "duration": 295,
    "start_time": "2021-07-13T11:34:22.297Z"
   },
   {
    "duration": 13360,
    "start_time": "2021-07-13T11:35:16.315Z"
   },
   {
    "duration": 284,
    "start_time": "2021-07-13T11:35:29.678Z"
   },
   {
    "duration": 3115,
    "start_time": "2021-07-13T11:35:36.075Z"
   },
   {
    "duration": 275,
    "start_time": "2021-07-13T11:35:40.940Z"
   },
   {
    "duration": 336,
    "start_time": "2021-07-13T11:36:02.784Z"
   },
   {
    "duration": 6,
    "start_time": "2021-07-13T11:36:33.051Z"
   },
   {
    "duration": 281,
    "start_time": "2021-07-13T11:36:38.243Z"
   },
   {
    "duration": 3693,
    "start_time": "2021-07-13T11:38:27.593Z"
   },
   {
    "duration": 3068,
    "start_time": "2021-07-13T11:38:35.334Z"
   },
   {
    "duration": 278,
    "start_time": "2021-07-13T11:38:40.191Z"
   },
   {
    "duration": 7390,
    "start_time": "2021-07-13T11:40:05.284Z"
   },
   {
    "duration": 6953,
    "start_time": "2021-07-13T11:40:12.677Z"
   },
   {
    "duration": 279,
    "start_time": "2021-07-13T11:40:20.852Z"
   },
   {
    "duration": 3105,
    "start_time": "2021-07-13T11:40:26.012Z"
   },
   {
    "duration": 3122,
    "start_time": "2021-07-13T11:40:35.141Z"
   },
   {
    "duration": 3368,
    "start_time": "2021-07-13T11:41:17.932Z"
   },
   {
    "duration": 3273,
    "start_time": "2021-07-13T11:41:23.410Z"
   },
   {
    "duration": 300,
    "start_time": "2021-07-13T11:41:28.051Z"
   },
   {
    "duration": 4980,
    "start_time": "2021-07-13T11:41:48.440Z"
   },
   {
    "duration": 3360,
    "start_time": "2021-07-13T11:41:58.271Z"
   },
   {
    "duration": 278,
    "start_time": "2021-07-13T11:42:05.914Z"
   },
   {
    "duration": 265,
    "start_time": "2021-07-13T11:42:18.950Z"
   },
   {
    "duration": 262,
    "start_time": "2021-07-13T11:42:48.303Z"
   },
   {
    "duration": 280,
    "start_time": "2021-07-13T11:42:51.810Z"
   },
   {
    "duration": 259,
    "start_time": "2021-07-13T11:42:57.553Z"
   },
   {
    "duration": 4,
    "start_time": "2021-07-13T11:43:33.362Z"
   },
   {
    "duration": 4,
    "start_time": "2021-07-13T11:43:34.130Z"
   },
   {
    "duration": 269,
    "start_time": "2021-07-13T11:43:35.674Z"
   },
   {
    "duration": 268,
    "start_time": "2021-07-13T11:44:58.824Z"
   },
   {
    "duration": 1952,
    "start_time": "2021-07-13T11:46:14.604Z"
   },
   {
    "duration": 423,
    "start_time": "2021-07-13T11:46:19.901Z"
   },
   {
    "duration": 3065,
    "start_time": "2021-07-13T11:46:22.804Z"
   },
   {
    "duration": 3081,
    "start_time": "2021-07-13T11:46:25.872Z"
   },
   {
    "duration": 3114,
    "start_time": "2021-07-13T11:46:30.210Z"
   },
   {
    "duration": 3,
    "start_time": "2021-07-13T11:46:33.327Z"
   },
   {
    "duration": 271,
    "start_time": "2021-07-13T11:46:34.006Z"
   },
   {
    "duration": 3090,
    "start_time": "2021-07-13T11:47:09.691Z"
   },
   {
    "duration": 3422,
    "start_time": "2021-07-13T11:47:14.636Z"
   },
   {
    "duration": 3111,
    "start_time": "2021-07-13T11:47:18.725Z"
   },
   {
    "duration": 4,
    "start_time": "2021-07-13T11:47:22.535Z"
   },
   {
    "duration": 467,
    "start_time": "2021-07-13T11:47:23.708Z"
   },
   {
    "duration": 5,
    "start_time": "2021-07-13T11:48:39.287Z"
   },
   {
    "duration": 6,
    "start_time": "2021-07-13T11:48:47.562Z"
   },
   {
    "duration": 102,
    "start_time": "2021-07-13T11:49:49.133Z"
   },
   {
    "duration": 24,
    "start_time": "2021-07-13T11:49:50.593Z"
   },
   {
    "duration": 5,
    "start_time": "2021-07-13T11:49:53.187Z"
   },
   {
    "duration": 144,
    "start_time": "2021-07-13T11:49:54.140Z"
   },
   {
    "duration": 304,
    "start_time": "2021-07-13T11:49:56.297Z"
   },
   {
    "duration": 19,
    "start_time": "2021-07-13T11:50:00.274Z"
   },
   {
    "duration": 495,
    "start_time": "2021-07-13T11:50:01.378Z"
   },
   {
    "duration": 5,
    "start_time": "2021-07-13T11:50:05.109Z"
   },
   {
    "duration": 42,
    "start_time": "2021-07-13T11:50:06.270Z"
   },
   {
    "duration": 13,
    "start_time": "2021-07-13T11:50:08.308Z"
   },
   {
    "duration": 5,
    "start_time": "2021-07-13T11:50:12.342Z"
   },
   {
    "duration": 4,
    "start_time": "2021-07-13T11:50:14.961Z"
   },
   {
    "duration": 350419,
    "start_time": "2021-07-13T11:50:15.473Z"
   },
   {
    "duration": 262,
    "start_time": "2021-07-13T12:12:47.934Z"
   },
   {
    "duration": 270,
    "start_time": "2021-07-13T12:13:09.481Z"
   },
   {
    "duration": 4,
    "start_time": "2021-07-13T12:13:47.669Z"
   },
   {
    "duration": 268,
    "start_time": "2021-07-13T12:13:48.782Z"
   },
   {
    "duration": 290,
    "start_time": "2021-07-13T12:15:05.022Z"
   },
   {
    "duration": 4,
    "start_time": "2021-07-13T12:15:49.918Z"
   },
   {
    "duration": 287,
    "start_time": "2021-07-13T12:15:53.174Z"
   },
   {
    "duration": 6,
    "start_time": "2021-07-13T12:17:03.886Z"
   },
   {
    "duration": 4,
    "start_time": "2021-07-13T12:17:11.734Z"
   },
   {
    "duration": 5,
    "start_time": "2021-07-13T12:17:15.991Z"
   },
   {
    "duration": 5,
    "start_time": "2021-07-13T12:17:17.621Z"
   },
   {
    "duration": 24337,
    "start_time": "2021-07-13T12:17:22.790Z"
   },
   {
    "duration": 14,
    "start_time": "2021-07-13T12:18:28.722Z"
   },
   {
    "duration": 13,
    "start_time": "2021-07-13T12:18:37.562Z"
   },
   {
    "duration": 635731,
    "start_time": "2021-07-13T12:18:45.124Z"
   },
   {
    "duration": 647678,
    "start_time": "2021-07-13T12:47:39.882Z"
   },
   {
    "duration": 3827,
    "start_time": "2021-07-13T15:29:09.485Z"
   },
   {
    "duration": 5509,
    "start_time": "2021-07-13T15:29:17.244Z"
   },
   {
    "duration": 11171,
    "start_time": "2021-07-13T15:29:22.757Z"
   },
   {
    "duration": 4,
    "start_time": "2021-07-13T15:29:33.933Z"
   },
   {
    "duration": 1675,
    "start_time": "2021-07-13T15:29:33.940Z"
   },
   {
    "duration": 734,
    "start_time": "2021-07-13T15:29:35.617Z"
   },
   {
    "duration": 132,
    "start_time": "2021-07-13T15:29:36.353Z"
   },
   {
    "duration": 29,
    "start_time": "2021-07-13T15:29:42.164Z"
   },
   {
    "duration": 4,
    "start_time": "2021-07-13T15:29:44.251Z"
   },
   {
    "duration": 81,
    "start_time": "2021-07-13T15:29:46.122Z"
   },
   {
    "duration": 315,
    "start_time": "2021-07-13T15:29:49.154Z"
   },
   {
    "duration": 19,
    "start_time": "2021-07-13T15:29:51.451Z"
   },
   {
    "duration": 530,
    "start_time": "2021-07-13T15:29:53.987Z"
   },
   {
    "duration": 4,
    "start_time": "2021-07-13T15:30:48.848Z"
   },
   {
    "duration": 43,
    "start_time": "2021-07-13T15:30:49.896Z"
   },
   {
    "duration": 13,
    "start_time": "2021-07-13T15:30:51.713Z"
   },
   {
    "duration": 29,
    "start_time": "2021-07-13T15:30:53.221Z"
   },
   {
    "duration": 85,
    "start_time": "2021-07-13T15:30:55.180Z"
   },
   {
    "duration": 5,
    "start_time": "2021-07-13T15:30:57.556Z"
   },
   {
    "duration": 4,
    "start_time": "2021-07-13T15:30:58.236Z"
   },
   {
    "duration": 14,
    "start_time": "2021-07-13T15:31:09.029Z"
   },
   {
    "duration": 12,
    "start_time": "2021-07-13T15:31:09.596Z"
   },
   {
    "duration": 4,
    "start_time": "2021-07-13T15:31:11.772Z"
   },
   {
    "duration": 4,
    "start_time": "2021-07-13T15:31:12.340Z"
   },
   {
    "duration": 5,
    "start_time": "2021-07-13T15:31:13.860Z"
   },
   {
    "duration": 663988,
    "start_time": "2021-07-13T15:31:14.681Z"
   },
   {
    "duration": 38,
    "start_time": "2021-07-13T15:44:43.178Z"
   },
   {
    "duration": 10,
    "start_time": "2021-07-13T15:44:53.398Z"
   },
   {
    "duration": 38,
    "start_time": "2021-07-13T15:44:56.630Z"
   },
   {
    "duration": 3364,
    "start_time": "2021-07-14T09:52:26.632Z"
   },
   {
    "duration": 4673,
    "start_time": "2021-07-14T09:52:29.999Z"
   },
   {
    "duration": 15987,
    "start_time": "2021-07-14T09:52:34.675Z"
   },
   {
    "duration": 4,
    "start_time": "2021-07-14T09:52:50.665Z"
   },
   {
    "duration": 1398,
    "start_time": "2021-07-14T09:52:50.672Z"
   },
   {
    "duration": 626,
    "start_time": "2021-07-14T09:52:52.072Z"
   },
   {
    "duration": 94,
    "start_time": "2021-07-14T09:52:52.700Z"
   },
   {
    "duration": 21,
    "start_time": "2021-07-14T09:52:52.798Z"
   },
   {
    "duration": 37,
    "start_time": "2021-07-14T09:52:52.821Z"
   },
   {
    "duration": 124,
    "start_time": "2021-07-14T09:52:52.860Z"
   },
   {
    "duration": 327,
    "start_time": "2021-07-14T09:52:52.986Z"
   },
   {
    "duration": 16,
    "start_time": "2021-07-14T09:52:53.316Z"
   },
   {
    "duration": 492,
    "start_time": "2021-07-14T09:52:53.334Z"
   },
   {
    "duration": 3,
    "start_time": "2021-07-14T09:52:53.829Z"
   },
   {
    "duration": 52,
    "start_time": "2021-07-14T09:52:53.835Z"
   },
   {
    "duration": 12,
    "start_time": "2021-07-14T09:52:53.889Z"
   },
   {
    "duration": 109,
    "start_time": "2021-07-14T09:52:53.903Z"
   },
   {
    "duration": 16,
    "start_time": "2021-07-14T09:52:54.015Z"
   },
   {
    "duration": 24,
    "start_time": "2021-07-14T09:52:54.033Z"
   },
   {
    "duration": 8,
    "start_time": "2021-07-14T09:52:54.059Z"
   },
   {
    "duration": 13,
    "start_time": "2021-07-14T09:53:01.003Z"
   },
   {
    "duration": 4,
    "start_time": "2021-07-14T09:53:18.267Z"
   },
   {
    "duration": 4,
    "start_time": "2021-07-14T09:53:19.522Z"
   },
   {
    "duration": 4,
    "start_time": "2021-07-14T09:53:20.387Z"
   },
   {
    "duration": 22793,
    "start_time": "2021-07-14T09:53:24.206Z"
   },
   {
    "duration": 258,
    "start_time": "2021-07-14T09:55:33.004Z"
   },
   {
    "duration": 22616,
    "start_time": "2021-07-14T09:55:41.976Z"
   },
   {
    "duration": 18,
    "start_time": "2021-07-14T09:56:13.838Z"
   },
   {
    "duration": 625171,
    "start_time": "2021-07-14T09:56:16.653Z"
   },
   {
    "duration": 37,
    "start_time": "2021-07-14T10:07:23.413Z"
   },
   {
    "duration": 651181,
    "start_time": "2021-07-14T10:14:01.717Z"
   },
   {
    "duration": 14,
    "start_time": "2021-07-14T10:25:36.473Z"
   },
   {
    "duration": 3281,
    "start_time": "2021-07-14T10:26:44.764Z"
   },
   {
    "duration": 3400,
    "start_time": "2021-07-14T10:26:48.048Z"
   },
   {
    "duration": 3095,
    "start_time": "2021-07-14T10:26:51.451Z"
   },
   {
    "duration": 4,
    "start_time": "2021-07-14T10:26:54.550Z"
   },
   {
    "duration": 14,
    "start_time": "2021-07-14T10:26:54.556Z"
   },
   {
    "duration": 7,
    "start_time": "2021-07-14T10:26:54.573Z"
   },
   {
    "duration": 117,
    "start_time": "2021-07-14T10:26:54.583Z"
   },
   {
    "duration": 21,
    "start_time": "2021-07-14T10:26:54.703Z"
   },
   {
    "duration": 31,
    "start_time": "2021-07-14T10:26:54.727Z"
   },
   {
    "duration": 138,
    "start_time": "2021-07-14T10:26:54.762Z"
   },
   {
    "duration": 339,
    "start_time": "2021-07-14T10:26:54.902Z"
   },
   {
    "duration": 27,
    "start_time": "2021-07-14T10:26:55.243Z"
   },
   {
    "duration": 525,
    "start_time": "2021-07-14T10:26:55.273Z"
   },
   {
    "duration": 3,
    "start_time": "2021-07-14T10:26:55.801Z"
   },
   {
    "duration": 10,
    "start_time": "2021-07-14T10:26:55.807Z"
   },
   {
    "duration": 64,
    "start_time": "2021-07-14T10:26:55.819Z"
   },
   {
    "duration": 14,
    "start_time": "2021-07-14T10:26:55.886Z"
   },
   {
    "duration": 28,
    "start_time": "2021-07-14T10:26:55.902Z"
   },
   {
    "duration": 42,
    "start_time": "2021-07-14T10:26:55.932Z"
   },
   {
    "duration": 114,
    "start_time": "2021-07-14T10:26:55.976Z"
   },
   {
    "duration": 12,
    "start_time": "2021-07-14T10:26:56.092Z"
   },
   {
    "duration": 358417,
    "start_time": "2021-07-14T10:26:56.107Z"
   },
   {
    "duration": 4,
    "start_time": "2021-07-14T10:32:54.527Z"
   },
   {
    "duration": 77,
    "start_time": "2021-07-14T10:32:54.534Z"
   },
   {
    "duration": 5,
    "start_time": "2021-07-14T10:32:54.613Z"
   },
   {
    "duration": 47,
    "start_time": "2021-07-14T10:32:54.620Z"
   },
   {
    "duration": 3,
    "start_time": "2021-07-14T10:32:54.672Z"
   },
   {
    "duration": 19,
    "start_time": "2021-07-14T10:32:54.678Z"
   },
   {
    "duration": 16,
    "start_time": "2021-07-14T10:32:54.699Z"
   },
   {
    "duration": 7,
    "start_time": "2021-07-14T10:32:54.717Z"
   },
   {
    "duration": 30,
    "start_time": "2021-07-14T10:32:54.726Z"
   },
   {
    "duration": 6,
    "start_time": "2021-07-14T10:32:54.759Z"
   },
   {
    "duration": 12,
    "start_time": "2021-07-14T10:32:54.768Z"
   },
   {
    "duration": 9,
    "start_time": "2021-07-14T10:32:54.782Z"
   },
   {
    "duration": 9,
    "start_time": "2021-07-14T10:32:54.793Z"
   },
   {
    "duration": 7,
    "start_time": "2021-07-14T10:32:54.804Z"
   },
   {
    "duration": 12,
    "start_time": "2021-07-14T10:32:54.813Z"
   },
   {
    "duration": 294,
    "start_time": "2021-07-14T10:32:54.828Z"
   },
   {
    "duration": 150,
    "start_time": "2021-07-14T10:32:54.975Z"
   },
   {
    "duration": 147,
    "start_time": "2021-07-14T10:32:54.979Z"
   },
   {
    "duration": 145,
    "start_time": "2021-07-14T10:32:54.982Z"
   },
   {
    "duration": 146,
    "start_time": "2021-07-14T10:32:54.983Z"
   },
   {
    "duration": 139,
    "start_time": "2021-07-14T10:32:54.991Z"
   },
   {
    "duration": 137,
    "start_time": "2021-07-14T10:32:54.995Z"
   },
   {
    "duration": 136,
    "start_time": "2021-07-14T10:32:54.997Z"
   },
   {
    "duration": 136,
    "start_time": "2021-07-14T10:32:54.999Z"
   },
   {
    "duration": 135,
    "start_time": "2021-07-14T10:32:55.001Z"
   },
   {
    "duration": 134,
    "start_time": "2021-07-14T10:32:55.004Z"
   },
   {
    "duration": 133,
    "start_time": "2021-07-14T10:32:55.006Z"
   },
   {
    "duration": 133,
    "start_time": "2021-07-14T10:32:55.008Z"
   },
   {
    "duration": 132,
    "start_time": "2021-07-14T10:32:55.010Z"
   },
   {
    "duration": 126,
    "start_time": "2021-07-14T10:32:55.018Z"
   },
   {
    "duration": 125,
    "start_time": "2021-07-14T10:32:55.020Z"
   },
   {
    "duration": 4,
    "start_time": "2021-07-14T11:24:30.382Z"
   },
   {
    "duration": 880,
    "start_time": "2021-07-14T11:24:32.394Z"
   },
   {
    "duration": 5,
    "start_time": "2021-07-14T11:25:16.662Z"
   },
   {
    "duration": 4,
    "start_time": "2021-07-14T11:25:17.567Z"
   },
   {
    "duration": 3,
    "start_time": "2021-07-14T11:25:18.342Z"
   },
   {
    "duration": 863,
    "start_time": "2021-07-14T11:25:18.694Z"
   },
   {
    "duration": 5,
    "start_time": "2021-07-14T11:26:22.068Z"
   },
   {
    "duration": 497,
    "start_time": "2021-07-14T11:26:22.669Z"
   },
   {
    "duration": 6,
    "start_time": "2021-07-14T11:26:49.978Z"
   },
   {
    "duration": 89,
    "start_time": "2021-07-14T11:26:51.896Z"
   },
   {
    "duration": 21,
    "start_time": "2021-07-14T11:26:54.546Z"
   },
   {
    "duration": 5,
    "start_time": "2021-07-14T11:26:56.497Z"
   },
   {
    "duration": 127,
    "start_time": "2021-07-14T11:26:58.237Z"
   },
   {
    "duration": 299,
    "start_time": "2021-07-14T11:27:01.260Z"
   },
   {
    "duration": 16,
    "start_time": "2021-07-14T11:27:04.797Z"
   },
   {
    "duration": 465,
    "start_time": "2021-07-14T11:27:05.781Z"
   },
   {
    "duration": 4,
    "start_time": "2021-07-14T11:27:07.158Z"
   },
   {
    "duration": 3,
    "start_time": "2021-07-14T11:27:10.102Z"
   },
   {
    "duration": 41,
    "start_time": "2021-07-14T11:27:10.879Z"
   },
   {
    "duration": 13,
    "start_time": "2021-07-14T11:27:12.957Z"
   },
   {
    "duration": 28,
    "start_time": "2021-07-14T11:27:14.607Z"
   },
   {
    "duration": 18,
    "start_time": "2021-07-14T11:27:16.054Z"
   },
   {
    "duration": 5,
    "start_time": "2021-07-14T11:27:16.877Z"
   },
   {
    "duration": 4,
    "start_time": "2021-07-14T11:27:18.361Z"
   },
   {
    "duration": 6,
    "start_time": "2021-07-14T11:27:26.684Z"
   },
   {
    "duration": 21,
    "start_time": "2021-07-14T11:27:27.038Z"
   },
   {
    "duration": 14,
    "start_time": "2021-07-14T11:27:30.013Z"
   },
   {
    "duration": 18,
    "start_time": "2021-07-14T11:27:30.535Z"
   },
   {
    "duration": 5,
    "start_time": "2021-07-14T11:27:37.222Z"
   },
   {
    "duration": 3,
    "start_time": "2021-07-14T11:27:38.637Z"
   },
   {
    "duration": 3,
    "start_time": "2021-07-14T11:27:39.719Z"
   },
   {
    "duration": 919,
    "start_time": "2021-07-14T11:27:40.021Z"
   },
   {
    "duration": 5,
    "start_time": "2021-07-14T11:28:27.412Z"
   },
   {
    "duration": 82,
    "start_time": "2021-07-14T11:28:28.221Z"
   },
   {
    "duration": 4,
    "start_time": "2021-07-14T11:30:52.884Z"
   },
   {
    "duration": 12,
    "start_time": "2021-07-14T11:30:52.891Z"
   },
   {
    "duration": 16,
    "start_time": "2021-07-14T11:30:52.907Z"
   },
   {
    "duration": 18,
    "start_time": "2021-07-14T11:30:52.926Z"
   },
   {
    "duration": 14,
    "start_time": "2021-07-14T11:30:52.947Z"
   },
   {
    "duration": 15,
    "start_time": "2021-07-14T11:30:52.965Z"
   },
   {
    "duration": 107,
    "start_time": "2021-07-14T11:30:52.982Z"
   },
   {
    "duration": 22,
    "start_time": "2021-07-14T11:30:53.092Z"
   },
   {
    "duration": 13,
    "start_time": "2021-07-14T11:30:53.118Z"
   },
   {
    "duration": 147,
    "start_time": "2021-07-14T11:30:53.159Z"
   },
   {
    "duration": 365,
    "start_time": "2021-07-14T11:30:53.309Z"
   },
   {
    "duration": 17,
    "start_time": "2021-07-14T11:30:53.676Z"
   },
   {
    "duration": 560,
    "start_time": "2021-07-14T11:30:53.696Z"
   },
   {
    "duration": 4,
    "start_time": "2021-07-14T11:30:54.259Z"
   },
   {
    "duration": 10,
    "start_time": "2021-07-14T11:30:54.266Z"
   },
   {
    "duration": 41,
    "start_time": "2021-07-14T11:30:54.279Z"
   },
   {
    "duration": 50,
    "start_time": "2021-07-14T11:30:54.322Z"
   },
   {
    "duration": 29,
    "start_time": "2021-07-14T11:30:54.375Z"
   },
   {
    "duration": 53,
    "start_time": "2021-07-14T11:30:54.406Z"
   },
   {
    "duration": 13,
    "start_time": "2021-07-14T11:30:54.463Z"
   },
   {
    "duration": 10,
    "start_time": "2021-07-14T11:30:54.479Z"
   },
   {
    "duration": 7,
    "start_time": "2021-07-14T11:30:54.492Z"
   },
   {
    "duration": 6,
    "start_time": "2021-07-14T11:30:54.501Z"
   },
   {
    "duration": 6,
    "start_time": "2021-07-14T11:30:54.510Z"
   },
   {
    "duration": 39,
    "start_time": "2021-07-14T11:30:54.518Z"
   },
   {
    "duration": 35,
    "start_time": "2021-07-14T11:30:54.561Z"
   },
   {
    "duration": 3,
    "start_time": "2021-07-14T11:30:54.604Z"
   },
   {
    "duration": 18,
    "start_time": "2021-07-14T11:30:54.610Z"
   },
   {
    "duration": 24,
    "start_time": "2021-07-14T11:30:54.659Z"
   },
   {
    "duration": 3,
    "start_time": "2021-07-14T11:30:54.685Z"
   },
   {
    "duration": 10,
    "start_time": "2021-07-14T11:30:54.690Z"
   },
   {
    "duration": 7,
    "start_time": "2021-07-14T11:30:54.703Z"
   },
   {
    "duration": 6,
    "start_time": "2021-07-14T11:30:54.712Z"
   },
   {
    "duration": 5,
    "start_time": "2021-07-14T11:30:54.721Z"
   },
   {
    "duration": 10,
    "start_time": "2021-07-14T11:30:54.758Z"
   },
   {
    "duration": 7,
    "start_time": "2021-07-14T11:30:54.770Z"
   },
   {
    "duration": 6,
    "start_time": "2021-07-14T11:30:54.780Z"
   },
   {
    "duration": 1070,
    "start_time": "2021-07-14T11:30:54.788Z"
   },
   {
    "duration": 5,
    "start_time": "2021-07-14T11:30:55.861Z"
   },
   {
    "duration": 24,
    "start_time": "2021-07-14T11:30:55.869Z"
   },
   {
    "duration": 3,
    "start_time": "2021-07-14T11:30:55.895Z"
   },
   {
    "duration": 8,
    "start_time": "2021-07-14T11:30:55.901Z"
   },
   {
    "duration": 376,
    "start_time": "2021-07-14T11:30:55.911Z"
   },
   {
    "duration": 162,
    "start_time": "2021-07-14T11:30:56.129Z"
   },
   {
    "duration": 162,
    "start_time": "2021-07-14T11:30:56.132Z"
   },
   {
    "duration": 158,
    "start_time": "2021-07-14T11:30:56.138Z"
   },
   {
    "duration": 151,
    "start_time": "2021-07-14T11:30:56.147Z"
   },
   {
    "duration": 151,
    "start_time": "2021-07-14T11:30:56.149Z"
   },
   {
    "duration": 150,
    "start_time": "2021-07-14T11:30:56.152Z"
   },
   {
    "duration": 150,
    "start_time": "2021-07-14T11:30:56.154Z"
   },
   {
    "duration": 148,
    "start_time": "2021-07-14T11:30:56.158Z"
   },
   {
    "duration": 142,
    "start_time": "2021-07-14T11:30:56.166Z"
   },
   {
    "duration": 142,
    "start_time": "2021-07-14T11:30:56.168Z"
   },
   {
    "duration": 3,
    "start_time": "2021-07-14T11:31:39.019Z"
   },
   {
    "duration": 16,
    "start_time": "2021-07-14T11:31:39.025Z"
   },
   {
    "duration": 20,
    "start_time": "2021-07-14T11:31:39.044Z"
   },
   {
    "duration": 15,
    "start_time": "2021-07-14T11:31:39.069Z"
   },
   {
    "duration": 18,
    "start_time": "2021-07-14T11:31:39.087Z"
   },
   {
    "duration": 18,
    "start_time": "2021-07-14T11:31:39.107Z"
   },
   {
    "duration": 113,
    "start_time": "2021-07-14T11:31:39.128Z"
   },
   {
    "duration": 41,
    "start_time": "2021-07-14T11:31:39.244Z"
   },
   {
    "duration": 8,
    "start_time": "2021-07-14T11:31:39.289Z"
   },
   {
    "duration": 179,
    "start_time": "2021-07-14T11:31:39.299Z"
   },
   {
    "duration": 377,
    "start_time": "2021-07-14T11:31:39.480Z"
   },
   {
    "duration": 21,
    "start_time": "2021-07-14T11:31:39.861Z"
   },
   {
    "duration": 557,
    "start_time": "2021-07-14T11:31:39.884Z"
   },
   {
    "duration": 4,
    "start_time": "2021-07-14T11:31:40.444Z"
   },
   {
    "duration": 7,
    "start_time": "2021-07-14T11:31:40.457Z"
   },
   {
    "duration": 42,
    "start_time": "2021-07-14T11:31:40.469Z"
   },
   {
    "duration": 52,
    "start_time": "2021-07-14T11:31:40.514Z"
   },
   {
    "duration": 32,
    "start_time": "2021-07-14T11:31:40.569Z"
   },
   {
    "duration": 18,
    "start_time": "2021-07-14T11:31:40.604Z"
   },
   {
    "duration": 6,
    "start_time": "2021-07-14T11:31:40.658Z"
   },
   {
    "duration": 7,
    "start_time": "2021-07-14T11:31:40.668Z"
   },
   {
    "duration": 7,
    "start_time": "2021-07-14T11:31:40.677Z"
   },
   {
    "duration": 5,
    "start_time": "2021-07-14T11:31:40.693Z"
   },
   {
    "duration": 10,
    "start_time": "2021-07-14T11:31:40.702Z"
   },
   {
    "duration": 46,
    "start_time": "2021-07-14T11:31:40.715Z"
   },
   {
    "duration": 29,
    "start_time": "2021-07-14T11:31:40.764Z"
   },
   {
    "duration": 4,
    "start_time": "2021-07-14T11:31:40.796Z"
   },
   {
    "duration": 18,
    "start_time": "2021-07-14T11:31:40.803Z"
   },
   {
    "duration": 57,
    "start_time": "2021-07-14T11:31:40.824Z"
   },
   {
    "duration": 3,
    "start_time": "2021-07-14T11:31:40.884Z"
   },
   {
    "duration": 6,
    "start_time": "2021-07-14T11:31:40.889Z"
   },
   {
    "duration": 10,
    "start_time": "2021-07-14T11:31:40.897Z"
   },
   {
    "duration": 9,
    "start_time": "2021-07-14T11:31:40.910Z"
   },
   {
    "duration": 5,
    "start_time": "2021-07-14T11:31:40.922Z"
   },
   {
    "duration": 6,
    "start_time": "2021-07-14T11:31:40.957Z"
   },
   {
    "duration": 8,
    "start_time": "2021-07-14T11:31:40.967Z"
   },
   {
    "duration": 5,
    "start_time": "2021-07-14T11:31:40.979Z"
   },
   {
    "duration": 1228,
    "start_time": "2021-07-14T11:31:40.987Z"
   },
   {
    "duration": 5,
    "start_time": "2021-07-14T11:31:42.218Z"
   },
   {
    "duration": 33,
    "start_time": "2021-07-14T11:31:42.225Z"
   },
   {
    "duration": 4,
    "start_time": "2021-07-14T11:31:42.262Z"
   },
   {
    "duration": 9,
    "start_time": "2021-07-14T11:31:42.269Z"
   },
   {
    "duration": 5,
    "start_time": "2021-07-14T11:31:42.281Z"
   },
   {
    "duration": 9,
    "start_time": "2021-07-14T11:31:42.288Z"
   },
   {
    "duration": 270,
    "start_time": "2021-07-14T11:31:42.301Z"
   },
   {
    "duration": 167,
    "start_time": "2021-07-14T11:31:42.407Z"
   },
   {
    "duration": 165,
    "start_time": "2021-07-14T11:31:42.410Z"
   },
   {
    "duration": 160,
    "start_time": "2021-07-14T11:31:42.417Z"
   },
   {
    "duration": 158,
    "start_time": "2021-07-14T11:31:42.420Z"
   },
   {
    "duration": 158,
    "start_time": "2021-07-14T11:31:42.422Z"
   },
   {
    "duration": 157,
    "start_time": "2021-07-14T11:31:42.424Z"
   },
   {
    "duration": 157,
    "start_time": "2021-07-14T11:31:42.426Z"
   },
   {
    "duration": 157,
    "start_time": "2021-07-14T11:31:42.428Z"
   },
   {
    "duration": 1407,
    "start_time": "2021-07-14T11:31:56.206Z"
   },
   {
    "duration": 6,
    "start_time": "2021-07-14T11:32:19.654Z"
   },
   {
    "duration": 1410,
    "start_time": "2021-07-14T11:32:23.371Z"
   },
   {
    "duration": 3,
    "start_time": "2021-07-14T11:32:30.330Z"
   },
   {
    "duration": 35,
    "start_time": "2021-07-14T11:32:30.787Z"
   },
   {
    "duration": 7,
    "start_time": "2021-07-14T11:32:34.979Z"
   },
   {
    "duration": 282,
    "start_time": "2021-07-14T11:32:37.509Z"
   },
   {
    "duration": 5,
    "start_time": "2021-07-14T11:32:44.182Z"
   },
   {
    "duration": 215009,
    "start_time": "2021-07-14T11:32:45.260Z"
   },
   {
    "duration": 6,
    "start_time": "2021-07-14T11:36:48.990Z"
   },
   {
    "duration": 126,
    "start_time": "2021-07-14T11:36:49.778Z"
   },
   {
    "duration": 3,
    "start_time": "2021-07-14T11:36:50.966Z"
   },
   {
    "duration": 23,
    "start_time": "2021-07-14T11:36:51.439Z"
   },
   {
    "duration": 3,
    "start_time": "2021-07-14T11:36:53.111Z"
   },
   {
    "duration": 195,
    "start_time": "2021-07-14T11:36:53.478Z"
   },
   {
    "duration": 4,
    "start_time": "2021-07-14T11:36:53.900Z"
   },
   {
    "duration": 17,
    "start_time": "2021-07-14T11:36:54.919Z"
   },
   {
    "duration": 5,
    "start_time": "2021-07-14T13:32:29.278Z"
   },
   {
    "duration": 6,
    "start_time": "2021-07-14T13:32:29.287Z"
   },
   {
    "duration": 5,
    "start_time": "2021-07-14T13:32:29.296Z"
   },
   {
    "duration": 6,
    "start_time": "2021-07-14T13:32:29.304Z"
   },
   {
    "duration": 7,
    "start_time": "2021-07-14T13:32:29.312Z"
   },
   {
    "duration": 1480,
    "start_time": "2021-07-14T13:32:29.321Z"
   },
   {
    "duration": 96,
    "start_time": "2021-07-14T13:32:30.803Z"
   },
   {
    "duration": 21,
    "start_time": "2021-07-14T13:32:30.903Z"
   },
   {
    "duration": 29,
    "start_time": "2021-07-14T13:32:30.927Z"
   },
   {
    "duration": 136,
    "start_time": "2021-07-14T13:32:30.958Z"
   },
   {
    "duration": 357,
    "start_time": "2021-07-14T13:32:31.096Z"
   },
   {
    "duration": 20,
    "start_time": "2021-07-14T13:32:31.456Z"
   },
   {
    "duration": 514,
    "start_time": "2021-07-14T13:32:31.478Z"
   },
   {
    "duration": 4,
    "start_time": "2021-07-14T13:32:31.995Z"
   },
   {
    "duration": 15,
    "start_time": "2021-07-14T13:32:32.002Z"
   },
   {
    "duration": 57,
    "start_time": "2021-07-14T13:32:32.019Z"
   },
   {
    "duration": 14,
    "start_time": "2021-07-14T13:32:32.081Z"
   },
   {
    "duration": 32,
    "start_time": "2021-07-14T13:32:32.098Z"
   },
   {
    "duration": 19,
    "start_time": "2021-07-14T13:32:32.157Z"
   },
   {
    "duration": 4,
    "start_time": "2021-07-14T13:32:32.179Z"
   },
   {
    "duration": 7,
    "start_time": "2021-07-14T13:32:32.186Z"
   },
   {
    "duration": 97961,
    "start_time": "2021-07-14T13:32:32.196Z"
   },
   {
    "duration": 271,
    "start_time": "2021-07-14T13:34:10.161Z"
   },
   {
    "duration": -39,
    "start_time": "2021-07-14T13:34:10.473Z"
   },
   {
    "duration": -47,
    "start_time": "2021-07-14T13:34:10.483Z"
   },
   {
    "duration": -51,
    "start_time": "2021-07-14T13:34:10.488Z"
   },
   {
    "duration": -53,
    "start_time": "2021-07-14T13:34:10.492Z"
   },
   {
    "duration": -60,
    "start_time": "2021-07-14T13:34:10.501Z"
   },
   {
    "duration": -63,
    "start_time": "2021-07-14T13:34:10.505Z"
   },
   {
    "duration": -66,
    "start_time": "2021-07-14T13:34:10.510Z"
   },
   {
    "duration": -75,
    "start_time": "2021-07-14T13:34:10.520Z"
   },
   {
    "duration": 5,
    "start_time": "2021-07-14T13:40:37.219Z"
   },
   {
    "duration": 20,
    "start_time": "2021-07-14T13:40:37.988Z"
   },
   {
    "duration": 17,
    "start_time": "2021-07-14T13:40:44.580Z"
   },
   {
    "duration": 18,
    "start_time": "2021-07-14T13:40:45.097Z"
   },
   {
    "duration": 251,
    "start_time": "2021-07-14T13:40:56.745Z"
   },
   {
    "duration": 4,
    "start_time": "2021-07-14T13:41:00.189Z"
   },
   {
    "duration": 4,
    "start_time": "2021-07-14T13:41:00.733Z"
   },
   {
    "duration": 252,
    "start_time": "2021-07-14T13:41:10.450Z"
   },
   {
    "duration": 285,
    "start_time": "2021-07-14T13:41:58.810Z"
   },
   {
    "duration": 11501,
    "start_time": "2021-07-14T13:42:15.626Z"
   },
   {
    "duration": 281,
    "start_time": "2021-07-14T13:43:23.054Z"
   },
   {
    "duration": 275,
    "start_time": "2021-07-14T13:43:51.041Z"
   },
   {
    "duration": 3380,
    "start_time": "2021-07-14T13:44:40.466Z"
   },
   {
    "duration": 5876,
    "start_time": "2021-07-14T13:44:43.849Z"
   },
   {
    "duration": 3328,
    "start_time": "2021-07-14T13:44:49.729Z"
   },
   {
    "duration": 369,
    "start_time": "2021-07-14T13:44:56.424Z"
   },
   {
    "duration": 3943,
    "start_time": "2021-07-14T13:45:58.456Z"
   },
   {
    "duration": 279,
    "start_time": "2021-07-14T13:46:11.684Z"
   },
   {
    "duration": 3665,
    "start_time": "2021-07-14T13:46:30.092Z"
   },
   {
    "duration": 257,
    "start_time": "2021-07-14T13:46:39.728Z"
   },
   {
    "duration": 271,
    "start_time": "2021-07-14T13:46:59.994Z"
   },
   {
    "duration": 3280,
    "start_time": "2021-07-14T13:47:34.544Z"
   },
   {
    "duration": 3721,
    "start_time": "2021-07-14T13:47:37.828Z"
   },
   {
    "duration": 3610,
    "start_time": "2021-07-14T13:47:41.553Z"
   },
   {
    "duration": 4,
    "start_time": "2021-07-14T13:47:45.166Z"
   },
   {
    "duration": 1604,
    "start_time": "2021-07-14T13:47:45.172Z"
   },
   {
    "duration": 619,
    "start_time": "2021-07-14T13:47:46.778Z"
   },
   {
    "duration": 95,
    "start_time": "2021-07-14T13:47:49.666Z"
   },
   {
    "duration": 23,
    "start_time": "2021-07-14T13:47:49.823Z"
   },
   {
    "duration": 5,
    "start_time": "2021-07-14T13:47:50.830Z"
   },
   {
    "duration": 119,
    "start_time": "2021-07-14T13:47:51.368Z"
   },
   {
    "duration": 298,
    "start_time": "2021-07-14T13:47:52.517Z"
   },
   {
    "duration": 16,
    "start_time": "2021-07-14T13:47:54.116Z"
   },
   {
    "duration": 474,
    "start_time": "2021-07-14T13:47:54.135Z"
   },
   {
    "duration": 3,
    "start_time": "2021-07-14T13:47:54.612Z"
   },
   {
    "duration": 5,
    "start_time": "2021-07-14T13:47:54.950Z"
   },
   {
    "duration": 42,
    "start_time": "2021-07-14T13:47:56.406Z"
   },
   {
    "duration": 15,
    "start_time": "2021-07-14T13:47:58.179Z"
   },
   {
    "duration": 28,
    "start_time": "2021-07-14T13:47:59.690Z"
   },
   {
    "duration": 20,
    "start_time": "2021-07-14T13:47:59.869Z"
   },
   {
    "duration": 5,
    "start_time": "2021-07-14T13:48:02.458Z"
   },
   {
    "duration": 6,
    "start_time": "2021-07-14T13:48:11.410Z"
   },
   {
    "duration": 22,
    "start_time": "2021-07-14T13:48:11.588Z"
   },
   {
    "duration": 4,
    "start_time": "2021-07-14T13:48:11.763Z"
   },
   {
    "duration": 14,
    "start_time": "2021-07-14T13:48:11.942Z"
   },
   {
    "duration": 21,
    "start_time": "2021-07-14T13:48:12.122Z"
   },
   {
    "duration": 45,
    "start_time": "2021-07-14T13:48:13.529Z"
   },
   {
    "duration": 7,
    "start_time": "2021-07-14T13:48:16.429Z"
   },
   {
    "duration": 405,
    "start_time": "2021-07-14T13:48:19.018Z"
   },
   {
    "duration": 289,
    "start_time": "2021-07-14T13:48:34.152Z"
   },
   {
    "duration": 256,
    "start_time": "2021-07-14T13:48:48.033Z"
   },
   {
    "duration": 4,
    "start_time": "2021-07-14T13:49:16.046Z"
   },
   {
    "duration": 293,
    "start_time": "2021-07-14T13:49:19.152Z"
   },
   {
    "duration": 260,
    "start_time": "2021-07-14T13:49:26.162Z"
   },
   {
    "duration": 4,
    "start_time": "2021-07-14T13:50:55.090Z"
   },
   {
    "duration": 4,
    "start_time": "2021-07-14T13:50:57.619Z"
   },
   {
    "duration": 621835,
    "start_time": "2021-07-14T13:51:06.214Z"
   },
   {
    "duration": 36,
    "start_time": "2021-07-14T14:01:28.051Z"
   },
   {
    "duration": 4,
    "start_time": "2021-07-14T14:01:28.090Z"
   },
   {
    "duration": 7,
    "start_time": "2021-07-14T14:01:28.096Z"
   },
   {
    "duration": 5,
    "start_time": "2021-07-14T14:02:46.646Z"
   },
   {
    "duration": 931,
    "start_time": "2021-07-14T14:05:10.205Z"
   },
   {
    "duration": 36,
    "start_time": "2021-07-14T14:05:24.409Z"
   },
   {
    "duration": 4,
    "start_time": "2021-07-14T14:06:26.996Z"
   },
   {
    "duration": 277,
    "start_time": "2021-07-14T14:06:28.059Z"
   },
   {
    "duration": 5,
    "start_time": "2021-07-14T14:06:31.107Z"
   },
   {
    "duration": 4,
    "start_time": "2021-07-14T14:06:31.270Z"
   },
   {
    "duration": 801,
    "start_time": "2021-07-14T14:06:31.410Z"
   },
   {
    "duration": 538,
    "start_time": "2021-07-14T14:07:07.923Z"
   },
   {
    "duration": 40,
    "start_time": "2021-07-14T14:07:09.451Z"
   },
   {
    "duration": 113,
    "start_time": "2021-07-14T14:07:27.232Z"
   },
   {
    "duration": 81,
    "start_time": "2021-07-14T14:07:32.365Z"
   },
   {
    "duration": 116,
    "start_time": "2021-07-14T14:07:44.329Z"
   },
   {
    "duration": 543,
    "start_time": "2021-07-14T14:07:48.337Z"
   },
   {
    "duration": 37,
    "start_time": "2021-07-14T14:07:52.844Z"
   },
   {
    "duration": 815,
    "start_time": "2021-07-14T14:08:27.741Z"
   },
   {
    "duration": 956,
    "start_time": "2021-07-14T14:08:43.043Z"
   },
   {
    "duration": 37,
    "start_time": "2021-07-14T14:08:47.788Z"
   },
   {
    "duration": 563,
    "start_time": "2021-07-14T14:08:53.590Z"
   },
   {
    "duration": 1498,
    "start_time": "2021-07-14T14:09:04.137Z"
   },
   {
    "duration": 59,
    "start_time": "2021-07-14T14:09:10.197Z"
   },
   {
    "duration": 4,
    "start_time": "2021-07-14T14:09:25.581Z"
   },
   {
    "duration": 4,
    "start_time": "2021-07-14T14:09:29.104Z"
   },
   {
    "duration": 553,
    "start_time": "2021-07-14T14:09:30.880Z"
   },
   {
    "duration": 4,
    "start_time": "2021-07-14T14:11:13.315Z"
   },
   {
    "duration": 266,
    "start_time": "2021-07-14T14:11:15.551Z"
   },
   {
    "duration": 4,
    "start_time": "2021-07-14T14:11:24.937Z"
   },
   {
    "duration": 4,
    "start_time": "2021-07-14T14:11:25.748Z"
   },
   {
    "duration": 538,
    "start_time": "2021-07-14T14:11:29.629Z"
   },
   {
    "duration": 1180,
    "start_time": "2021-07-14T14:13:30.184Z"
   },
   {
    "duration": 4,
    "start_time": "2021-07-14T14:13:58.201Z"
   },
   {
    "duration": 4,
    "start_time": "2021-07-14T14:13:59.374Z"
   },
   {
    "duration": 911,
    "start_time": "2021-07-14T14:14:00.023Z"
   },
   {
    "duration": 13,
    "start_time": "2021-07-14T14:15:28.626Z"
   },
   {
    "duration": 22,
    "start_time": "2021-07-14T14:15:46.783Z"
   },
   {
    "duration": 12,
    "start_time": "2021-07-14T14:15:49.014Z"
   },
   {
    "duration": 18,
    "start_time": "2021-07-14T14:15:54.715Z"
   },
   {
    "duration": 10,
    "start_time": "2021-07-14T14:16:27.718Z"
   },
   {
    "duration": 4,
    "start_time": "2021-07-14T14:16:36.584Z"
   },
   {
    "duration": 4,
    "start_time": "2021-07-14T14:16:37.226Z"
   },
   {
    "duration": 7300,
    "start_time": "2021-07-14T14:16:42.113Z"
   },
   {
    "duration": 826,
    "start_time": "2021-07-14T14:16:56.586Z"
   },
   {
    "duration": 844,
    "start_time": "2021-07-14T14:17:07.375Z"
   },
   {
    "duration": 34,
    "start_time": "2021-07-14T14:17:08.790Z"
   },
   {
    "duration": 967,
    "start_time": "2021-07-14T14:18:03.630Z"
   },
   {
    "duration": 35,
    "start_time": "2021-07-14T14:18:13.800Z"
   },
   {
    "duration": 6,
    "start_time": "2021-07-14T14:18:16.454Z"
   },
   {
    "duration": 8,
    "start_time": "2021-07-14T14:18:17.079Z"
   },
   {
    "duration": 851,
    "start_time": "2021-07-14T14:18:19.247Z"
   },
   {
    "duration": 843,
    "start_time": "2021-07-14T14:18:26.556Z"
   },
   {
    "duration": 5,
    "start_time": "2021-07-14T14:18:42.149Z"
   },
   {
    "duration": 5,
    "start_time": "2021-07-14T14:18:42.756Z"
   },
   {
    "duration": 1299,
    "start_time": "2021-07-14T14:18:43.397Z"
   },
   {
    "duration": 17,
    "start_time": "2021-07-14T14:19:58.704Z"
   },
   {
    "duration": 4,
    "start_time": "2021-07-14T14:20:10.580Z"
   },
   {
    "duration": 4,
    "start_time": "2021-07-14T14:20:10.973Z"
   },
   {
    "duration": 11718,
    "start_time": "2021-07-14T14:20:19.384Z"
   },
   {
    "duration": -69,
    "start_time": "2021-07-14T14:20:31.174Z"
   },
   {
    "duration": 293,
    "start_time": "2021-07-14T14:20:36.707Z"
   },
   {
    "duration": 26,
    "start_time": "2021-07-14T14:21:06.866Z"
   },
   {
    "duration": 23,
    "start_time": "2021-07-14T14:21:12.260Z"
   },
   {
    "duration": 9,
    "start_time": "2021-07-14T14:21:17.848Z"
   },
   {
    "duration": 301,
    "start_time": "2021-07-14T14:22:45.172Z"
   },
   {
    "duration": 274,
    "start_time": "2021-07-14T14:25:01.835Z"
   },
   {
    "duration": 257,
    "start_time": "2021-07-14T14:25:29.424Z"
   },
   {
    "duration": 261,
    "start_time": "2021-07-14T14:25:38.261Z"
   },
   {
    "duration": 301,
    "start_time": "2021-07-14T14:25:47.665Z"
   },
   {
    "duration": 7,
    "start_time": "2021-07-14T14:27:23.244Z"
   },
   {
    "duration": 296,
    "start_time": "2021-07-14T14:27:37.294Z"
   },
   {
    "duration": 300,
    "start_time": "2021-07-14T14:28:25.249Z"
   },
   {
    "duration": 17,
    "start_time": "2021-07-14T14:29:31.942Z"
   },
   {
    "duration": 19,
    "start_time": "2021-07-14T14:29:38.374Z"
   },
   {
    "duration": 91,
    "start_time": "2021-07-14T14:31:10.619Z"
   },
   {
    "duration": 10943,
    "start_time": "2021-07-14T14:31:21.426Z"
   },
   {
    "duration": 5,
    "start_time": "2021-07-14T14:31:43.128Z"
   },
   {
    "duration": 16,
    "start_time": "2021-07-14T14:31:46.283Z"
   },
   {
    "duration": 4,
    "start_time": "2021-07-14T14:31:56.288Z"
   },
   {
    "duration": 40,
    "start_time": "2021-07-14T14:31:59.025Z"
   },
   {
    "duration": 13,
    "start_time": "2021-07-14T14:32:11.878Z"
   },
   {
    "duration": 44,
    "start_time": "2021-07-14T14:32:17.727Z"
   },
   {
    "duration": 27,
    "start_time": "2021-07-14T14:32:23.064Z"
   },
   {
    "duration": 4,
    "start_time": "2021-07-14T14:32:35.626Z"
   },
   {
    "duration": 325,
    "start_time": "2021-07-14T14:32:43.921Z"
   },
   {
    "duration": 263,
    "start_time": "2021-07-14T14:33:01.983Z"
   },
   {
    "duration": 13,
    "start_time": "2021-07-14T14:33:08.820Z"
   },
   {
    "duration": 817,
    "start_time": "2021-07-14T14:33:26.095Z"
   },
   {
    "duration": 267,
    "start_time": "2021-07-14T14:33:33.451Z"
   },
   {
    "duration": 361,
    "start_time": "2021-07-14T14:34:14.077Z"
   },
   {
    "duration": 13018,
    "start_time": "2021-07-14T14:35:46.203Z"
   },
   {
    "duration": 3841,
    "start_time": "2021-07-14T14:35:59.224Z"
   },
   {
    "duration": 4912,
    "start_time": "2021-07-14T14:36:03.069Z"
   },
   {
    "duration": 7,
    "start_time": "2021-07-14T14:36:22.721Z"
   },
   {
    "duration": 4,
    "start_time": "2021-07-14T14:36:39.911Z"
   },
   {
    "duration": 305,
    "start_time": "2021-07-14T14:36:49.385Z"
   },
   {
    "duration": 4393,
    "start_time": "2021-07-14T14:37:00.827Z"
   },
   {
    "duration": 5735,
    "start_time": "2021-07-14T14:37:05.223Z"
   },
   {
    "duration": 3776,
    "start_time": "2021-07-14T14:37:10.961Z"
   },
   {
    "duration": 4,
    "start_time": "2021-07-14T14:37:14.740Z"
   },
   {
    "duration": 2424,
    "start_time": "2021-07-14T14:37:14.747Z"
   },
   {
    "duration": 98,
    "start_time": "2021-07-14T14:37:22.791Z"
   },
   {
    "duration": 5,
    "start_time": "2021-07-14T14:37:27.293Z"
   },
   {
    "duration": 15,
    "start_time": "2021-07-14T14:37:34.542Z"
   },
   {
    "duration": 4,
    "start_time": "2021-07-14T14:37:45.018Z"
   },
   {
    "duration": 41,
    "start_time": "2021-07-14T14:37:46.013Z"
   },
   {
    "duration": 13,
    "start_time": "2021-07-14T14:37:49.650Z"
   },
   {
    "duration": 19,
    "start_time": "2021-07-14T14:37:56.740Z"
   },
   {
    "duration": 5,
    "start_time": "2021-07-14T14:38:06.737Z"
   },
   {
    "duration": 4,
    "start_time": "2021-07-14T14:38:13.005Z"
   },
   {
    "duration": 4,
    "start_time": "2021-07-14T14:38:15.849Z"
   },
   {
    "duration": 435,
    "start_time": "2021-07-14T14:38:27.890Z"
   },
   {
    "duration": 9,
    "start_time": "2021-07-14T14:41:10.801Z"
   },
   {
    "duration": 21,
    "start_time": "2021-07-14T14:41:37.652Z"
   },
   {
    "duration": 38,
    "start_time": "2021-07-14T14:41:48.412Z"
   },
   {
    "duration": 800,
    "start_time": "2021-07-14T14:42:16.131Z"
   },
   {
    "duration": 50,
    "start_time": "2021-07-14T14:42:20.220Z"
   },
   {
    "duration": 437,
    "start_time": "2021-07-14T15:14:27.033Z"
   },
   {
    "duration": 10684,
    "start_time": "2021-07-14T15:22:03.519Z"
   },
   {
    "duration": 7289,
    "start_time": "2021-07-14T15:22:14.206Z"
   },
   {
    "duration": 5649,
    "start_time": "2021-07-14T15:22:21.498Z"
   },
   {
    "duration": 4,
    "start_time": "2021-07-14T15:22:27.150Z"
   },
   {
    "duration": 2465,
    "start_time": "2021-07-14T15:22:27.156Z"
   },
   {
    "duration": 111,
    "start_time": "2021-07-14T15:22:29.623Z"
   },
   {
    "duration": 23,
    "start_time": "2021-07-14T15:22:29.736Z"
   },
   {
    "duration": 5,
    "start_time": "2021-07-14T15:22:29.762Z"
   },
   {
    "duration": 180,
    "start_time": "2021-07-14T15:22:29.769Z"
   },
   {
    "duration": 358,
    "start_time": "2021-07-14T15:22:29.951Z"
   },
   {
    "duration": 18,
    "start_time": "2021-07-14T15:22:30.311Z"
   },
   {
    "duration": 526,
    "start_time": "2021-07-14T15:22:30.413Z"
   },
   {
    "duration": 5,
    "start_time": "2021-07-14T15:22:32.254Z"
   },
   {
    "duration": 4,
    "start_time": "2021-07-14T15:22:35.966Z"
   },
   {
    "duration": 42,
    "start_time": "2021-07-14T15:22:37.511Z"
   },
   {
    "duration": 7,
    "start_time": "2021-07-14T15:22:51.491Z"
   },
   {
    "duration": 11,
    "start_time": "2021-07-14T15:23:44.878Z"
   },
   {
    "duration": 10,
    "start_time": "2021-07-14T15:24:08.226Z"
   },
   {
    "duration": 6,
    "start_time": "2021-07-14T15:24:15.352Z"
   },
   {
    "duration": 8502,
    "start_time": "2021-07-14T15:24:16.579Z"
   },
   {
    "duration": 7937,
    "start_time": "2021-07-14T15:24:39.832Z"
   },
   {
    "duration": 8584,
    "start_time": "2021-07-14T15:25:24.480Z"
   },
   {
    "duration": 89,
    "start_time": "2021-07-14T15:25:47.894Z"
   },
   {
    "duration": 342,
    "start_time": "2021-07-14T15:25:56.096Z"
   },
   {
    "duration": 344,
    "start_time": "2021-07-14T15:26:11.431Z"
   },
   {
    "duration": 87,
    "start_time": "2021-07-14T15:26:23.025Z"
   },
   {
    "duration": 23,
    "start_time": "2021-07-14T15:26:24.383Z"
   },
   {
    "duration": 4,
    "start_time": "2021-07-14T15:26:26.214Z"
   },
   {
    "duration": 92,
    "start_time": "2021-07-14T15:26:27.672Z"
   },
   {
    "duration": 334,
    "start_time": "2021-07-14T15:26:30.305Z"
   },
   {
    "duration": 16,
    "start_time": "2021-07-14T15:26:32.807Z"
   },
   {
    "duration": 520,
    "start_time": "2021-07-14T15:26:33.919Z"
   },
   {
    "duration": 5,
    "start_time": "2021-07-14T15:26:35.703Z"
   },
   {
    "duration": 4,
    "start_time": "2021-07-14T15:26:39.599Z"
   },
   {
    "duration": 41,
    "start_time": "2021-07-14T15:26:42.767Z"
   },
   {
    "duration": 4,
    "start_time": "2021-07-14T15:26:46.331Z"
   },
   {
    "duration": 16,
    "start_time": "2021-07-14T15:26:47.754Z"
   },
   {
    "duration": 299,
    "start_time": "2021-07-14T15:26:55.188Z"
   },
   {
    "duration": 22,
    "start_time": "2021-07-14T15:27:38.559Z"
   },
   {
    "duration": 25,
    "start_time": "2021-07-14T15:27:44.139Z"
   },
   {
    "duration": 18,
    "start_time": "2021-07-14T15:27:46.164Z"
   },
   {
    "duration": 6,
    "start_time": "2021-07-14T15:27:48.914Z"
   },
   {
    "duration": 4,
    "start_time": "2021-07-14T15:27:53.418Z"
   },
   {
    "duration": 12,
    "start_time": "2021-07-14T15:28:13.628Z"
   },
   {
    "duration": 13,
    "start_time": "2021-07-14T15:28:16.670Z"
   },
   {
    "duration": 4,
    "start_time": "2021-07-14T15:28:18.895Z"
   },
   {
    "duration": 3,
    "start_time": "2021-07-14T15:28:21.983Z"
   },
   {
    "duration": 4,
    "start_time": "2021-07-14T15:28:24.615Z"
   },
   {
    "duration": 655891,
    "start_time": "2021-07-14T15:28:25.923Z"
   },
   {
    "duration": 67,
    "start_time": "2021-07-14T15:43:58.036Z"
   },
   {
    "duration": 67,
    "start_time": "2021-07-14T15:44:14.379Z"
   },
   {
    "duration": 6,
    "start_time": "2021-07-14T15:44:15.426Z"
   },
   {
    "duration": 4,
    "start_time": "2021-07-14T15:47:38.669Z"
   },
   {
    "duration": 4,
    "start_time": "2021-07-14T15:47:39.759Z"
   },
   {
    "duration": 5,
    "start_time": "2021-07-14T15:47:41.855Z"
   },
   {
    "duration": 233,
    "start_time": "2021-07-14T15:47:48.049Z"
   },
   {
    "duration": 5,
    "start_time": "2021-07-14T16:23:43.709Z"
   },
   {
    "duration": 4,
    "start_time": "2021-07-14T16:23:46.572Z"
   },
   {
    "duration": 553,
    "start_time": "2021-07-14T16:23:51.680Z"
   },
   {
    "duration": 110,
    "start_time": "2021-07-14T16:24:26.287Z"
   },
   {
    "duration": 5,
    "start_time": "2021-07-14T16:24:43.403Z"
   },
   {
    "duration": 3,
    "start_time": "2021-07-14T16:24:44.579Z"
   },
   {
    "duration": 4,
    "start_time": "2021-07-14T16:24:45.051Z"
   },
   {
    "duration": 384,
    "start_time": "2021-07-14T16:25:31.873Z"
   },
   {
    "duration": 5,
    "start_time": "2021-07-14T16:26:06.236Z"
   },
   {
    "duration": 4,
    "start_time": "2021-07-14T16:26:06.703Z"
   },
   {
    "duration": 350,
    "start_time": "2021-07-14T16:26:07.144Z"
   },
   {
    "duration": 4,
    "start_time": "2021-07-14T16:26:59.232Z"
   },
   {
    "duration": 242,
    "start_time": "2021-07-14T16:27:09.314Z"
   },
   {
    "duration": 13951,
    "start_time": "2021-07-15T12:03:18.762Z"
   },
   {
    "duration": 5857,
    "start_time": "2021-07-15T12:03:32.716Z"
   },
   {
    "duration": 5105,
    "start_time": "2021-07-15T12:03:38.576Z"
   },
   {
    "duration": 4,
    "start_time": "2021-07-15T12:03:43.685Z"
   },
   {
    "duration": 6,
    "start_time": "2021-07-15T12:03:43.692Z"
   },
   {
    "duration": 2073,
    "start_time": "2021-07-15T12:03:43.700Z"
   },
   {
    "duration": 112,
    "start_time": "2021-07-15T12:03:45.776Z"
   },
   {
    "duration": 22,
    "start_time": "2021-07-15T12:03:45.902Z"
   },
   {
    "duration": 12,
    "start_time": "2021-07-15T12:03:45.927Z"
   },
   {
    "duration": 174,
    "start_time": "2021-07-15T12:03:45.941Z"
   },
   {
    "duration": 362,
    "start_time": "2021-07-15T12:03:46.117Z"
   },
   {
    "duration": 28,
    "start_time": "2021-07-15T12:03:46.481Z"
   },
   {
    "duration": 511,
    "start_time": "2021-07-15T12:03:46.512Z"
   },
   {
    "duration": 5,
    "start_time": "2021-07-15T12:03:47.026Z"
   },
   {
    "duration": 9,
    "start_time": "2021-07-15T12:03:47.033Z"
   },
   {
    "duration": 65,
    "start_time": "2021-07-15T12:03:47.045Z"
   },
   {
    "duration": 2,
    "start_time": "2021-07-15T12:03:47.114Z"
   },
   {
    "duration": 105,
    "start_time": "2021-07-15T12:03:47.119Z"
   },
   {
    "duration": 34,
    "start_time": "2021-07-15T12:03:47.226Z"
   },
   {
    "duration": 42,
    "start_time": "2021-07-15T12:03:47.264Z"
   },
   {
    "duration": 4,
    "start_time": "2021-07-15T12:03:47.309Z"
   },
   {
    "duration": 7,
    "start_time": "2021-07-15T12:03:47.315Z"
   },
   {
    "duration": 14,
    "start_time": "2021-07-15T12:03:48.787Z"
   },
   {
    "duration": 12,
    "start_time": "2021-07-15T12:03:49.555Z"
   },
   {
    "duration": 4,
    "start_time": "2021-07-15T12:03:51.240Z"
   },
   {
    "duration": 3,
    "start_time": "2021-07-15T12:03:52.155Z"
   },
   {
    "duration": 4,
    "start_time": "2021-07-15T12:06:29.520Z"
   },
   {
    "duration": 4,
    "start_time": "2021-07-15T12:06:30.641Z"
   },
   {
    "duration": 5,
    "start_time": "2021-07-15T12:06:31.372Z"
   },
   {
    "duration": 358,
    "start_time": "2021-07-15T12:06:32.212Z"
   },
   {
    "duration": 8,
    "start_time": "2021-07-15T12:07:57.067Z"
   },
   {
    "duration": 210,
    "start_time": "2021-07-15T12:07:58.706Z"
   },
   {
    "duration": 4,
    "start_time": "2021-07-15T12:08:52.959Z"
   },
   {
    "duration": 221,
    "start_time": "2021-07-15T12:08:53.330Z"
   },
   {
    "duration": 5,
    "start_time": "2021-07-15T12:14:23.869Z"
   },
   {
    "duration": 4,
    "start_time": "2021-07-15T12:14:24.348Z"
   },
   {
    "duration": 202,
    "start_time": "2021-07-15T12:14:25.013Z"
   },
   {
    "duration": 307,
    "start_time": "2021-07-15T12:16:01.200Z"
   },
   {
    "duration": 4,
    "start_time": "2021-07-15T12:23:24.358Z"
   },
   {
    "duration": 656,
    "start_time": "2021-07-15T12:23:24.726Z"
   },
   {
    "duration": 240,
    "start_time": "2021-07-15T12:23:28.943Z"
   },
   {
    "duration": 5,
    "start_time": "2021-07-15T12:23:48.457Z"
   },
   {
    "duration": 5,
    "start_time": "2021-07-15T12:23:48.715Z"
   },
   {
    "duration": 175457,
    "start_time": "2021-07-15T12:23:49.019Z"
   },
   {
    "duration": 267,
    "start_time": "2021-07-15T12:27:55.624Z"
   },
   {
    "duration": 51,
    "start_time": "2021-07-15T12:28:14.155Z"
   },
   {
    "duration": 5,
    "start_time": "2021-07-15T12:31:10.894Z"
   },
   {
    "duration": 289,
    "start_time": "2021-07-15T12:31:11.163Z"
   },
   {
    "duration": 269,
    "start_time": "2021-07-15T12:33:32.287Z"
   },
   {
    "duration": 270,
    "start_time": "2021-07-15T12:33:34.072Z"
   },
   {
    "duration": 20,
    "start_time": "2021-07-15T12:33:35.992Z"
   },
   {
    "duration": 283,
    "start_time": "2021-07-15T12:34:19.397Z"
   },
   {
    "duration": 37,
    "start_time": "2021-07-15T12:34:28.765Z"
   },
   {
    "duration": 4,
    "start_time": "2021-07-15T12:34:42.570Z"
   },
   {
    "duration": 294,
    "start_time": "2021-07-15T12:34:43.120Z"
   },
   {
    "duration": 5,
    "start_time": "2021-07-15T12:34:48.040Z"
   },
   {
    "duration": 3,
    "start_time": "2021-07-15T12:34:50.473Z"
   },
   {
    "duration": 552,
    "start_time": "2021-07-15T12:34:50.704Z"
   },
   {
    "duration": 5,
    "start_time": "2021-07-15T12:35:08.081Z"
   },
   {
    "duration": 3,
    "start_time": "2021-07-15T12:35:09.956Z"
   },
   {
    "duration": 12,
    "start_time": "2021-07-15T12:35:10.252Z"
   },
   {
    "duration": 13,
    "start_time": "2021-07-15T12:35:22.132Z"
   },
   {
    "duration": 4,
    "start_time": "2021-07-15T12:43:34.513Z"
   },
   {
    "duration": 626996,
    "start_time": "2021-07-15T12:43:35.160Z"
   },
   {
    "duration": 126,
    "start_time": "2021-07-15T12:57:11.978Z"
   },
   {
    "duration": 18,
    "start_time": "2021-07-15T12:57:16.201Z"
   }
  ],
  "kernelspec": {
   "display_name": "Python 3",
   "language": "python",
   "name": "python3"
  },
  "language_info": {
   "codemirror_mode": {
    "name": "ipython",
    "version": 3
   },
   "file_extension": ".py",
   "mimetype": "text/x-python",
   "name": "python",
   "nbconvert_exporter": "python",
   "pygments_lexer": "ipython3",
   "version": "3.7.4"
  },
  "toc": {
   "base_numbering": 1,
   "nav_menu": {},
   "number_sections": true,
   "sideBar": true,
   "skip_h1_title": true,
   "title_cell": "Содержание",
   "title_sidebar": "Contents",
   "toc_cell": true,
   "toc_position": {},
   "toc_section_display": true,
   "toc_window_display": true
  }
 },
 "nbformat": 4,
 "nbformat_minor": 2
}
